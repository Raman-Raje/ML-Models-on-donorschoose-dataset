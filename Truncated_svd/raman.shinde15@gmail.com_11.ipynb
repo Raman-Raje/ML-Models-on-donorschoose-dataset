{
 "cells": [
  {
   "cell_type": "markdown",
   "metadata": {
    "colab_type": "text",
    "id": "rLI2q0YNV4X-"
   },
   "source": [
    "# Assignment 11: Truncated SVD"
   ]
  },
  {
   "cell_type": "markdown",
   "metadata": {
    "colab_type": "text",
    "id": "X3Cng-j3PSHV"
   },
   "source": [
    "<h2>Data splitting and pre-processing</h2>"
   ]
  },
  {
   "cell_type": "code",
   "execution_count": 1,
   "metadata": {
    "colab": {},
    "colab_type": "code",
    "id": "lewMoL1qPKCA"
   },
   "outputs": [],
   "source": [
    "%matplotlib inline\n",
    "import warnings\n",
    "warnings.filterwarnings(\"ignore\")\n",
    "\n",
    "import sqlite3\n",
    "import pandas as pd\n",
    "import numpy as np\n",
    "import nltk\n",
    "import string\n",
    "import matplotlib.pyplot as plt\n",
    "import seaborn as sns\n",
    "\n",
    "from sklearn.feature_extraction.text import TfidfTransformer\n",
    "from sklearn.feature_extraction.text import TfidfVectorizer\n",
    "from sklearn.model_selection import train_test_split\n",
    "from sklearn.feature_extraction.text import CountVectorizer\n",
    "from sklearn.metrics import confusion_matrix\n",
    "from sklearn import metrics\n",
    "from sklearn.metrics import roc_curve, auc\n",
    "from nltk.stem.porter import PorterStemmer\n",
    "\n",
    "import re\n",
    "# Tutorial about Python regular expressions: https://pymotw.com/2/re/\n",
    "import string\n",
    "from nltk.corpus import stopwords\n",
    "from nltk.stem import PorterStemmer\n",
    "from nltk.stem.wordnet import WordNetLemmatizer\n",
    "\n",
    "\n",
    "import pickle\n",
    "from tqdm import tqdm\n",
    "import os\n",
    "from collections import Counter\n",
    "\n"
   ]
  },
  {
   "cell_type": "code",
   "execution_count": 2,
   "metadata": {
    "colab": {
     "base_uri": "https://localhost:8080/",
     "height": 51
    },
    "colab_type": "code",
    "id": "qPM0MLm4Plsf",
    "outputId": "5022f492-2845-4f72-e890-a6065481f063"
   },
   "outputs": [],
   "source": [
    "project_data = pd.read_csv('train_data.csv')\n",
    "resource_data = pd.read_csv('resources.csv')"
   ]
  },
  {
   "cell_type": "code",
   "execution_count": 3,
   "metadata": {
    "colab": {
     "base_uri": "https://localhost:8080/",
     "height": 323
    },
    "colab_type": "code",
    "id": "IA9SkvIMPr_O",
    "outputId": "b0c4a651-f26e-4b07-9642-96c25830ef0e"
   },
   "outputs": [
    {
     "data": {
      "text/plain": [
       "Unnamed: 0                                           0\n",
       "id                                                   0\n",
       "teacher_id                                           0\n",
       "teacher_prefix                                       3\n",
       "school_state                                         0\n",
       "project_submitted_datetime                           0\n",
       "project_grade_category                               0\n",
       "project_subject_categories                           0\n",
       "project_subject_subcategories                        0\n",
       "project_title                                        0\n",
       "project_essay_1                                      0\n",
       "project_essay_2                                      0\n",
       "project_essay_3                                 105490\n",
       "project_essay_4                                 105490\n",
       "project_resource_summary                             0\n",
       "teacher_number_of_previously_posted_projects         0\n",
       "project_is_approved                                  0\n",
       "dtype: int64"
      ]
     },
     "execution_count": 3,
     "metadata": {},
     "output_type": "execute_result"
    }
   ],
   "source": [
    "project_data.isnull().sum()"
   ]
  },
  {
   "cell_type": "code",
   "execution_count": 4,
   "metadata": {
    "colab": {
     "base_uri": "https://localhost:8080/",
     "height": 323
    },
    "colab_type": "code",
    "id": "siNALwSaPsZ-",
    "outputId": "d39920d9-7b11-497e-e8b1-34ffbf0fc18d"
   },
   "outputs": [
    {
     "data": {
      "text/plain": [
       "Unnamed: 0                                           0\n",
       "id                                                   0\n",
       "teacher_id                                           0\n",
       "teacher_prefix                                       0\n",
       "school_state                                         0\n",
       "project_submitted_datetime                           0\n",
       "project_grade_category                               0\n",
       "project_subject_categories                           0\n",
       "project_subject_subcategories                        0\n",
       "project_title                                        0\n",
       "project_essay_1                                      0\n",
       "project_essay_2                                      0\n",
       "project_essay_3                                 105490\n",
       "project_essay_4                                 105490\n",
       "project_resource_summary                             0\n",
       "teacher_number_of_previously_posted_projects         0\n",
       "project_is_approved                                  0\n",
       "dtype: int64"
      ]
     },
     "execution_count": 4,
     "metadata": {},
     "output_type": "execute_result"
    }
   ],
   "source": [
    "#filling 3 null teacher prefix values with Teacher\n",
    "\n",
    "project_data[\"teacher_prefix\"].fillna(\"Teacher\",inplace = True)\n",
    "project_data.isnull().sum()"
   ]
  },
  {
   "cell_type": "code",
   "execution_count": 5,
   "metadata": {
    "colab": {},
    "colab_type": "code",
    "id": "ATad1wN-RY2S"
   },
   "outputs": [],
   "source": [
    "# merge two column text dataframe: \n",
    "project_data[\"essay\"] = project_data[\"project_essay_1\"].map(str) +\\\n",
    "                        project_data[\"project_essay_2\"].map(str) + \\\n",
    "                        project_data[\"project_essay_3\"].map(str) + \\\n",
    "                        project_data[\"project_essay_4\"].map(str)"
   ]
  },
  {
   "cell_type": "code",
   "execution_count": 6,
   "metadata": {
    "colab": {},
    "colab_type": "code",
    "id": "trU7b15NRnEV"
   },
   "outputs": [],
   "source": [
    "price_data = resource_data.groupby('id').agg({'price':'sum', 'quantity':'sum'}).reset_index()\n",
    "project_data = pd.merge(project_data, price_data, on='id', how='left')"
   ]
  },
  {
   "cell_type": "code",
   "execution_count": 7,
   "metadata": {
    "colab": {
     "base_uri": "https://localhost:8080/",
     "height": 442
    },
    "colab_type": "code",
    "id": "HT9ROH0CRszV",
    "outputId": "06eec929-ab69-436a-fb9a-1c4c82947e90"
   },
   "outputs": [
    {
     "name": "stdout",
     "output_type": "stream",
     "text": [
      "<class 'pandas.core.frame.DataFrame'>\n",
      "Int64Index: 109248 entries, 0 to 109247\n",
      "Data columns (total 20 columns):\n",
      "Unnamed: 0                                      109248 non-null int64\n",
      "id                                              109248 non-null object\n",
      "teacher_id                                      109248 non-null object\n",
      "teacher_prefix                                  109248 non-null object\n",
      "school_state                                    109248 non-null object\n",
      "project_submitted_datetime                      109248 non-null object\n",
      "project_grade_category                          109248 non-null object\n",
      "project_subject_categories                      109248 non-null object\n",
      "project_subject_subcategories                   109248 non-null object\n",
      "project_title                                   109248 non-null object\n",
      "project_essay_1                                 109248 non-null object\n",
      "project_essay_2                                 109248 non-null object\n",
      "project_essay_3                                 3758 non-null object\n",
      "project_essay_4                                 3758 non-null object\n",
      "project_resource_summary                        109248 non-null object\n",
      "teacher_number_of_previously_posted_projects    109248 non-null int64\n",
      "project_is_approved                             109248 non-null int64\n",
      "essay                                           109248 non-null object\n",
      "price                                           109248 non-null float64\n",
      "quantity                                        109248 non-null int64\n",
      "dtypes: float64(1), int64(4), object(15)\n",
      "memory usage: 17.5+ MB\n"
     ]
    }
   ],
   "source": [
    "project_data.info()"
   ]
  },
  {
   "cell_type": "markdown",
   "metadata": {
    "colab_type": "text",
    "id": "d88t4-YBV4YX"
   },
   "source": [
    "**Considering only 20k train , 5k validation and 5k test data points**"
   ]
  },
  {
   "cell_type": "code",
   "execution_count": 8,
   "metadata": {
    "colab": {},
    "colab_type": "code",
    "id": "GCQDRGzvV4YY"
   },
   "outputs": [],
   "source": [
    "from sklearn.utils import resample\n",
    "p_d = resample(project_data,n_samples = 20000)"
   ]
  },
  {
   "cell_type": "code",
   "execution_count": 9,
   "metadata": {
    "colab": {},
    "colab_type": "code",
    "id": "SbegQOKqSVcs"
   },
   "outputs": [],
   "source": [
    "#splitting data as 30% to test\n",
    "y = p_d[\"project_is_approved\"]\n",
    "X = p_d.drop(\"project_is_approved\",axis = 1)\n",
    "X_train, X_test, y_train, y_test = train_test_split(X, y, test_size=0.25, random_state=42)\n",
    "X_train, X_val, y_train, y_val = train_test_split(X_train, y_train, test_size=0.33, random_state=42)"
   ]
  },
  {
   "cell_type": "code",
   "execution_count": 10,
   "metadata": {
    "colab": {
     "base_uri": "https://localhost:8080/",
     "height": 68
    },
    "colab_type": "code",
    "id": "JQGLE_zmTKf0",
    "outputId": "95576d33-499b-4d0c-cffa-d78f77013405"
   },
   "outputs": [
    {
     "name": "stdout",
     "output_type": "stream",
     "text": [
      "(10050, 19)   (10050,)\n",
      "(5000, 19)   (5000,)\n",
      "(4950, 19)   (4950,)\n"
     ]
    }
   ],
   "source": [
    "print(X_train.shape,\" \",y_train.shape)\n",
    "print(X_test.shape,\" \",y_test.shape)\n",
    "print(X_val.shape,\" \",y_val.shape)"
   ]
  },
  {
   "cell_type": "markdown",
   "metadata": {
    "colab_type": "text",
    "id": "QhpUJR3OUK2e"
   },
   "source": [
    "<h3>Preprocessing categorical Features</h3>"
   ]
  },
  {
   "cell_type": "markdown",
   "metadata": {
    "colab_type": "text",
    "id": "GsCOdDNaYles"
   },
   "source": [
    "1. project subject categories"
   ]
  },
  {
   "cell_type": "code",
   "execution_count": 11,
   "metadata": {
    "colab": {},
    "colab_type": "code",
    "id": "6debBmfkTSJI"
   },
   "outputs": [],
   "source": [
    "#using code from assignment\n",
    "# project subject categories\n",
    "catogories = list(X_train['project_subject_categories'].values)\n",
    "\n",
    "cat_list = []\n",
    "for i in catogories:\n",
    "    temp = \"\"\n",
    "    for j in i.split(','): \n",
    "        if 'The' in j.split(): \n",
    "            j=j.replace('The','') \n",
    "        j = j.replace(' ','') \n",
    "        temp+=j.strip()+\" \" \n",
    "        temp = temp.replace('&','_') \n",
    "    cat_list.append(temp.strip())\n",
    "    \n",
    "X_train['clean_categories'] = cat_list\n",
    "X_train.drop(['project_subject_categories'], axis=1, inplace=True)\n",
    "\n",
    "from collections import Counter\n",
    "my_counter = Counter()\n",
    "for word in X_train['clean_categories'].values:\n",
    "    my_counter.update(word.split())\n",
    "\n",
    "cat_dict = dict(my_counter)\n",
    "sorted_cat_dict = dict(sorted(cat_dict.items(), key=lambda kv: kv[1]))\n",
    "\n",
    "\n",
    "# project subject categories for test data\n",
    "\n",
    "catogories = list(X_test['project_subject_categories'].values)\n",
    "\n",
    "cat_list = []\n",
    "for i in catogories:\n",
    "    temp = \"\"\n",
    "    for j in i.split(','): \n",
    "        if 'The' in j.split(): \n",
    "            j=j.replace('The','') \n",
    "        j = j.replace(' ','') \n",
    "        temp+=j.strip()+\" \" \n",
    "        temp = temp.replace('&','_') \n",
    "    cat_list.append(temp.strip())\n",
    "    \n",
    "X_test['clean_categories'] = cat_list\n",
    "X_test.drop(['project_subject_categories'], axis=1, inplace=True)\n",
    "\n",
    "# project subject categories for test data\n",
    "\n",
    "catogories = list(X_val['project_subject_categories'].values)\n",
    "\n",
    "cat_list = []\n",
    "for i in catogories:\n",
    "    temp = \"\"\n",
    "    for j in i.split(','): \n",
    "        if 'The' in j.split(): \n",
    "            j=j.replace('The','') \n",
    "        j = j.replace(' ','') \n",
    "        temp+=j.strip()+\" \" \n",
    "        temp = temp.replace('&','_') \n",
    "    cat_list.append(temp.strip())\n",
    "    \n",
    "X_val['clean_categories'] = cat_list\n",
    "X_val.drop(['project_subject_categories'], axis=1, inplace=True)\n"
   ]
  },
  {
   "cell_type": "markdown",
   "metadata": {
    "colab_type": "text",
    "id": "WP05nZ3LYsl8"
   },
   "source": [
    "2. project subject sub_categories"
   ]
  },
  {
   "cell_type": "code",
   "execution_count": 12,
   "metadata": {
    "colab": {},
    "colab_type": "code",
    "id": "CXHY_LlDYzAr"
   },
   "outputs": [],
   "source": [
    "sub_catogories = list(X_train['project_subject_subcategories'].values)\n",
    "sub_cat_list = []\n",
    "for i in sub_catogories:\n",
    "    temp = \"\"\n",
    "    for j in i.split(','): \n",
    "        if 'The' in j.split(): # this will split each of the catogory based on space \"Math & Science\"=> \"Math\",\"&\", \"Science\"\n",
    "            j=j.replace('The','') # if we have the words \"The\" we are going to replace it with ''(i.e removing 'The')\n",
    "        j = j.replace(' ','') \n",
    "        temp +=j.strip()+\" \"\n",
    "        temp = temp.replace('&','_')\n",
    "    sub_cat_list.append(temp.strip())\n",
    "\n",
    "X_train['clean_subcategories'] = sub_cat_list\n",
    "X_train.drop(['project_subject_subcategories'], axis=1, inplace=True)\n",
    "\n",
    "# count of all the words in corpus python: https://stackoverflow.com/a/22898595/4084039\n",
    "my_counter = Counter()\n",
    "for word in X_train['clean_subcategories'].values:\n",
    "    my_counter.update(word.split())\n",
    "    \n",
    "sub_cat_dict = dict(my_counter)\n",
    "sorted_sub_cat_dict = dict(sorted(sub_cat_dict.items(), key=lambda kv: kv[1]))\n",
    "\n",
    "\n",
    "sub_catogories = list(X_test['project_subject_subcategories'].values)\n",
    "sub_cat_list = []\n",
    "for i in sub_catogories:\n",
    "    temp = \"\"\n",
    "    for j in i.split(','): \n",
    "        if 'The' in j.split(): # this will split each of the catogory based on space \"Math & Science\"=> \"Math\",\"&\", \"Science\"\n",
    "            j=j.replace('The','') # if we have the words \"The\" we are going to replace it with ''(i.e removing 'The')\n",
    "        j = j.replace(' ','') \n",
    "        temp +=j.strip()+\" \"\n",
    "        temp = temp.replace('&','_')\n",
    "    sub_cat_list.append(temp.strip())\n",
    "\n",
    "X_test['clean_subcategories'] = sub_cat_list\n",
    "X_test.drop(['project_subject_subcategories'], axis=1, inplace=True)\n",
    "\n",
    "\n",
    "# for validation data set\n",
    "sub_catogories = list(X_val['project_subject_subcategories'].values)\n",
    "sub_cat_list = []\n",
    "for i in sub_catogories:\n",
    "    temp = \"\"\n",
    "    for j in i.split(','): \n",
    "        if 'The' in j.split(): # this will split each of the catogory based on space \"Math & Science\"=> \"Math\",\"&\", \"Science\"\n",
    "            j=j.replace('The','') # if we have the words \"The\" we are going to replace it with ''(i.e removing 'The')\n",
    "        j = j.replace(' ','') \n",
    "        temp +=j.strip()+\" \"\n",
    "        temp = temp.replace('&','_')\n",
    "    sub_cat_list.append(temp.strip())\n",
    "\n",
    "X_val['clean_subcategories'] = sub_cat_list\n",
    "X_val.drop(['project_subject_subcategories'], axis=1, inplace=True)"
   ]
  },
  {
   "cell_type": "markdown",
   "metadata": {
    "colab_type": "text",
    "id": "x3EzCokMYz9u"
   },
   "source": [
    "3. Teacher Prefix"
   ]
  },
  {
   "cell_type": "code",
   "execution_count": 13,
   "metadata": {
    "colab": {
     "base_uri": "https://localhost:8080/",
     "height": 34
    },
    "colab_type": "code",
    "id": "aZWXIyLXY3xm",
    "outputId": "b0f73c98-a0b4-4c46-df30-9ad6cab47fed"
   },
   "outputs": [
    {
     "name": "stdout",
     "output_type": "stream",
     "text": [
      "{'Dr': 1, 'Teacher': 227, 'Mr': 994, 'Ms': 3532, 'Mrs': 5296}\n"
     ]
    }
   ],
   "source": [
    "#preprocessing teacher prefix\n",
    "prefix = list(X_train['teacher_prefix'].values)\n",
    "prefix_list = []\n",
    "for i in prefix:\n",
    "    temp = \"\"\n",
    "    if \".\" in i: \n",
    "            i=i.replace('.','') \n",
    "    temp+=i.strip()+\" \" \n",
    "    prefix_list.append(temp.strip())\n",
    "    \n",
    "X_train['clean_prefix'] = prefix_list\n",
    "\n",
    "my_counter = Counter()\n",
    "for word in X_train['clean_prefix'].values:\n",
    "  my_counter.update(word.split())\n",
    "\n",
    "prefix_dict = dict(my_counter)\n",
    "sorted_prefix_dict = dict(sorted(prefix_dict.items(), key=lambda kv: kv[1]))\n",
    "print(sorted_prefix_dict)\n",
    "\n",
    "\n",
    "#preprocessing teacher prefix for test data\n",
    "prefix = list(X_test['teacher_prefix'].values)\n",
    "prefix_list = []\n",
    "for i in prefix:\n",
    "    temp = \"\"\n",
    "    if \".\" in i: \n",
    "            i=i.replace('.','') \n",
    "    temp+=i.strip()+\" \" \n",
    "    prefix_list.append(temp.strip())\n",
    "    \n",
    "X_test['clean_prefix'] = prefix_list\n",
    "\n",
    "#preprocessing teacher prefix for val data\n",
    "prefix = list(X_val['teacher_prefix'].values)\n",
    "prefix_list = []\n",
    "for i in prefix:\n",
    "    temp = \"\"\n",
    "    if \".\" in i: \n",
    "            i=i.replace('.','') \n",
    "    temp+=i.strip()+\" \" \n",
    "    prefix_list.append(temp.strip())\n",
    "    \n",
    "X_val['clean_prefix'] = prefix_list"
   ]
  },
  {
   "cell_type": "markdown",
   "metadata": {
    "colab_type": "text",
    "id": "dCTZv1UBY39O"
   },
   "source": [
    "4. Project Grade Category"
   ]
  },
  {
   "cell_type": "code",
   "execution_count": 14,
   "metadata": {
    "colab": {
     "base_uri": "https://localhost:8080/",
     "height": 34
    },
    "colab_type": "code",
    "id": "cV39B9gFY7sd",
    "outputId": "790ab09c-a307-4695-ec63-18d09cfb5ede"
   },
   "outputs": [
    {
     "name": "stdout",
     "output_type": "stream",
     "text": [
      "{'nine_twelve': 1039, 'six_eight': 1519, 'three_five': 3448, 'prek_two': 4044}\n"
     ]
    }
   ],
   "source": [
    "# preprocessing of grade category for train data\n",
    "\n",
    "grade = list(X_train['project_grade_category'].values)\n",
    "grade_list = []\n",
    "for i in grade:\n",
    "    temp = \"\"\n",
    "    if \"Grades\" in i:\n",
    "      i = i.replace(\"Grades\",\"\")\n",
    "    if \"6-8\" in i:\n",
    "      i = i.replace(\"6-8\",\"six_eight\")\n",
    "    if \"3-5\" in i:\n",
    "      i = i.replace(\"3-5\",\"three_five\")\n",
    "    if \"9-12\" in i:\n",
    "      i = i.replace(\"9-12\",\"nine_twelve\")\n",
    "    if \"PreK-2\" in i:\n",
    "      i = i.replace(\"PreK-2\",\"prek_two\")\n",
    "    temp+=i.strip()+\" \" \n",
    "    grade_list.append(temp.strip())\n",
    "    \n",
    "X_train['clean_grade'] = grade_list\n",
    "\n",
    "my_counter = Counter()\n",
    "for word in X_train['clean_grade'].values:\n",
    "  my_counter.update(word.split())\n",
    "\n",
    "grade_dict = dict(my_counter)\n",
    "sorted_grade_dict = dict(sorted(grade_dict.items(), key=lambda kv: kv[1]))\n",
    "print(sorted_grade_dict)\n",
    "\n",
    "# preprocessing of grade category for test data\n",
    "\n",
    "grade = list(X_test['project_grade_category'].values)\n",
    "grade_list = []\n",
    "for i in grade:\n",
    "    temp = \"\"\n",
    "    if \"Grades\" in i:\n",
    "      i = i.replace(\"Grades\",\"\")\n",
    "    if \"6-8\" in i:\n",
    "      i = i.replace(\"6-8\",\"six_eight\")\n",
    "    if \"3-5\" in i:\n",
    "      i = i.replace(\"3-5\",\"three_five\")\n",
    "    if \"9-12\" in i:\n",
    "      i = i.replace(\"9-12\",\"nine_twelve\")\n",
    "    if \"PreK-2\" in i:\n",
    "      i = i.replace(\"PreK-2\",\"prek_two\")\n",
    "    temp+=i.strip()+\" \" \n",
    "    grade_list.append(temp.strip())\n",
    "    \n",
    "X_test['clean_grade'] = grade_list\n",
    "\n",
    "\n",
    "grade = list(X_val['project_grade_category'].values)\n",
    "grade_list = []\n",
    "for i in grade:\n",
    "    temp = \"\"\n",
    "    if \"Grades\" in i:\n",
    "      i = i.replace(\"Grades\",\"\")\n",
    "    if \"6-8\" in i:\n",
    "      i = i.replace(\"6-8\",\"six_eight\")\n",
    "    if \"3-5\" in i:\n",
    "      i = i.replace(\"3-5\",\"three_five\")\n",
    "    if \"9-12\" in i:\n",
    "      i = i.replace(\"9-12\",\"nine_twelve\")\n",
    "    if \"PreK-2\" in i:\n",
    "      i = i.replace(\"PreK-2\",\"prek_two\")\n",
    "    temp+=i.strip()+\" \" \n",
    "    grade_list.append(temp.strip())\n",
    "    \n",
    "X_val['clean_grade'] = grade_list\n"
   ]
  },
  {
   "cell_type": "markdown",
   "metadata": {
    "colab_type": "text",
    "id": "QG7-BHV8Y8bJ"
   },
   "source": [
    "5. School State"
   ]
  },
  {
   "cell_type": "code",
   "execution_count": 15,
   "metadata": {
    "colab": {},
    "colab_type": "code",
    "id": "38jUF0GVY-mO"
   },
   "outputs": [],
   "source": [
    "#no need of preprocessing on school state\n",
    "\n",
    "state = X_train[\"school_state\"].value_counts()\n",
    "sorted_state = dict(state)\n",
    "sorted_state_dict = dict(sorted(sorted_state.items(), key=lambda kv: kv[1]))\n",
    "X_train[\"clean_state\"] = X_train[\"school_state\"]\n",
    "\n",
    "#similarly for X_test\n",
    "X_test[\"clean_state\"] = X_test[\"school_state\"]\n",
    "\n",
    "#similarly for X_val\n",
    "X_val[\"clean_state\"] = X_val[\"school_state\"]"
   ]
  },
  {
   "cell_type": "markdown",
   "metadata": {
    "colab_type": "text",
    "id": "RDEIVH9SZWOi"
   },
   "source": [
    "<h3>Preprocessing Numerical Feature</h3>"
   ]
  },
  {
   "cell_type": "markdown",
   "metadata": {
    "colab_type": "text",
    "id": "zm_3xFQEZa_c"
   },
   "source": [
    "1. Standardizing price"
   ]
  },
  {
   "cell_type": "code",
   "execution_count": 16,
   "metadata": {
    "colab": {
     "base_uri": "https://localhost:8080/",
     "height": 34
    },
    "colab_type": "code",
    "id": "hjEc9EMKZaSA",
    "outputId": "bbb1457b-acec-48d2-e2b3-d4e00bc2edfc"
   },
   "outputs": [
    {
     "name": "stdout",
     "output_type": "stream",
     "text": [
      "Mean : 298.1193425966608, Standard deviation : 367.49634838483496\n"
     ]
    }
   ],
   "source": [
    "from sklearn.preprocessing import StandardScaler\n",
    "\n",
    "\n",
    "price_scalar = StandardScaler()\n",
    "price_scalar.fit(project_data['price'].values.reshape(-1,1)) \n",
    "print(f\"Mean : {price_scalar.mean_[0]}, Standard deviation : {np.sqrt(price_scalar.var_[0])}\")\n",
    "\n",
    "#train data price standardization\n",
    "price_standardized = price_scalar.transform(X_train['price'].values.reshape(-1, 1))\n",
    "\n",
    "#val data price stanardization. Fit method applied on X_train\n",
    "val_price_standardized = price_scalar.transform(X_val['price'].values.reshape(-1, 1))\n",
    "\n",
    "\n",
    "#test data price stanardization. Fit method applied on X_train\n",
    "test_price_standardized = price_scalar.transform(X_test['price'].values.reshape(-1, 1))"
   ]
  },
  {
   "cell_type": "markdown",
   "metadata": {
    "colab_type": "text",
    "id": "UYcLDUIxaXM1"
   },
   "source": [
    "2. Standardizing quantity"
   ]
  },
  {
   "cell_type": "code",
   "execution_count": 17,
   "metadata": {
    "colab": {
     "base_uri": "https://localhost:8080/",
     "height": 170
    },
    "colab_type": "code",
    "id": "TBtVbObbaa2Z",
    "outputId": "561d0ece-93bf-4c08-f0b1-7e490b877a9d"
   },
   "outputs": [
    {
     "name": "stdout",
     "output_type": "stream",
     "text": [
      "Mean of Quantity : 16.577512437810945, Standard deviation of Quantity : 23.739154879840378\n"
     ]
    }
   ],
   "source": [
    "warnings.filterwarnings(\"ignore\")\n",
    "price_scalar = StandardScaler()\n",
    "price_scalar.fit(X_train[\"quantity\"].values.reshape(-1, 1))\n",
    "print(f\"Mean of Quantity : {price_scalar.mean_[0]}, Standard deviation of Quantity : {np.sqrt(price_scalar.var_[0])}\")\n",
    "\n",
    "#train data quantity standardization\n",
    "quantity_standardized = price_scalar.transform(X_train[\"quantity\"].values.reshape(-1, 1))\n",
    "\n",
    "#val data quantity stanardization. Fit method applied on X_train\n",
    "val_quantity_standardized = price_scalar.transform(X_val[\"quantity\"].values.reshape(-1, 1))\n",
    "\n",
    "#test data quantity stanardization. Fit method applied on X_train\n",
    "test_quantity_standardized = price_scalar.transform(X_test[\"quantity\"].values.reshape(-1, 1))"
   ]
  },
  {
   "cell_type": "markdown",
   "metadata": {
    "colab_type": "text",
    "id": "Yw56aDQNbTmE"
   },
   "source": [
    "3. Standardizing number of ppp"
   ]
  },
  {
   "cell_type": "code",
   "execution_count": 18,
   "metadata": {
    "colab": {
     "base_uri": "https://localhost:8080/",
     "height": 170
    },
    "colab_type": "code",
    "id": "89bmD0qobXYA",
    "outputId": "5de208bb-b46b-443c-fcb4-1379f72063a6"
   },
   "outputs": [
    {
     "name": "stdout",
     "output_type": "stream",
     "text": [
      "Mean : 11.201691542288557, Standard deviation : 27.708748499478308\n"
     ]
    }
   ],
   "source": [
    "price_scalar = StandardScaler()\n",
    "price_scalar.fit(X_train['teacher_number_of_previously_posted_projects'].values.reshape(-1,1)) \n",
    "print(f\"Mean : {price_scalar.mean_[0]}, Standard deviation : {np.sqrt(price_scalar.var_[0])}\")\n",
    "\n",
    "#train data ppp standardization\n",
    "number_ppp_standardized = price_scalar.transform(X_train['teacher_number_of_previously_posted_projects'].values.reshape(-1, 1))\n",
    "\n",
    "#val data price stanardization. Fit method applied on X_train\n",
    "val_number_ppp_standardized = price_scalar.transform(X_val['teacher_number_of_previously_posted_projects'].values.reshape(-1, 1))\n",
    "\n",
    "#test data price stanardization. Fit method applied on X_train\n",
    "test_number_ppp_standardized = price_scalar.transform(X_test['teacher_number_of_previously_posted_projects'].values.reshape(-1, 1))"
   ]
  },
  {
   "cell_type": "markdown",
   "metadata": {
    "colab_type": "text",
    "id": "EQqeuLyedSsv"
   },
   "source": [
    "<h3>Preprocessing of Text Feature for both test and train data</h3>"
   ]
  },
  {
   "cell_type": "code",
   "execution_count": 19,
   "metadata": {
    "colab": {},
    "colab_type": "code",
    "id": "j1SPHY9TdY1y"
   },
   "outputs": [],
   "source": [
    "#using function and stopwords form assignemnt\n",
    "\n",
    "import re\n",
    "\n",
    "def decontracted(phrase):\n",
    "    # specific\n",
    "    phrase = re.sub(r\"won't\", \"will not\", phrase)\n",
    "    phrase = re.sub(r\"can\\'t\", \"can not\", phrase)\n",
    "\n",
    "    # general\n",
    "    phrase = re.sub(r\"n\\'t\", \" not\", phrase)\n",
    "    phrase = re.sub(r\"\\'re\", \" are\", phrase)\n",
    "    phrase = re.sub(r\"\\'s\", \" is\", phrase)\n",
    "    phrase = re.sub(r\"\\'d\", \" would\", phrase)\n",
    "    phrase = re.sub(r\"\\'ll\", \" will\", phrase)\n",
    "    phrase = re.sub(r\"\\'t\", \" not\", phrase)\n",
    "    phrase = re.sub(r\"\\'ve\", \" have\", phrase)\n",
    "    phrase = re.sub(r\"\\'m\", \" am\", phrase)\n",
    "    return phrase\n",
    "  \n",
    "# we are removing the words from the stop words list: 'no', 'nor', 'not'\n",
    "stopwords= ['i', 'me', 'my', 'myself', 'we', 'our', 'ours', 'ourselves', 'you', \"you're\", \"you've\",\\\n",
    "            \"you'll\", \"you'd\", 'your', 'yours', 'yourself', 'yourselves', 'he', 'him', 'his', 'himself', \\\n",
    "            'she', \"she's\", 'her', 'hers', 'herself', 'it', \"it's\", 'its', 'itself', 'they', 'them', 'their',\\\n",
    "            'theirs', 'themselves', 'what', 'which', 'who', 'whom', 'this', 'that', \"that'll\", 'these', 'those', \\\n",
    "            'am', 'is', 'are', 'was', 'were', 'be', 'been', 'being', 'have', 'has', 'had', 'having', 'do', 'does', \\\n",
    "            'did', 'doing', 'a', 'an', 'the', 'and', 'but', 'if', 'or', 'because', 'as', 'until', 'while', 'of', \\\n",
    "            'at', 'by', 'for', 'with', 'about', 'against', 'between', 'into', 'through', 'during', 'before', 'after',\\\n",
    "            'above', 'below', 'to', 'from', 'up', 'down', 'in', 'out', 'on', 'off', 'over', 'under', 'again', 'further',\\\n",
    "            'then', 'once', 'here', 'there', 'when', 'where', 'why', 'how', 'all', 'any', 'both', 'each', 'few', 'more',\\\n",
    "            'most', 'other', 'some', 'such', 'only', 'own', 'same', 'so', 'than', 'too', 'very', \\\n",
    "            's', 't', 'can', 'will', 'just', 'don', \"don't\", 'should', \"should've\", 'now', 'd', 'll', 'm', 'o', 're', \\\n",
    "            've', 'y', 'ain', 'aren', \"aren't\", 'couldn', \"couldn't\", 'didn', \"didn't\", 'doesn', \"doesn't\", 'hadn',\\\n",
    "            \"hadn't\", 'hasn', \"hasn't\", 'haven', \"haven't\", 'isn', \"isn't\", 'ma', 'mightn', \"mightn't\", 'mustn',\\\n",
    "            \"mustn't\", 'needn', \"needn't\", 'shan', \"shan't\", 'shouldn', \"shouldn't\", 'wasn', \"wasn't\", 'weren', \"weren't\", \\\n",
    "            'won', \"won't\", 'wouldn', \"wouldn't\"]"
   ]
  },
  {
   "cell_type": "markdown",
   "metadata": {
    "colab_type": "text",
    "id": "0kdZk5kOdxED"
   },
   "source": [
    "1. preprocessing of project essay"
   ]
  },
  {
   "cell_type": "code",
   "execution_count": 20,
   "metadata": {
    "colab": {
     "base_uri": "https://localhost:8080/",
     "height": 68
    },
    "colab_type": "code",
    "id": "ealoov6Nd0Vn",
    "outputId": "cd0ef28a-22d9-484c-ff6c-d1f0375bebc3"
   },
   "outputs": [
    {
     "name": "stderr",
     "output_type": "stream",
     "text": [
      "100%|██████████████████████████████████████████████████████████████████████████| 10050/10050 [00:06<00:00, 1497.06it/s]\n",
      "100%|████████████████████████████████████████████████████████████████████████████| 4950/4950 [00:03<00:00, 1474.80it/s]\n",
      "100%|████████████████████████████████████████████████████████████████████████████| 5000/5000 [00:03<00:00, 1511.62it/s]\n"
     ]
    }
   ],
   "source": [
    "from tqdm import tqdm\n",
    "\n",
    "#for train data\n",
    "preprocessed_essays = []\n",
    "# tqdm is for printing the status bar\n",
    "for sentance in tqdm(X_train['essay'].values):\n",
    "    sent = decontracted(sentance)\n",
    "    sent = sent.replace('\\\\r', ' ')\n",
    "    sent = sent.replace('\\\\\"', ' ')\n",
    "    sent = sent.replace('\\\\n', ' ')\n",
    "    sent = re.sub('[^A-Za-z0-9]+', ' ', sent)\n",
    "    # https://gist.github.com/sebleier/554280\n",
    "    sent = ' '.join(e for e in sent.split() if e not in stopwords)\n",
    "    preprocessed_essays.append(sent.lower().strip())\n",
    "\n",
    "X_train[\"essay\"] = preprocessed_essays\n",
    "    \n",
    "val_preprocessed_essays = []\n",
    "# tqdm is for printing the status bar\n",
    "for sentance in tqdm(X_val['essay'].values):\n",
    "    sent = decontracted(sentance)\n",
    "    sent = sent.replace('\\\\r', ' ')\n",
    "    sent = sent.replace('\\\\\"', ' ')\n",
    "    sent = sent.replace('\\\\n', ' ')\n",
    "    sent = re.sub('[^A-Za-z0-9]+', ' ', sent)\n",
    "    # https://gist.github.com/sebleier/554280\n",
    "    sent = ' '.join(e for e in sent.split() if e not in stopwords)\n",
    "    val_preprocessed_essays.append(sent.lower().strip())\n",
    "\n",
    "X_val[\"essay\"] = val_preprocessed_essays  \n",
    "    \n",
    "test_preprocessed_essays = []\n",
    "# tqdm is for printing the status bar\n",
    "for sentance in tqdm(X_test['essay'].values):\n",
    "    sent = decontracted(sentance)\n",
    "    sent = sent.replace('\\\\r', ' ')\n",
    "    sent = sent.replace('\\\\\"', ' ')\n",
    "    sent = sent.replace('\\\\n', ' ')\n",
    "    sent = re.sub('[^A-Za-z0-9]+', ' ', sent)\n",
    "    # https://gist.github.com/sebleier/554280\n",
    "    sent = ' '.join(e for e in sent.split() if e not in stopwords)\n",
    "    test_preprocessed_essays.append(sent.lower().strip())\n",
    "    \n",
    "X_test[\"essay\"]  = test_preprocessed_essays"
   ]
  },
  {
   "cell_type": "markdown",
   "metadata": {
    "colab_type": "text",
    "id": "TL4Bq9UpeDCc"
   },
   "source": [
    "2. preprocessing of project title"
   ]
  },
  {
   "cell_type": "code",
   "execution_count": 21,
   "metadata": {
    "colab": {
     "base_uri": "https://localhost:8080/",
     "height": 68
    },
    "colab_type": "code",
    "id": "r3n1qgH0eGtK",
    "outputId": "9eb4b7d9-cba7-4643-ae87-33aa4b7ece23"
   },
   "outputs": [
    {
     "name": "stderr",
     "output_type": "stream",
     "text": [
      "100%|█████████████████████████████████████████████████████████████████████████| 10050/10050 [00:00<00:00, 33382.74it/s]\n",
      "100%|███████████████████████████████████████████████████████████████████████████| 4950/4950 [00:00<00:00, 32417.98it/s]\n",
      "100%|███████████████████████████████████████████████████████████████████████████| 5000/5000 [00:00<00:00, 28173.67it/s]\n"
     ]
    }
   ],
   "source": [
    "preprocessed_title = []\n",
    "# tqdm is for printing the status bar\n",
    "for sentance in tqdm(X_train['project_title'].values):\n",
    "    sent = decontracted(sentance)\n",
    "    sent = sent.replace('\\\\r', ' ')\n",
    "    sent = sent.replace('\\\\\"', ' ')\n",
    "    sent = sent.replace('\\\\n', ' ')\n",
    "    sent = re.sub('[^A-Za-z0-9]+', ' ', sent)\n",
    "    # https://gist.github.com/sebleier/554280\n",
    "    sent = ' '.join(e for e in sent.split() if e not in stopwords)\n",
    "    preprocessed_title.append(sent.lower().strip())\n",
    "    \n",
    "X_train[\"project_title\"] = preprocessed_title  \n",
    "    \n",
    "# for val data\n",
    "val_preprocessed_title = []\n",
    "# tqdm is for printing the status bar\n",
    "for sentance in tqdm(X_val['project_title'].values):\n",
    "    sent = decontracted(sentance)\n",
    "    sent = sent.replace('\\\\r', ' ')\n",
    "    sent = sent.replace('\\\\\"', ' ')\n",
    "    sent = sent.replace('\\\\n', ' ')\n",
    "    sent = re.sub('[^A-Za-z0-9]+', ' ', sent)\n",
    "    # https://gist.github.com/sebleier/554280\n",
    "    sent = ' '.join(e for e in sent.split() if e not in stopwords)\n",
    "    val_preprocessed_title.append(sent.lower().strip())\n",
    "    \n",
    "X_val[\"project_title\"] = val_preprocessed_title  \n",
    "\n",
    "\n",
    "# for test data\n",
    "test_preprocessed_title = []\n",
    "# tqdm is for printing the status bar\n",
    "for sentance in tqdm(X_test['project_title'].values):\n",
    "    sent = decontracted(sentance)\n",
    "    sent = sent.replace('\\\\r', ' ')\n",
    "    sent = sent.replace('\\\\\"', ' ')\n",
    "    sent = sent.replace('\\\\n', ' ')\n",
    "    sent = re.sub('[^A-Za-z0-9]+', ' ', sent)\n",
    "    # https://gist.github.com/sebleier/554280\n",
    "    sent = ' '.join(e for e in sent.split() if e not in stopwords)\n",
    "    test_preprocessed_title.append(sent.lower().strip())\n",
    "\n",
    "X_test[\"project_title\"] = test_preprocessed_title  \n"
   ]
  },
  {
   "cell_type": "code",
   "execution_count": 22,
   "metadata": {},
   "outputs": [],
   "source": [
    "# concatening project_essay + project_title\n",
    "\n",
    "X_train[\"combine\"] = X_train[\"essay\"] + X_train[\"project_title\"]\n",
    "X_test[\"combine\"] = X_test[\"essay\"] + X_test[\"project_title\"]\n",
    "X_val[\"combine\"] = X_val[\"essay\"] + X_val[\"project_title\"]"
   ]
  },
  {
   "cell_type": "code",
   "execution_count": 23,
   "metadata": {},
   "outputs": [],
   "source": [
    "X_train[\"title_len\"] = X_train[\"project_title\"].apply(lambda x : len(x.split()))\n",
    "X_test[\"title_len\"] = X_test[\"project_title\"].apply(lambda x : len(x.split()))\n",
    "X_val[\"title_len\"] = X_val[\"project_title\"].apply(lambda x : len(x.split()))"
   ]
  },
  {
   "cell_type": "markdown",
   "metadata": {
    "colab_type": "text",
    "id": "b3z91k17eyn8"
   },
   "source": [
    "<h3>Vectorizing of Categorical data</h3>"
   ]
  },
  {
   "cell_type": "markdown",
   "metadata": {
    "colab_type": "text",
    "id": "N0qUiZ3dfAXF"
   },
   "source": [
    "1. Vectorizing project categories and subcategories"
   ]
  },
  {
   "cell_type": "code",
   "execution_count": 24,
   "metadata": {
    "colab": {
     "base_uri": "https://localhost:8080/",
     "height": 51
    },
    "colab_type": "code",
    "id": "lwWegmUHevDP",
    "outputId": "b2af03a5-3b42-4b06-ef9b-bda019298a5a"
   },
   "outputs": [
    {
     "name": "stdout",
     "output_type": "stream",
     "text": [
      "['Warmth', 'Care_Hunger', 'History_Civics', 'Music_Arts', 'AppliedLearning', 'SpecialNeeds', 'Health_Sports', 'Math_Science', 'Literacy_Language']\n",
      "Shape of matrix after one hot encodig  (10050, 9)\n"
     ]
    }
   ],
   "source": [
    "vectorizer = CountVectorizer(vocabulary=list(sorted_cat_dict.keys()), lowercase=False, binary=True)\n",
    "\n",
    "# fitting on train data\n",
    "vectorizer.fit(X_train['clean_categories'].values)\n",
    "print(vectorizer.get_feature_names())\n",
    "categories_feature = vectorizer.get_feature_names()\n",
    "\n",
    "# for train data\n",
    "categories_one_hot = vectorizer.transform(X_train['clean_categories'].values)\n",
    "\n",
    "print(\"Shape of matrix after one hot encodig \",categories_one_hot.shape)\n",
    "\n",
    "# for val data\n",
    "val_categories_one_hot = vectorizer.transform(X_val['clean_categories'].values)\n",
    "\n",
    "\n",
    "# for test data\n",
    "test_categories_one_hot = vectorizer.transform(X_test['clean_categories'].values)"
   ]
  },
  {
   "cell_type": "code",
   "execution_count": 25,
   "metadata": {},
   "outputs": [
    {
     "name": "stdout",
     "output_type": "stream",
     "text": [
      "[0 0 0 0 0 1 0 0 0]  ==>  ['SpecialNeeds']\n",
      "[0 0 0 0 0 0 0 0 1]  ==>  ['Literacy_Language']\n",
      "[0 0 0 0 1 1 0 0 0]  ==>  ['AppliedLearning' 'SpecialNeeds']\n"
     ]
    }
   ],
   "source": [
    "# printing one hot encoded array..\n",
    "for i in range(3):\n",
    "    print(test_categories_one_hot[i].toarray()[0],\" ==> \",vectorizer.inverse_transform(test_categories_one_hot[i].toarray())[0])"
   ]
  },
  {
   "cell_type": "markdown",
   "metadata": {
    "colab_type": "text",
    "id": "YBQr6j5tgKnH"
   },
   "source": [
    "2. Vectorizing project subcategories"
   ]
  },
  {
   "cell_type": "code",
   "execution_count": 26,
   "metadata": {
    "colab": {
     "base_uri": "https://localhost:8080/",
     "height": 71
    },
    "colab_type": "code",
    "id": "n6IyjeDcfkjF",
    "outputId": "eae5c4fa-330c-4b4c-9b67-4b820616b62b"
   },
   "outputs": [
    {
     "name": "stdout",
     "output_type": "stream",
     "text": [
      "['Economics', 'CommunityService', 'FinancialLiteracy', 'ParentInvolvement', 'Civics_Government', 'Extracurricular', 'ForeignLanguages', 'NutritionEducation', 'Warmth', 'Care_Hunger', 'SocialSciences', 'PerformingArts', 'CharacterEducation', 'Other', 'College_CareerPrep', 'TeamSports', 'Music', 'History_Geography', 'Health_LifeScience', 'ESL', 'EarlyDevelopment', 'Gym_Fitness', 'EnvironmentalScience', 'VisualArts', 'Health_Wellness', 'AppliedSciences', 'SpecialNeeds', 'Literature_Writing', 'Mathematics', 'Literacy']\n",
      "Shape of matrix after one hot encodig  (10050, 30)\n"
     ]
    }
   ],
   "source": [
    "vectorizer = CountVectorizer(vocabulary=list(sorted_sub_cat_dict.keys()), lowercase=False, binary=True)\n",
    "\n",
    "# fitting on train data\n",
    "vectorizer.fit(X_train['clean_subcategories'].values)\n",
    "print(vectorizer.get_feature_names())\n",
    "subcategories_feature = vectorizer.get_feature_names()\n",
    "\n",
    "# for train data\n",
    "sub_categories_one_hot = vectorizer.transform(X_train['clean_subcategories'].values)\n",
    "print(\"Shape of matrix after one hot encodig \",sub_categories_one_hot.shape)\n",
    "\n",
    "# for val data\n",
    "val_sub_categories_one_hot = vectorizer.transform(X_val['clean_subcategories'].values)\n",
    "\n",
    "\n",
    "# for test data\n",
    "test_sub_categories_one_hot = vectorizer.transform(X_test['clean_subcategories'].values)"
   ]
  },
  {
   "cell_type": "code",
   "execution_count": 27,
   "metadata": {},
   "outputs": [
    {
     "name": "stdout",
     "output_type": "stream",
     "text": [
      "[0 0 0 0 0 0 0 0 0 0 0 0 0 0 0 0 0 0 0 0 0 0 0 0 0 0 1 0 0 0]  ==>  ['SpecialNeeds']\n",
      "[0 0 0 0 0 0 0 0 0 0 0 0 0 0 0 0 0 0 0 0 0 0 0 0 0 0 0 0 0 1]  ==>  ['Literacy']\n",
      "[0 0 0 0 0 0 0 0 0 0 0 0 1 0 0 0 0 0 0 0 0 0 0 0 0 0 1 0 0 0]  ==>  ['CharacterEducation' 'SpecialNeeds']\n"
     ]
    }
   ],
   "source": [
    "# printing one hot encoded array..\n",
    "for i in range(3):\n",
    "    print(test_sub_categories_one_hot[i].toarray()[0],\" ==> \",vectorizer.inverse_transform(test_sub_categories_one_hot[i].toarray())[0])"
   ]
  },
  {
   "cell_type": "markdown",
   "metadata": {
    "colab_type": "text",
    "id": "vfj4R1M4gntM"
   },
   "source": [
    "3. vectorizing teacher prefix"
   ]
  },
  {
   "cell_type": "code",
   "execution_count": 28,
   "metadata": {
    "colab": {
     "base_uri": "https://localhost:8080/",
     "height": 51
    },
    "colab_type": "code",
    "id": "M6EfZ9AygoIz",
    "outputId": "9a95ae21-60f6-4a10-8c5b-84352c54bb9f"
   },
   "outputs": [
    {
     "name": "stdout",
     "output_type": "stream",
     "text": [
      "['Mrs', 'Mr', 'Ms', 'Teacher', 'Dr']\n",
      "Shape of matrix after one hot encodig  (10050, 5)\n"
     ]
    }
   ],
   "source": [
    "vectorizer = CountVectorizer(vocabulary=list(prefix_dict.keys()), lowercase=False, binary=True)\n",
    "\n",
    "# fitting on train data\n",
    "vectorizer.fit(X_train['clean_prefix'].values)\n",
    "print(vectorizer.get_feature_names())\n",
    "prefix_feature = vectorizer.get_feature_names()\n",
    "# for train data\n",
    "prefix_one_hot = vectorizer.transform(X_train['clean_prefix'].values)\n",
    "print(\"Shape of matrix after one hot encodig \",prefix_one_hot.shape)\n",
    "\n",
    "# for val data\n",
    "val_prefix_one_hot = vectorizer.transform(X_val['clean_prefix'].values)\n",
    "\n",
    "\n",
    "# for test data\n",
    "test_prefix_one_hot = vectorizer.transform(X_test['clean_prefix'].values)"
   ]
  },
  {
   "cell_type": "code",
   "execution_count": 29,
   "metadata": {},
   "outputs": [
    {
     "name": "stdout",
     "output_type": "stream",
     "text": [
      "[0 0 1 0 0]  ==>  ['Ms']\n",
      "[0 0 1 0 0]  ==>  ['Ms']\n",
      "[0 0 1 0 0]  ==>  ['Ms']\n"
     ]
    }
   ],
   "source": [
    "# printing one hot encoded array..\n",
    "for i in range(3):\n",
    "    print(test_prefix_one_hot[i].toarray()[0],\" ==> \",vectorizer.inverse_transform(test_prefix_one_hot[i].toarray())[0])"
   ]
  },
  {
   "cell_type": "markdown",
   "metadata": {
    "colab_type": "text",
    "id": "m37dOR75gohj"
   },
   "source": [
    "4. Vectorizing grade"
   ]
  },
  {
   "cell_type": "code",
   "execution_count": 30,
   "metadata": {
    "colab": {
     "base_uri": "https://localhost:8080/",
     "height": 88
    },
    "colab_type": "code",
    "id": "SqpD-PS4go2-",
    "outputId": "9917191b-c379-454f-dded-90b8a7254b1e"
   },
   "outputs": [
    {
     "name": "stdout",
     "output_type": "stream",
     "text": [
      "['three_five', 'nine_twelve', 'prek_two', 'six_eight']\n",
      "Shape of matrix after one hot encodig  (10050, 4)\n"
     ]
    }
   ],
   "source": [
    "vectorizer = CountVectorizer(vocabulary=list(grade_dict.keys()), lowercase=False, binary=True)\n",
    "\n",
    "# fitting on train data\n",
    "vectorizer.fit(X_train['clean_grade'].values)\n",
    "print(vectorizer.get_feature_names())\n",
    "grade_feature = vectorizer.get_feature_names()\n",
    "# for train data\n",
    "grade_one_hot = vectorizer.transform(X_train['clean_grade'].values)\n",
    "print(\"Shape of matrix after one hot encodig \",grade_one_hot.shape)\n",
    "\n",
    "# for val data\n",
    "val_grade_one_hot = vectorizer.transform(X_val['clean_grade'].values)\n",
    "\n",
    "# for test data\n",
    "test_grade_one_hot = vectorizer.transform(X_test['clean_grade'].values)\n"
   ]
  },
  {
   "cell_type": "code",
   "execution_count": 31,
   "metadata": {},
   "outputs": [
    {
     "name": "stdout",
     "output_type": "stream",
     "text": [
      "[1 0 0 0]  ==>  ['three_five']\n",
      "[0 1 0 0]  ==>  ['nine_twelve']\n",
      "[0 0 1 0]  ==>  ['prek_two']\n",
      "[1 0 0 0]  ==>  ['three_five']\n",
      "[0 0 1 0]  ==>  ['prek_two']\n"
     ]
    }
   ],
   "source": [
    "# printing one hot encoded array..\n",
    "for i in range(5):\n",
    "    print(grade_one_hot[i].toarray()[0],\" ==> \",vectorizer.inverse_transform(grade_one_hot[i].toarray())[0])"
   ]
  },
  {
   "cell_type": "markdown",
   "metadata": {},
   "source": [
    "5. Vectorizing school state"
   ]
  },
  {
   "cell_type": "code",
   "execution_count": 32,
   "metadata": {},
   "outputs": [
    {
     "name": "stdout",
     "output_type": "stream",
     "text": [
      "['VT', 'WY', 'ND', 'MT', 'NH', 'AK', 'SD', 'NE', 'RI', 'DE', 'HI', 'ME', 'WV', 'DC', 'NM', 'KS', 'ID', 'IA', 'OR', 'AR', 'CO', 'MN', 'CT', 'MS', 'KY', 'NV', 'MD', 'WI', 'UT', 'AL', 'TN', 'VA', 'LA', 'OK', 'AZ', 'WA', 'NJ', 'OH', 'MA', 'MO', 'IN', 'MI', 'PA', 'GA', 'SC', 'IL', 'NC', 'FL', 'TX', 'NY', 'CA']\n"
     ]
    }
   ],
   "source": [
    "vectorizer = CountVectorizer(vocabulary=list(sorted_state_dict.keys()), lowercase=False, binary=True)\n",
    "vectorizer.fit(X_train['clean_state'].values)\n",
    "print(vectorizer.get_feature_names())\n",
    "state_one_hot = vectorizer.transform(X_train['clean_state'].values)\n",
    "state_feature = vectorizer.get_feature_names()\n",
    "\n",
    "val_state_one_hot = vectorizer.transform(X_val['clean_state'].values)\n",
    "\n",
    "test_state_one_hot = vectorizer.transform(X_test['clean_state'].values)"
   ]
  },
  {
   "cell_type": "markdown",
   "metadata": {
    "colab_type": "text",
    "id": "9gukmoGLh7wi"
   },
   "source": [
    "<h3>Vectorizing Text Feature</h3>"
   ]
  },
  {
   "cell_type": "markdown",
   "metadata": {
    "colab_type": "text",
    "id": "N5dMGDGUi2fo"
   },
   "source": [
    "**Getting top 2k features according to idf_ values**"
   ]
  },
  {
   "cell_type": "code",
   "execution_count": 33,
   "metadata": {
    "colab": {
     "base_uri": "https://localhost:8080/",
     "height": 119
    },
    "colab_type": "code",
    "id": "vpD4ZqDAi4vT",
    "outputId": "7041fb0a-4b03-40cb-8cac-e8af8b6b6a5d"
   },
   "outputs": [
    {
     "name": "stdout",
     "output_type": "stream",
     "text": [
      "Total features : -  10000\n"
     ]
    }
   ],
   "source": [
    "vectorizer = TfidfVectorizer(min_df=10,ngram_range=(1,4),max_features=10000)\n",
    "#fit using train data\n",
    "vectorizer.fit(X_train[\"combine\"].values)\n",
    "top_tfidf = vectorizer.get_feature_names()\n",
    "\n",
    "print(\"Total features : - \",len(top_tfidf))"
   ]
  },
  {
   "cell_type": "code",
   "execution_count": 34,
   "metadata": {},
   "outputs": [],
   "source": [
    "# top 2k features\n",
    "\n",
    "top_n = 2000\n",
    "indices = np.argsort(vectorizer.idf_)[::-1]\n",
    "features = vectorizer.get_feature_names()\n",
    "top_features = tuple([features[i] for i in indices[:top_n]])"
   ]
  },
  {
   "cell_type": "code",
   "execution_count": 35,
   "metadata": {},
   "outputs": [
    {
     "name": "stdout",
     "output_type": "stream",
     "text": [
      "2000 2000\n"
     ]
    }
   ],
   "source": [
    "feature_dict = dict()\n",
    "count = 0\n",
    "for ew in top_features:\n",
    "    if ew not in feature_dict:\n",
    "        feature_dict.setdefault(ew,count)\n",
    "        count += 1\n",
    "    \n",
    "print(len(feature_dict),len(top_features))"
   ]
  },
  {
   "cell_type": "code",
   "execution_count": 36,
   "metadata": {},
   "outputs": [],
   "source": [
    "def get_corpus(df):\n",
    "    \"\"\"\n",
    "    This function returns list of all words in corpus.\n",
    "    \n",
    "    \"\"\"\n",
    "    corpus = \" \"\n",
    "    for ew in df[\"combine\"].values:\n",
    "        corpus += ew\n",
    "    return tuple(corpus.split())"
   ]
  },
  {
   "cell_type": "code",
   "execution_count": 37,
   "metadata": {},
   "outputs": [
    {
     "name": "stdout",
     "output_type": "stream",
     "text": [
      "total number of words in train corpus  1544642\n",
      "total number of words in test corpus  771896\n",
      "total number of words in val corpus  761017\n"
     ]
    }
   ],
   "source": [
    "train_corpus = get_corpus(X_train)\n",
    "print(\"total number of words in train corpus \",len(train_corpus))\n",
    "\n",
    "test_corpus = get_corpus(X_test)\n",
    "print(\"total number of words in test corpus \",len(test_corpus))\n",
    "\n",
    "val_corpus = get_corpus(X_val)\n",
    "print(\"total number of words in val corpus \",len(val_corpus))"
   ]
  },
  {
   "cell_type": "markdown",
   "metadata": {},
   "source": [
    "**Co-occurance Matrix Calculation**"
   ]
  },
  {
   "cell_type": "markdown",
   "metadata": {},
   "source": [
    "* The given code has complexity of O(n^3). \n",
    "* If we have to compute co-occurance matrix of shape [2k x 2k].\n",
    "\n",
    "* When cosidered 20k data points , the total length of train coupus was excedding 3M. \n",
    "     Lets us consider it takes 1 sec. to compute one value. then to compute 4M values it will take around more than 100 days.\n",
    " \n",
    "* Considering fewer data points for faster computation."
   ]
  },
  {
   "cell_type": "code",
   "execution_count": 38,
   "metadata": {},
   "outputs": [],
   "source": [
    "def countOccurences(word,context_window): \n",
    "    \n",
    "    \"\"\"\n",
    "    This function returns the count of context word.\n",
    "    \"\"\" \n",
    "    return context_window.count(word)\n",
    "\n",
    "\n",
    "\n",
    "# https://stackoverflow.com/a/41663359/9371069\n",
    "\n",
    "def co_occurance(feature_dict,corpus,window = 5):\n",
    "    \"\"\"\n",
    "    This function returns co_occurance matrix for the given window size. Default is 5.\n",
    "    \n",
    "    \"\"\"\n",
    "    length = len(feature_dict)\n",
    "    co_matrix = np.zeros([length,length]) # n is the count of all words\n",
    "    \n",
    "    corpus_len = len(corpus)\n",
    "    for focus_word in top_features:\n",
    "        \n",
    "        for context_word in top_features[top_features.index(focus_word):]:\n",
    "            # print(feature_dict[context_word])\n",
    "            if focus_word == context_word:\n",
    "                co_matrix[feature_dict[focus_word],feature_dict[context_word]] = 0\n",
    "            else:\n",
    "                start_index = 0\n",
    "                count = 0\n",
    "                while(focus_word in corpus[start_index:]):\n",
    "                    \n",
    "                    # get the index of focus word\n",
    "                    start_index = corpus.index(focus_word,start_index)\n",
    "                    fi,li = max(0,start_index - window) , min(corpus_len-1,start_index + window)\n",
    "                    \n",
    "                    count += countOccurences(context_word,corpus[fi:li+1])\n",
    "                    # updating start index\n",
    "                    start_index += 1\n",
    "                \n",
    "                # update [Aij]\n",
    "                co_matrix[feature_dict[focus_word],feature_dict[context_word]] = count\n",
    "                # update [Aji]\n",
    "                co_matrix[feature_dict[context_word],feature_dict[focus_word]] = count\n",
    "    return co_matrix\n",
    "    "
   ]
  },
  {
   "cell_type": "markdown",
   "metadata": {},
   "source": [
    "**It took more than 24 hours to compute the co_occurance matrix.**"
   ]
  },
  {
   "cell_type": "code",
   "execution_count": 39,
   "metadata": {
    "scrolled": false
   },
   "outputs": [
    {
     "name": "stdout",
     "output_type": "stream",
     "text": [
      "Total time taken for iteration 1 0:13:59.941632\n",
      "Total time taken for iteration 2 0:14:13.878711\n",
      "Total time taken for iteration 3 0:14:27.465927\n",
      "Total time taken for iteration 4 0:13:43.745465\n",
      "Total time taken for iteration 5 0:13:42.607991\n",
      "Total time taken for iteration 6 0:13:48.518442\n",
      "Total time taken for iteration 7 0:13:47.479741\n",
      "Total time taken for iteration 8 0:14:09.469260\n",
      "Total time taken for iteration 9 0:13:40.016218\n",
      "Total time taken for iteration 10 0:14:14.655944\n",
      "Total time taken for iteration 11 0:57:14.838263\n",
      "Total time taken for iteration 12 0:46:46.022722\n",
      "Total time taken for iteration 13 0:13:57.717399\n",
      "Total time taken for iteration 14 0:14:53.892920\n",
      "Total time taken for iteration 15 0:14:31.355458\n",
      "Total time taken for iteration 16 0:14:26.099995\n",
      "Total time taken for iteration 17 0:14:56.067742\n",
      "Total time taken for iteration 18 0:14:19.915327\n",
      "Total time taken for iteration 19 0:13:50.958229\n",
      "Total time taken for iteration 20 0:13:54.454827\n",
      "Total time taken for iteration 21 0:14:27.754449\n",
      "Total time taken for iteration 22 0:15:36.115207\n",
      "Total time taken for iteration 23 0:16:08.543360\n",
      "Total time taken for iteration 24 0:15:56.836085\n",
      "Total time taken for iteration 25 0:15:06.469595\n",
      "Total time taken for iteration 26 0:14:04.306293\n",
      "Total time taken for iteration 27 0:14:47.090525\n",
      "Total time taken for iteration 28 0:16:35.007407\n",
      "Total time taken for iteration 29 0:15:35.851109\n",
      "Total time taken for iteration 30 0:15:12.738578\n",
      "Total time taken for iteration 31 0:15:56.504503\n",
      "Total time taken for iteration 32 0:14:20.997676\n",
      "Total time taken for iteration 33 0:15:53.100958\n",
      "Total time taken for iteration 34 0:16:02.179198\n",
      "Total time taken for iteration 35 0:16:27.846715\n",
      "Total time taken for iteration 36 0:14:05.343472\n",
      "Total time taken for iteration 37 0:14:13.509508\n",
      "Total time taken for iteration 38 0:14:25.134732\n",
      "Total time taken for iteration 39 0:13:58.099774\n",
      "Total time taken for iteration 40 0:14:21.204005\n",
      "Total time taken for iteration 41 0:14:19.822353\n",
      "Total time taken for iteration 42 0:14:11.233286\n",
      "Total time taken for iteration 43 0:14:04.848166\n",
      "Total time taken for iteration 44 0:14:20.132766\n",
      "Total time taken for iteration 45 0:15:12.349997\n",
      "Total time taken for iteration 46 0:13:52.746586\n",
      "Total time taken for iteration 47 0:13:46.791922\n",
      "Total time taken for iteration 48 0:13:47.784658\n",
      "Total time taken for iteration 49 0:13:53.344850\n",
      "Total time taken for iteration 50 0:13:48.949828\n",
      "Total time taken for iteration 51 0:00:36.074130\n"
     ]
    }
   ],
   "source": [
    "from datetime import datetime\n",
    "\n",
    "train_co = np.zeros([2000,2000])\n",
    "count = 0\n",
    "# for train data\n",
    "for i in range(0,1560450,30900):\n",
    "    start = datetime.now()\n",
    "    count += 1\n",
    "    train_co += co_occurance(feature_dict,train_corpus[i:i+30900])\n",
    "    print(\"Total time taken for iteration {}\".format(count),datetime.now()-start)\n",
    "\n",
    "# for test data\n",
    "# test_co = co_occurance(feature_dict,test_corpus)\n",
    "\n",
    "# for val data\n",
    "#val_co = co_occurance(feature_dict,val_corpus)\n",
    "\n",
    "#print(\"Total time taken is \",datetime.now()-start)"
   ]
  },
  {
   "cell_type": "markdown",
   "metadata": {},
   "source": [
    "1. please store the matrix.\n",
    "2. Loading the already stored matrix"
   ]
  },
  {
   "cell_type": "code",
   "execution_count": 42,
   "metadata": {},
   "outputs": [
    {
     "name": "stdout",
     "output_type": "stream",
     "text": [
      "2000\n"
     ]
    }
   ],
   "source": [
    "from pickle import dump,load\n",
    "with open(\"feature_dict_train\",\"rb\") as f:\n",
    "    feature_dict = load(f)\n",
    "    \n",
    "with open(\"train_co\",\"rb\") as f:\n",
    "    train_co = load(f)    \n",
    "    \n",
    "top_features = tuple(feature_dict.keys())\n",
    "print(len(top_features))"
   ]
  },
  {
   "cell_type": "code",
   "execution_count": 43,
   "metadata": {},
   "outputs": [
    {
     "name": "stdout",
     "output_type": "stream",
     "text": [
      "Sparcity of Train co_occurance matrix is 99.92215%\n"
     ]
    }
   ],
   "source": [
    "# train_co matrix is highly sparse\n",
    "\n",
    "print(\"Sparcity of Train co_occurance matrix is {}%\".format((np.size(train_co) - np.count_nonzero(train_co))/np.size(train_co) * 100))"
   ]
  },
  {
   "cell_type": "markdown",
   "metadata": {},
   "source": [
    "**Elbow method**"
   ]
  },
  {
   "cell_type": "code",
   "execution_count": 44,
   "metadata": {},
   "outputs": [
    {
     "data": {
      "image/png": "[encoded data removed]",
      "text/plain": [
       "<Figure size 432x288 with 1 Axes>"
      ]
     },
     "metadata": {},
     "output_type": "display_data"
    }
   ],
   "source": [
    "from sklearn.decomposition import TruncatedSVD\n",
    "n_comp = list(range(0,2000,200))\n",
    "var_preserved = []\n",
    "for i in n_comp:\n",
    "    tsvd = TruncatedSVD(n_components=i)\n",
    "    tsvd.fit(train_co)\n",
    "    var_preserved.append(tsvd.explained_variance_ratio_.sum())\n",
    "\n",
    "sns.set()\n",
    "plt.plot(n_comp,var_preserved)\n",
    "plt.ylabel(\"var_preserved\")\n",
    "plt.xlabel(\"n_components\")\n",
    "plt.title(\"Elbow method\")\n",
    "plt.show()"
   ]
  },
  {
   "cell_type": "code",
   "execution_count": 45,
   "metadata": {},
   "outputs": [],
   "source": [
    "# 250 components preserve almost all of the variance\n",
    "tsvd_mat = TruncatedSVD(n_components=250).fit_transform(train_co)"
   ]
  },
  {
   "cell_type": "markdown",
   "metadata": {},
   "source": [
    "Matrix standardization"
   ]
  },
  {
   "cell_type": "code",
   "execution_count": 94,
   "metadata": {},
   "outputs": [],
   "source": [
    "from sklearn.preprocessing import StandardScaler\n",
    "std = StandardScaler()\n",
    "tsvd_mat = std.fit_transform(tsvd_mat)"
   ]
  },
  {
   "cell_type": "markdown",
   "metadata": {},
   "source": [
    "###  W2V calculation using truncated matrix with n_components = 250"
   ]
  },
  {
   "cell_type": "markdown",
   "metadata": {},
   "source": [
    "**1. Project Title**"
   ]
  },
  {
   "cell_type": "code",
   "execution_count": 95,
   "metadata": {
    "scrolled": true
   },
   "outputs": [
    {
     "name": "stderr",
     "output_type": "stream",
     "text": [
      "100%|████████████████████████████████████████████████████████████████████████| 10050/10050 [00:00<00:00, 169886.53it/s]\n"
     ]
    },
    {
     "name": "stdout",
     "output_type": "stream",
     "text": [
      "10050\n",
      "250\n"
     ]
    },
    {
     "name": "stderr",
     "output_type": "stream",
     "text": [
      "100%|██████████████████████████████████████████████████████████████████████████| 5000/5000 [00:00<00:00, 184689.74it/s]\n"
     ]
    },
    {
     "name": "stdout",
     "output_type": "stream",
     "text": [
      "5000\n",
      "250\n"
     ]
    },
    {
     "name": "stderr",
     "output_type": "stream",
     "text": [
      "100%|██████████████████████████████████████████████████████████████████████████| 4950/4950 [00:00<00:00, 149592.58it/s]\n"
     ]
    },
    {
     "name": "stdout",
     "output_type": "stream",
     "text": [
      "4950\n",
      "250\n"
     ]
    }
   ],
   "source": [
    "# for train data\n",
    "avg_w2v_vectors = []; # the avg-w2v for each sentence/review is stored in this list\n",
    "for sentence in tqdm(X_train[\"project_title\"].values): # for each review/sentence\n",
    "    vector = np.zeros(250) # as word vectors are of zero length\n",
    "    cnt_words =0; # num of words with a valid vector in the sentence/review\n",
    "    for word in sentence.split(): # for each word in a review/sentence\n",
    "        if word in feature_dict:\n",
    "            vector += tsvd_mat[feature_dict[word]]\n",
    "            cnt_words += 1\n",
    "    if cnt_words != 0:\n",
    "        vector /= cnt_words\n",
    "    avg_w2v_vectors.append(vector)\n",
    "print(len(avg_w2v_vectors))\n",
    "print(len(avg_w2v_vectors[0]))\n",
    "\n",
    "# for test data\n",
    "test_avg_w2v_vectors = []; # the avg-w2v for each sentence/review is stored in this list\n",
    "for sentence in tqdm(X_test[\"project_title\"].values): # for each review/sentence\n",
    "    vector = np.zeros(250) # as word vectors are of zero length\n",
    "    cnt_words =0; # num of words with a valid vector in the sentence/review\n",
    "    for word in sentence.split(): # for each word in a review/sentence\n",
    "        if word in feature_dict:\n",
    "            vector += tsvd_mat[feature_dict[word]]\n",
    "            cnt_words += 1\n",
    "    if cnt_words != 0:\n",
    "        vector /= cnt_words\n",
    "    test_avg_w2v_vectors.append(vector)\n",
    "print(len(test_avg_w2v_vectors))\n",
    "print(len(test_avg_w2v_vectors[0]))\n",
    "\n",
    "# for val data\n",
    "val_avg_w2v_vectors = []; # the avg-w2v for each sentence/review is stored in this list\n",
    "for sentence in tqdm(X_val[\"project_title\"].values): # for each review/sentence\n",
    "    vector = np.zeros(250) # as word vectors are of zero length\n",
    "    cnt_words =0; # num of words with a valid vector in the sentence/review\n",
    "    for word in sentence.split(): # for each word in a review/sentence\n",
    "        if word in feature_dict:\n",
    "            vector += tsvd_mat[feature_dict[word]]\n",
    "            cnt_words += 1\n",
    "    if cnt_words != 0:\n",
    "        vector /= cnt_words\n",
    "    val_avg_w2v_vectors.append(vector)\n",
    "print(len(val_avg_w2v_vectors))\n",
    "print(len(val_avg_w2v_vectors[0]))\n"
   ]
  },
  {
   "cell_type": "markdown",
   "metadata": {},
   "source": [
    "**2. Project Essay**"
   ]
  },
  {
   "cell_type": "code",
   "execution_count": 96,
   "metadata": {},
   "outputs": [
    {
     "name": "stderr",
     "output_type": "stream",
     "text": [
      "100%|█████████████████████████████████████████████████████████████████████████| 10050/10050 [00:00<00:00, 21048.98it/s]\n"
     ]
    },
    {
     "name": "stdout",
     "output_type": "stream",
     "text": [
      "10050\n",
      "250\n"
     ]
    },
    {
     "name": "stderr",
     "output_type": "stream",
     "text": [
      "100%|███████████████████████████████████████████████████████████████████████████| 5000/5000 [00:00<00:00, 19103.85it/s]\n"
     ]
    },
    {
     "name": "stdout",
     "output_type": "stream",
     "text": [
      "5000\n",
      "250\n"
     ]
    },
    {
     "name": "stderr",
     "output_type": "stream",
     "text": [
      "100%|███████████████████████████████████████████████████████████████████████████| 4950/4950 [00:00<00:00, 18143.55it/s]\n"
     ]
    },
    {
     "name": "stdout",
     "output_type": "stream",
     "text": [
      "4950\n",
      "250\n"
     ]
    }
   ],
   "source": [
    "# for train data\n",
    "essay_avg_w2v_vectors = []; # the avg-w2v for each sentence/review is stored in this list\n",
    "for sentence in tqdm(X_train[\"essay\"].values): # for each review/sentence\n",
    "    vector = np.zeros(250) # as word vectors are of zero length\n",
    "    cnt_words =0; # num of words with a valid vector in the sentence/review\n",
    "    for word in sentence.split(): # for each word in a review/sentence\n",
    "        if word in feature_dict:\n",
    "            vector += tsvd_mat[feature_dict[word]]\n",
    "            cnt_words += 1\n",
    "    if cnt_words != 0:\n",
    "        vector /= cnt_words\n",
    "    essay_avg_w2v_vectors.append(vector)\n",
    "print(len(essay_avg_w2v_vectors))\n",
    "print(len(essay_avg_w2v_vectors[0]))\n",
    "\n",
    "# for test data\n",
    "test_essay_avg_w2v_vectors = []; # the avg-w2v for each sentence/review is stored in this list\n",
    "for sentence in tqdm(X_test[\"essay\"].values): # for each review/sentence\n",
    "    vector = np.zeros(250) # as word vectors are of zero length\n",
    "    cnt_words =0; # num of words with a valid vector in the sentence/review\n",
    "    for word in sentence.split(): # for each word in a review/sentence\n",
    "        if word in feature_dict:\n",
    "            vector += tsvd_mat[feature_dict[word]]\n",
    "            cnt_words += 1\n",
    "    if cnt_words != 0:\n",
    "        vector /= cnt_words\n",
    "    test_essay_avg_w2v_vectors.append(vector)\n",
    "print(len(test_essay_avg_w2v_vectors))\n",
    "print(len(test_essay_avg_w2v_vectors[0]))\n",
    "\n",
    "# for val data\n",
    "val_essay_avg_w2v_vectors = []; # the avg-w2v for each sentence/review is stored in this list\n",
    "for sentence in tqdm(X_val[\"essay\"].values): # for each review/sentence\n",
    "    vector = np.zeros(250) # as word vectors are of zero length\n",
    "    cnt_words =0; # num of words with a valid vector in the sentence/review\n",
    "    for word in sentence.split(): # for each word in a review/sentence\n",
    "        if word in feature_dict:\n",
    "            vector += tsvd_mat[feature_dict[word]]\n",
    "            cnt_words += 1\n",
    "    if cnt_words != 0:\n",
    "        vector /= cnt_words\n",
    "    val_essay_avg_w2v_vectors.append(vector)\n",
    "print(len(val_essay_avg_w2v_vectors))\n",
    "print(len(val_essay_avg_w2v_vectors[0]))\n"
   ]
  },
  {
   "cell_type": "markdown",
   "metadata": {},
   "source": [
    "## Set"
   ]
  },
  {
   "cell_type": "code",
   "execution_count": 97,
   "metadata": {},
   "outputs": [
    {
     "name": "stdout",
     "output_type": "stream",
     "text": [
      "(10050, 1)\n",
      "(5000, 1)\n",
      "(4950, 1)\n"
     ]
    }
   ],
   "source": [
    "title_len = np.array(X_train[\"title_len\"].values)\n",
    "title_len = np.expand_dims(title_len,axis=1)\n",
    "print(title_len.shape)\n",
    "\n",
    "test_title_len = np.array(X_test[\"title_len\"].values)\n",
    "test_title_len = np.expand_dims(test_title_len,axis=1)\n",
    "print(test_title_len.shape)\n",
    "\n",
    "val_title_len = np.array(X_val[\"title_len\"].values)\n",
    "val_title_len = np.expand_dims(val_title_len,axis=1)\n",
    "print(val_title_len.shape)"
   ]
  },
  {
   "cell_type": "code",
   "execution_count": 98,
   "metadata": {},
   "outputs": [],
   "source": [
    "# concatanating all the features\n",
    "from scipy.sparse import hstack\n",
    "\n",
    "set_ = hstack((categories_one_hot,sub_categories_one_hot,prefix_one_hot,grade_one_hot,state_one_hot,price_standardized,quantity_standardized,number_ppp_standardized,title_len,avg_w2v_vectors,essay_avg_w2v_vectors))\n",
    "set_v = hstack((val_categories_one_hot,val_sub_categories_one_hot,val_prefix_one_hot,val_grade_one_hot,val_state_one_hot,val_price_standardized,val_quantity_standardized,val_number_ppp_standardized,val_title_len,val_avg_w2v_vectors,val_essay_avg_w2v_vectors))\n",
    "set_t = hstack((test_categories_one_hot,test_sub_categories_one_hot,test_prefix_one_hot,test_grade_one_hot,test_state_one_hot,test_price_standardized,test_quantity_standardized,test_number_ppp_standardized,test_title_len,test_avg_w2v_vectors,test_essay_avg_w2v_vectors))\n"
   ]
  },
  {
   "cell_type": "code",
   "execution_count": 100,
   "metadata": {},
   "outputs": [],
   "source": [
    "from sklearn.ensemble import RandomForestClassifier\n",
    "from sklearn.metrics import confusion_matrix\n",
    "from sklearn.metrics import roc_auc_score\n",
    "from sklearn.metrics import roc_curve\n",
    "from xgboost import XGBClassifier\n",
    "\n",
    "n_estimators = [5, 10, 50, 100, 200]\n",
    "max_depth = [2, 3, 4, 5, 6, 7, 8, 9, 10]\n",
    "\n",
    "def Plot_heatmap(mean_score,name):\n",
    "    \"\"\"\n",
    "    This function plots heatmap.\n",
    "    \"\"\"\n",
    "    df = pd.DataFrame(mean_score,index = n_estimators,columns = max_depth)\n",
    "    sns.heatmap(df,annot = True)\n",
    "    plt.ylabel(\"n_estimators\")\n",
    "    plt.xlabel(\"max_depth\")\n",
    "    plt.title(name)\n",
    "    plt.show()"
   ]
  },
  {
   "cell_type": "code",
   "execution_count": 101,
   "metadata": {},
   "outputs": [],
   "source": [
    "def cf_matrix(cm,msg):\n",
    "  \"\"\"\n",
    "  This function is to plot confusion matrix.\n",
    "  \n",
    "  \"\"\"\n",
    "  sns.heatmap(cm, annot=True, fmt=\"d\")\n",
    "  plt.ylabel(\"Actual Class\")\n",
    "  plt.xlabel(\"Predicted Class\")\n",
    "  plt.title(\"Confusion Matrix for {}\".format(msg))"
   ]
  },
  {
   "cell_type": "code",
   "execution_count": 102,
   "metadata": {},
   "outputs": [
    {
     "name": "stdout",
     "output_type": "stream",
     "text": [
      "Completed = 5\n",
      "Completed = 10\n",
      "Completed = 50\n",
      "Completed = 100\n",
      "Completed = 200\n"
     ]
    }
   ],
   "source": [
    "train_auc = []\n",
    "cv_auc = []\n",
    "\n",
    "n_estimators = [5, 10, 50, 100, 200]\n",
    "max_depth = [2, 3, 4, 5, 6, 7, 8, 9, 10]\n",
    "\n",
    "for i in n_estimators:\n",
    "    train_temp = []\n",
    "    cv_temp = []\n",
    "    for j in max_depth:\n",
    "        xgb = XGBClassifier(max_depth=j,n_estimators=i)\n",
    "        xgb.fit(set_,y_train)\n",
    "\n",
    "        y_train_pred = xgb.predict(set_)  \n",
    "        y_cv_pred = xgb.predict(set_v)\n",
    "\n",
    "  \n",
    "        train_temp.append(roc_auc_score(y_train,y_train_pred))\n",
    "        cv_temp.append(roc_auc_score(y_val, y_cv_pred))\n",
    "    print(\"Completed = {}\".format(i))\n",
    "    train_auc.append(train_temp)\n",
    "    cv_auc.append(cv_temp)"
   ]
  },
  {
   "cell_type": "markdown",
   "metadata": {},
   "source": [
    "**Heatmap**"
   ]
  },
  {
   "cell_type": "code",
   "execution_count": 103,
   "metadata": {},
   "outputs": [
    {
     "data": {
      "image/png": "[encoded data removed]",
      "text/plain": [
       "<Figure size 432x288 with 2 Axes>"
      ]
     },
     "metadata": {},
     "output_type": "display_data"
    }
   ],
   "source": [
    "Plot_heatmap(train_auc,\"Train Heatmap\")"
   ]
  },
  {
   "cell_type": "code",
   "execution_count": 104,
   "metadata": {
    "scrolled": true
   },
   "outputs": [
    {
     "data": {
      "image/png": "[encoded data removed]",
      "text/plain": [
       "<Figure size 432x288 with 2 Axes>"
      ]
     },
     "metadata": {},
     "output_type": "display_data"
    }
   ],
   "source": [
    "Plot_heatmap(cv_auc,\"CV Heatmap\")"
   ]
  },
  {
   "cell_type": "markdown",
   "metadata": {},
   "source": [
    "Best parameter found:\n",
    "1. n_estimators = 50\n",
    "2. max_depth = 2"
   ]
  },
  {
   "cell_type": "markdown",
   "metadata": {},
   "source": [
    "**AUC Plot**"
   ]
  },
  {
   "cell_type": "code",
   "execution_count": 171,
   "metadata": {},
   "outputs": [],
   "source": [
    "# probabilities calcultion\n",
    "rf = RandomForestClassifier(n_estimators=50,max_depth=2,class_weight=\"balanced\")\n",
    "rf.fit(set_,y_train)\n",
    "y1_predict_prob = rf.predict_proba(set_t)[:,1]\n",
    "y1_predict_prob_train = rf.predict_proba(set_)[:,1]\n",
    "\n",
    "# took referance from https://stackoverflow.com/questions/25009284/how-to-plot-roc-curve-in-python\n",
    "#fpr,tpr \n",
    "fpr,tpr,thre = roc_curve(y_test,y1_predict_prob)\n",
    "\n",
    "# am i doing it right here......?\n",
    "fpr_train,tpr_train,thre_train = roc_curve(y_train,y1_predict_prob_train)"
   ]
  },
  {
   "cell_type": "code",
   "execution_count": 172,
   "metadata": {},
   "outputs": [
    {
     "data": {
      "image/png": "[encoded data removed]",
      "text/plain": [
       "<Figure size 432x288 with 1 Axes>"
      ]
     },
     "metadata": {},
     "output_type": "display_data"
    }
   ],
   "source": [
    "# auc calculation for test data\n",
    "roc_auc1 = metrics.auc(fpr,tpr)\n",
    "\n",
    "# auc calculation for train data\n",
    "roc_auc_train1 = metrics.auc(fpr_train,tpr_train)\n",
    "\n",
    "# took referance from https://stackoverflow.com/questions/25009284/how-to-plot-roc-curve-in-python\n",
    "plt.plot(fpr,tpr,\"b--\",label = 'AUC test = %0.2f'%roc_auc1)\n",
    "plt.plot(fpr_train,tpr_train,\"y--\",label = 'AUC train = %0.2f'%roc_auc_train1)\n",
    "plt.title(\"AUC plot\")\n",
    "plt.xlabel(\"False positive rate\")\n",
    "plt.ylabel(\"True positive rate\")\n",
    "plt.plot([0, 1], [0, 1],'r--')\n",
    "plt.xlim([0,1])\n",
    "plt.ylim([0,1])\n",
    "plt.legend(loc = \"lower right\")\n",
    "plt.show()"
   ]
  },
  {
   "cell_type": "markdown",
   "metadata": {},
   "source": [
    "**Confusion Matrix**"
   ]
  },
  {
   "cell_type": "markdown",
   "metadata": {},
   "source": [
    "1. Train Data"
   ]
  },
  {
   "cell_type": "code",
   "execution_count": 173,
   "metadata": {},
   "outputs": [
    {
     "data": {
      "image/png": "[encoded data removed]",
      "text/plain": [
       "<Figure size 432x288 with 2 Axes>"
      ]
     },
     "metadata": {},
     "output_type": "display_data"
    }
   ],
   "source": [
    "y_train_pred = rf.predict(set_)\n",
    "cm1 = confusion_matrix(y_train,y_train_pred)\n",
    "cf_matrix(cm1,\"train data\")"
   ]
  },
  {
   "cell_type": "markdown",
   "metadata": {},
   "source": [
    "2. Test Data"
   ]
  },
  {
   "cell_type": "code",
   "execution_count": 174,
   "metadata": {},
   "outputs": [
    {
     "data": {
      "image/png": "[encoded data removed]",
      "text/plain": [
       "<Figure size 432x288 with 2 Axes>"
      ]
     },
     "metadata": {},
     "output_type": "display_data"
    }
   ],
   "source": [
    "y_test_pred = rf.predict(set_t)\n",
    "cm1 = confusion_matrix(y_test,y_test_pred)\n",
    "# https://seaborn.pydata.org/generated/seaborn.heatmap.html\n",
    "cf_matrix(cm1,\"test data\")"
   ]
  },
  {
   "cell_type": "markdown",
   "metadata": {},
   "source": [
    "## Observation:\n",
    "======================\n",
    "\n",
    "1. co_occurance matrix Computation is very expensive.\n",
    "2. Co_occurance matrix is very sparse matrix.\n",
    "3. It is 99% parse as we considered idf_ values which gaves more importance to the rare words in documents.\n",
    "4. 250 n_components found to preseve the more than 90% of variance.\n",
    "5. Gave clear idea regrding w2v's."
   ]
  },
  {
   "cell_type": "markdown",
   "metadata": {},
   "source": [
    "## Conclusion:\n",
    "======================"
   ]
  },
  {
   "cell_type": "code",
   "execution_count": 175,
   "metadata": {},
   "outputs": [
    {
     "name": "stdout",
     "output_type": "stream",
     "text": [
      "+-----+------------+-----------------------------------+------+-------+\n",
      "| Set | Vectorizer |           Hyperparameter          | Test | Train |\n",
      "+-----+------------+-----------------------------------+------+-------+\n",
      "| Set |  avg_w2v   | n_estimators = 50 , max_depth = 2 | 0.6  |  0.68 |\n",
      "+-----+------------+-----------------------------------+------+-------+\n"
     ]
    }
   ],
   "source": [
    "from prettytable import PrettyTable\n",
    "summary = PrettyTable()\n",
    "\n",
    "summary.field_names = [\"Set\", \"Vectorizer\", \"Hyperparameter\",\"Test\",\"Train\"]\n",
    "summary.add_row([\"Set\",\"avg_w2v\",\"n_estimators = 50 , max_depth = 2\",0.60,0.68])\n",
    "\n",
    "print(summary)"
   ]
  },
  {
   "cell_type": "code",
   "execution_count": null,
   "metadata": {},
   "outputs": [],
   "source": []
  }
 ],
 "metadata": {
  "colab": {
   "collapsed_sections": [],
   "name": "DonorsChoose_KNN.ipynb",
   "provenance": [],
   "version": "0.3.2"
  },
  "kernelspec": {
   "display_name": "Python 3",
   "language": "python",
   "name": "python3"
  },
  "language_info": {
   "codemirror_mode": {
    "name": "ipython",
    "version": 3
   },
   "file_extension": ".py",
   "mimetype": "text/x-python",
   "name": "python",
   "nbconvert_exporter": "python",
   "pygments_lexer": "ipython3",
   "version": "3.7.3"
  }
 },
 "nbformat": 4,
 "nbformat_minor": 1
}
