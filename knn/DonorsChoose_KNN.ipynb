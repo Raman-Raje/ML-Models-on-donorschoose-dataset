{
 "cells": [
  {
   "cell_type": "markdown",
   "metadata": {
    "colab_type": "text",
    "id": "rLI2q0YNV4X-"
   },
   "source": [
    "# Assignment 3: KNN"
   ]
  },
  {
   "cell_type": "markdown",
   "metadata": {
    "colab_type": "text",
    "id": "X3Cng-j3PSHV"
   },
   "source": [
    "<h2>Data splitting and pre-processing</h2>"
   ]
  },
  {
   "cell_type": "code",
   "execution_count": 1,
   "metadata": {
    "colab": {},
    "colab_type": "code",
    "id": "lewMoL1qPKCA"
   },
   "outputs": [],
   "source": [
    "%matplotlib inline\n",
    "import warnings\n",
    "warnings.filterwarnings(\"ignore\")\n",
    "\n",
    "import sqlite3\n",
    "import pandas as pd\n",
    "import numpy as np\n",
    "import nltk\n",
    "import string\n",
    "import matplotlib.pyplot as plt\n",
    "import seaborn as sns\n",
    "\n",
    "from sklearn.feature_extraction.text import TfidfTransformer\n",
    "from sklearn.feature_extraction.text import TfidfVectorizer\n",
    "from sklearn.model_selection import train_test_split\n",
    "from sklearn.feature_extraction.text import CountVectorizer\n",
    "from sklearn.metrics import confusion_matrix\n",
    "from sklearn import metrics\n",
    "from sklearn.metrics import roc_curve, auc\n",
    "from nltk.stem.porter import PorterStemmer\n",
    "\n",
    "import re\n",
    "# Tutorial about Python regular expressions: https://pymotw.com/2/re/\n",
    "import string\n",
    "from nltk.corpus import stopwords\n",
    "from nltk.stem import PorterStemmer\n",
    "from nltk.stem.wordnet import WordNetLemmatizer\n",
    "\n",
    "\n",
    "import pickle\n",
    "from tqdm import tqdm\n",
    "import os\n",
    "from collections import Counter\n",
    "\n"
   ]
  },
  {
   "cell_type": "code",
   "execution_count": 2,
   "metadata": {
    "colab": {
     "base_uri": "https://localhost:8080/",
     "height": 51
    },
    "colab_type": "code",
    "id": "qPM0MLm4Plsf",
    "outputId": "5022f492-2845-4f72-e890-a6065481f063"
   },
   "outputs": [],
   "source": [
    "project_data = pd.read_csv('train_data.csv')\n",
    "resource_data = pd.read_csv('resources.csv')"
   ]
  },
  {
   "cell_type": "code",
   "execution_count": 3,
   "metadata": {
    "colab": {
     "base_uri": "https://localhost:8080/",
     "height": 323
    },
    "colab_type": "code",
    "id": "IA9SkvIMPr_O",
    "outputId": "b0c4a651-f26e-4b07-9642-96c25830ef0e"
   },
   "outputs": [
    {
     "data": {
      "text/plain": [
       "Unnamed: 0                                           0\n",
       "id                                                   0\n",
       "teacher_id                                           0\n",
       "teacher_prefix                                       3\n",
       "school_state                                         0\n",
       "project_submitted_datetime                           0\n",
       "project_grade_category                               0\n",
       "project_subject_categories                           0\n",
       "project_subject_subcategories                        0\n",
       "project_title                                        0\n",
       "project_essay_1                                      0\n",
       "project_essay_2                                      0\n",
       "project_essay_3                                 105490\n",
       "project_essay_4                                 105490\n",
       "project_resource_summary                             0\n",
       "teacher_number_of_previously_posted_projects         0\n",
       "project_is_approved                                  0\n",
       "dtype: int64"
      ]
     },
     "execution_count": 3,
     "metadata": {},
     "output_type": "execute_result"
    }
   ],
   "source": [
    "project_data.isnull().sum()"
   ]
  },
  {
   "cell_type": "code",
   "execution_count": 4,
   "metadata": {
    "colab": {
     "base_uri": "https://localhost:8080/",
     "height": 323
    },
    "colab_type": "code",
    "id": "siNALwSaPsZ-",
    "outputId": "d39920d9-7b11-497e-e8b1-34ffbf0fc18d"
   },
   "outputs": [
    {
     "data": {
      "text/plain": [
       "Unnamed: 0                                           0\n",
       "id                                                   0\n",
       "teacher_id                                           0\n",
       "teacher_prefix                                       0\n",
       "school_state                                         0\n",
       "project_submitted_datetime                           0\n",
       "project_grade_category                               0\n",
       "project_subject_categories                           0\n",
       "project_subject_subcategories                        0\n",
       "project_title                                        0\n",
       "project_essay_1                                      0\n",
       "project_essay_2                                      0\n",
       "project_essay_3                                 105490\n",
       "project_essay_4                                 105490\n",
       "project_resource_summary                             0\n",
       "teacher_number_of_previously_posted_projects         0\n",
       "project_is_approved                                  0\n",
       "dtype: int64"
      ]
     },
     "execution_count": 4,
     "metadata": {},
     "output_type": "execute_result"
    }
   ],
   "source": [
    "#filling 3 null teacher prefix values with Teacher\n",
    "\n",
    "project_data[\"teacher_prefix\"].fillna(\"Teacher\",inplace = True)\n",
    "project_data.isnull().sum()"
   ]
  },
  {
   "cell_type": "code",
   "execution_count": 5,
   "metadata": {
    "colab": {},
    "colab_type": "code",
    "id": "ATad1wN-RY2S"
   },
   "outputs": [],
   "source": [
    "# merge two column text dataframe: \n",
    "project_data[\"essay\"] = project_data[\"project_essay_1\"].map(str) +\\\n",
    "                        project_data[\"project_essay_2\"].map(str) + \\\n",
    "                        project_data[\"project_essay_3\"].map(str) + \\\n",
    "                        project_data[\"project_essay_4\"].map(str)"
   ]
  },
  {
   "cell_type": "code",
   "execution_count": 6,
   "metadata": {
    "colab": {},
    "colab_type": "code",
    "id": "trU7b15NRnEV"
   },
   "outputs": [],
   "source": [
    "price_data = resource_data.groupby('id').agg({'price':'sum', 'quantity':'sum'}).reset_index()\n",
    "project_data = pd.merge(project_data, price_data, on='id', how='left')"
   ]
  },
  {
   "cell_type": "code",
   "execution_count": 7,
   "metadata": {
    "colab": {
     "base_uri": "https://localhost:8080/",
     "height": 442
    },
    "colab_type": "code",
    "id": "HT9ROH0CRszV",
    "outputId": "06eec929-ab69-436a-fb9a-1c4c82947e90"
   },
   "outputs": [
    {
     "name": "stdout",
     "output_type": "stream",
     "text": [
      "<class 'pandas.core.frame.DataFrame'>\n",
      "Int64Index: 109248 entries, 0 to 109247\n",
      "Data columns (total 20 columns):\n",
      "Unnamed: 0                                      109248 non-null int64\n",
      "id                                              109248 non-null object\n",
      "teacher_id                                      109248 non-null object\n",
      "teacher_prefix                                  109248 non-null object\n",
      "school_state                                    109248 non-null object\n",
      "project_submitted_datetime                      109248 non-null object\n",
      "project_grade_category                          109248 non-null object\n",
      "project_subject_categories                      109248 non-null object\n",
      "project_subject_subcategories                   109248 non-null object\n",
      "project_title                                   109248 non-null object\n",
      "project_essay_1                                 109248 non-null object\n",
      "project_essay_2                                 109248 non-null object\n",
      "project_essay_3                                 3758 non-null object\n",
      "project_essay_4                                 3758 non-null object\n",
      "project_resource_summary                        109248 non-null object\n",
      "teacher_number_of_previously_posted_projects    109248 non-null int64\n",
      "project_is_approved                             109248 non-null int64\n",
      "essay                                           109248 non-null object\n",
      "price                                           109248 non-null float64\n",
      "quantity                                        109248 non-null int64\n",
      "dtypes: float64(1), int64(4), object(15)\n",
      "memory usage: 17.5+ MB\n"
     ]
    }
   ],
   "source": [
    "project_data.info()"
   ]
  },
  {
   "cell_type": "markdown",
   "metadata": {
    "colab_type": "text",
    "id": "d88t4-YBV4YX"
   },
   "source": [
    "**Considering only 50k train , 5k validation and 5k test data points**"
   ]
  },
  {
   "cell_type": "code",
   "execution_count": 8,
   "metadata": {
    "colab": {},
    "colab_type": "code",
    "id": "GCQDRGzvV4YY"
   },
   "outputs": [],
   "source": [
    "from sklearn.utils import resample\n",
    "p_d = resample(project_data,n_samples = 60000)"
   ]
  },
  {
   "cell_type": "code",
   "execution_count": 9,
   "metadata": {
    "colab": {},
    "colab_type": "code",
    "id": "SbegQOKqSVcs"
   },
   "outputs": [],
   "source": [
    "#splitting data as 30% to test\n",
    "y = p_d[\"project_is_approved\"]\n",
    "X = p_d.drop(\"project_is_approved\",axis = 1)\n",
    "X_train, X_test, y_train, y_test = train_test_split(X, y, test_size=0.1, random_state=42)\n",
    "X_train, X_val, y_train, y_val = train_test_split(X_train, y_train, test_size=0.1, random_state=42)"
   ]
  },
  {
   "cell_type": "code",
   "execution_count": 10,
   "metadata": {
    "colab": {
     "base_uri": "https://localhost:8080/",
     "height": 68
    },
    "colab_type": "code",
    "id": "JQGLE_zmTKf0",
    "outputId": "95576d33-499b-4d0c-cffa-d78f77013405"
   },
   "outputs": [
    {
     "name": "stdout",
     "output_type": "stream",
     "text": [
      "(48600, 19)   (48600,)\n",
      "(6000, 19)   (6000,)\n",
      "(5400, 19)   (5400,)\n"
     ]
    }
   ],
   "source": [
    "print(X_train.shape,\" \",y_train.shape)\n",
    "print(X_test.shape,\" \",y_test.shape)\n",
    "print(X_val.shape,\" \",y_val.shape)"
   ]
  },
  {
   "cell_type": "markdown",
   "metadata": {
    "colab_type": "text",
    "id": "QhpUJR3OUK2e"
   },
   "source": [
    "<h3>Preprocessing categorical Features</h3>"
   ]
  },
  {
   "cell_type": "markdown",
   "metadata": {
    "colab_type": "text",
    "id": "GsCOdDNaYles"
   },
   "source": [
    "1. project subject categories"
   ]
  },
  {
   "cell_type": "code",
   "execution_count": 11,
   "metadata": {
    "colab": {},
    "colab_type": "code",
    "id": "6debBmfkTSJI"
   },
   "outputs": [],
   "source": [
    "#using code from assignment\n",
    "# project subject categories\n",
    "catogories = list(X_train['project_subject_categories'].values)\n",
    "\n",
    "cat_list = []\n",
    "for i in catogories:\n",
    "    temp = \"\"\n",
    "    for j in i.split(','): \n",
    "        if 'The' in j.split(): \n",
    "            j=j.replace('The','') \n",
    "        j = j.replace(' ','') \n",
    "        temp+=j.strip()+\" \" \n",
    "        temp = temp.replace('&','_') \n",
    "    cat_list.append(temp.strip())\n",
    "    \n",
    "X_train['clean_categories'] = cat_list\n",
    "X_train.drop(['project_subject_categories'], axis=1, inplace=True)\n",
    "\n",
    "from collections import Counter\n",
    "my_counter = Counter()\n",
    "for word in X_train['clean_categories'].values:\n",
    "    my_counter.update(word.split())\n",
    "\n",
    "cat_dict = dict(my_counter)\n",
    "sorted_cat_dict = dict(sorted(cat_dict.items(), key=lambda kv: kv[1]))\n",
    "\n",
    "\n",
    "# project subject categories for test data\n",
    "\n",
    "catogories = list(X_test['project_subject_categories'].values)\n",
    "\n",
    "cat_list = []\n",
    "for i in catogories:\n",
    "    temp = \"\"\n",
    "    for j in i.split(','): \n",
    "        if 'The' in j.split(): \n",
    "            j=j.replace('The','') \n",
    "        j = j.replace(' ','') \n",
    "        temp+=j.strip()+\" \" \n",
    "        temp = temp.replace('&','_') \n",
    "    cat_list.append(temp.strip())\n",
    "    \n",
    "X_test['clean_categories'] = cat_list\n",
    "X_test.drop(['project_subject_categories'], axis=1, inplace=True)\n",
    "\n",
    "# project subject categories for test data\n",
    "\n",
    "catogories = list(X_val['project_subject_categories'].values)\n",
    "\n",
    "cat_list = []\n",
    "for i in catogories:\n",
    "    temp = \"\"\n",
    "    for j in i.split(','): \n",
    "        if 'The' in j.split(): \n",
    "            j=j.replace('The','') \n",
    "        j = j.replace(' ','') \n",
    "        temp+=j.strip()+\" \" \n",
    "        temp = temp.replace('&','_') \n",
    "    cat_list.append(temp.strip())\n",
    "    \n",
    "X_val['clean_categories'] = cat_list\n",
    "X_val.drop(['project_subject_categories'], axis=1, inplace=True)\n"
   ]
  },
  {
   "cell_type": "markdown",
   "metadata": {
    "colab_type": "text",
    "id": "WP05nZ3LYsl8"
   },
   "source": [
    "2. project subject sub_categories"
   ]
  },
  {
   "cell_type": "code",
   "execution_count": 12,
   "metadata": {
    "colab": {},
    "colab_type": "code",
    "id": "CXHY_LlDYzAr"
   },
   "outputs": [],
   "source": [
    "sub_catogories = list(X_train['project_subject_subcategories'].values)\n",
    "sub_cat_list = []\n",
    "for i in sub_catogories:\n",
    "    temp = \"\"\n",
    "    for j in i.split(','): \n",
    "        if 'The' in j.split(): # this will split each of the catogory based on space \"Math & Science\"=> \"Math\",\"&\", \"Science\"\n",
    "            j=j.replace('The','') # if we have the words \"The\" we are going to replace it with ''(i.e removing 'The')\n",
    "        j = j.replace(' ','') \n",
    "        temp +=j.strip()+\" \"\n",
    "        temp = temp.replace('&','_')\n",
    "    sub_cat_list.append(temp.strip())\n",
    "\n",
    "X_train['clean_subcategories'] = sub_cat_list\n",
    "X_train.drop(['project_subject_subcategories'], axis=1, inplace=True)\n",
    "\n",
    "# count of all the words in corpus python: https://stackoverflow.com/a/22898595/4084039\n",
    "my_counter = Counter()\n",
    "for word in X_train['clean_subcategories'].values:\n",
    "    my_counter.update(word.split())\n",
    "    \n",
    "sub_cat_dict = dict(my_counter)\n",
    "sorted_sub_cat_dict = dict(sorted(sub_cat_dict.items(), key=lambda kv: kv[1]))\n",
    "\n",
    "\n",
    "sub_catogories = list(X_test['project_subject_subcategories'].values)\n",
    "sub_cat_list = []\n",
    "for i in sub_catogories:\n",
    "    temp = \"\"\n",
    "    for j in i.split(','): \n",
    "        if 'The' in j.split(): # this will split each of the catogory based on space \"Math & Science\"=> \"Math\",\"&\", \"Science\"\n",
    "            j=j.replace('The','') # if we have the words \"The\" we are going to replace it with ''(i.e removing 'The')\n",
    "        j = j.replace(' ','') \n",
    "        temp +=j.strip()+\" \"\n",
    "        temp = temp.replace('&','_')\n",
    "    sub_cat_list.append(temp.strip())\n",
    "\n",
    "X_test['clean_subcategories'] = sub_cat_list\n",
    "X_test.drop(['project_subject_subcategories'], axis=1, inplace=True)\n",
    "\n",
    "\n",
    "# for validation data set\n",
    "sub_catogories = list(X_val['project_subject_subcategories'].values)\n",
    "sub_cat_list = []\n",
    "for i in sub_catogories:\n",
    "    temp = \"\"\n",
    "    for j in i.split(','): \n",
    "        if 'The' in j.split(): # this will split each of the catogory based on space \"Math & Science\"=> \"Math\",\"&\", \"Science\"\n",
    "            j=j.replace('The','') # if we have the words \"The\" we are going to replace it with ''(i.e removing 'The')\n",
    "        j = j.replace(' ','') \n",
    "        temp +=j.strip()+\" \"\n",
    "        temp = temp.replace('&','_')\n",
    "    sub_cat_list.append(temp.strip())\n",
    "\n",
    "X_val['clean_subcategories'] = sub_cat_list\n",
    "X_val.drop(['project_subject_subcategories'], axis=1, inplace=True)"
   ]
  },
  {
   "cell_type": "markdown",
   "metadata": {
    "colab_type": "text",
    "id": "x3EzCokMYz9u"
   },
   "source": [
    "3. Teacher Prefix"
   ]
  },
  {
   "cell_type": "code",
   "execution_count": 13,
   "metadata": {
    "colab": {
     "base_uri": "https://localhost:8080/",
     "height": 34
    },
    "colab_type": "code",
    "id": "aZWXIyLXY3xm",
    "outputId": "b0f73c98-a0b4-4c46-df30-9ad6cab47fed"
   },
   "outputs": [
    {
     "name": "stdout",
     "output_type": "stream",
     "text": [
      "{'Dr': 8, 'Teacher': 978, 'Mr': 4738, 'Ms': 17189, 'Mrs': 25687}\n"
     ]
    }
   ],
   "source": [
    "#preprocessing teacher prefix\n",
    "prefix = list(X_train['teacher_prefix'].values)\n",
    "prefix_list = []\n",
    "for i in prefix:\n",
    "    temp = \"\"\n",
    "    if \".\" in i: \n",
    "            i=i.replace('.','') \n",
    "    temp+=i.strip()+\" \" \n",
    "    prefix_list.append(temp.strip())\n",
    "    \n",
    "X_train['clean_prefix'] = prefix_list\n",
    "\n",
    "my_counter = Counter()\n",
    "for word in X_train['clean_prefix'].values:\n",
    "  my_counter.update(word.split())\n",
    "\n",
    "prefix_dict = dict(my_counter)\n",
    "sorted_prefix_dict = dict(sorted(prefix_dict.items(), key=lambda kv: kv[1]))\n",
    "print(sorted_prefix_dict)\n",
    "\n",
    "\n",
    "#preprocessing teacher prefix for test data\n",
    "prefix = list(X_test['teacher_prefix'].values)\n",
    "prefix_list = []\n",
    "for i in prefix:\n",
    "    temp = \"\"\n",
    "    if \".\" in i: \n",
    "            i=i.replace('.','') \n",
    "    temp+=i.strip()+\" \" \n",
    "    prefix_list.append(temp.strip())\n",
    "    \n",
    "X_test['clean_prefix'] = prefix_list\n",
    "\n",
    "#preprocessing teacher prefix for val data\n",
    "prefix = list(X_val['teacher_prefix'].values)\n",
    "prefix_list = []\n",
    "for i in prefix:\n",
    "    temp = \"\"\n",
    "    if \".\" in i: \n",
    "            i=i.replace('.','') \n",
    "    temp+=i.strip()+\" \" \n",
    "    prefix_list.append(temp.strip())\n",
    "    \n",
    "X_val['clean_prefix'] = prefix_list"
   ]
  },
  {
   "cell_type": "markdown",
   "metadata": {
    "colab_type": "text",
    "id": "dCTZv1UBY39O"
   },
   "source": [
    "4. Project Grade Category"
   ]
  },
  {
   "cell_type": "code",
   "execution_count": 14,
   "metadata": {
    "colab": {
     "base_uri": "https://localhost:8080/",
     "height": 34
    },
    "colab_type": "code",
    "id": "cV39B9gFY7sd",
    "outputId": "790ab09c-a307-4695-ec63-18d09cfb5ede"
   },
   "outputs": [
    {
     "name": "stdout",
     "output_type": "stream",
     "text": [
      "{'nine_twelve': 4771, 'six_eight': 7528, 'three_five': 16559, 'prek_two': 19742}\n"
     ]
    }
   ],
   "source": [
    "# preprocessing of grade category for train data\n",
    "\n",
    "grade = list(X_train['project_grade_category'].values)\n",
    "grade_list = []\n",
    "for i in grade:\n",
    "    temp = \"\"\n",
    "    if \"Grades\" in i:\n",
    "      i = i.replace(\"Grades\",\"\")\n",
    "    if \"6-8\" in i:\n",
    "      i = i.replace(\"6-8\",\"six_eight\")\n",
    "    if \"3-5\" in i:\n",
    "      i = i.replace(\"3-5\",\"three_five\")\n",
    "    if \"9-12\" in i:\n",
    "      i = i.replace(\"9-12\",\"nine_twelve\")\n",
    "    if \"PreK-2\" in i:\n",
    "      i = i.replace(\"PreK-2\",\"prek_two\")\n",
    "    temp+=i.strip()+\" \" \n",
    "    grade_list.append(temp.strip())\n",
    "    \n",
    "X_train['clean_grade'] = grade_list\n",
    "\n",
    "my_counter = Counter()\n",
    "for word in X_train['clean_grade'].values:\n",
    "  my_counter.update(word.split())\n",
    "\n",
    "grade_dict = dict(my_counter)\n",
    "sorted_grade_dict = dict(sorted(grade_dict.items(), key=lambda kv: kv[1]))\n",
    "print(sorted_grade_dict)\n",
    "\n",
    "# preprocessing of grade category for test data\n",
    "\n",
    "grade = list(X_test['project_grade_category'].values)\n",
    "grade_list = []\n",
    "for i in grade:\n",
    "    temp = \"\"\n",
    "    if \"Grades\" in i:\n",
    "      i = i.replace(\"Grades\",\"\")\n",
    "    if \"6-8\" in i:\n",
    "      i = i.replace(\"6-8\",\"six_eight\")\n",
    "    if \"3-5\" in i:\n",
    "      i = i.replace(\"3-5\",\"three_five\")\n",
    "    if \"9-12\" in i:\n",
    "      i = i.replace(\"9-12\",\"nine_twelve\")\n",
    "    if \"PreK-2\" in i:\n",
    "      i = i.replace(\"PreK-2\",\"prek_two\")\n",
    "    temp+=i.strip()+\" \" \n",
    "    grade_list.append(temp.strip())\n",
    "    \n",
    "X_test['clean_grade'] = grade_list\n",
    "\n",
    "\n",
    "grade = list(X_val['project_grade_category'].values)\n",
    "grade_list = []\n",
    "for i in grade:\n",
    "    temp = \"\"\n",
    "    if \"Grades\" in i:\n",
    "      i = i.replace(\"Grades\",\"\")\n",
    "    if \"6-8\" in i:\n",
    "      i = i.replace(\"6-8\",\"six_eight\")\n",
    "    if \"3-5\" in i:\n",
    "      i = i.replace(\"3-5\",\"three_five\")\n",
    "    if \"9-12\" in i:\n",
    "      i = i.replace(\"9-12\",\"nine_twelve\")\n",
    "    if \"PreK-2\" in i:\n",
    "      i = i.replace(\"PreK-2\",\"prek_two\")\n",
    "    temp+=i.strip()+\" \" \n",
    "    grade_list.append(temp.strip())\n",
    "    \n",
    "X_val['clean_grade'] = grade_list\n"
   ]
  },
  {
   "cell_type": "markdown",
   "metadata": {
    "colab_type": "text",
    "id": "QG7-BHV8Y8bJ"
   },
   "source": [
    "5. School State"
   ]
  },
  {
   "cell_type": "code",
   "execution_count": 15,
   "metadata": {
    "colab": {},
    "colab_type": "code",
    "id": "38jUF0GVY-mO"
   },
   "outputs": [],
   "source": [
    "#no need of preprocessing on school state\n",
    "\n",
    "state = X_train[\"school_state\"].value_counts()\n",
    "sorted_state = dict(state)\n",
    "sorted_state_dict = dict(sorted(sorted_state.items(), key=lambda kv: kv[1]))\n",
    "X_train[\"clean_state\"] = X_train[\"school_state\"]\n",
    "\n",
    "#similarly for X_test\n",
    "X_test[\"clean_state\"] = X_test[\"school_state\"]\n",
    "\n",
    "#similarly for X_val\n",
    "X_val[\"clean_state\"] = X_val[\"school_state\"]"
   ]
  },
  {
   "cell_type": "markdown",
   "metadata": {
    "colab_type": "text",
    "id": "RDEIVH9SZWOi"
   },
   "source": [
    "<h3>Preprocessing Numerical Feature</h3>"
   ]
  },
  {
   "cell_type": "markdown",
   "metadata": {
    "colab_type": "text",
    "id": "zm_3xFQEZa_c"
   },
   "source": [
    "1. Standardizing price"
   ]
  },
  {
   "cell_type": "code",
   "execution_count": 16,
   "metadata": {
    "colab": {
     "base_uri": "https://localhost:8080/",
     "height": 34
    },
    "colab_type": "code",
    "id": "hjEc9EMKZaSA",
    "outputId": "bbb1457b-acec-48d2-e2b3-d4e00bc2edfc"
   },
   "outputs": [
    {
     "name": "stdout",
     "output_type": "stream",
     "text": [
      "Mean : 298.1193425966608, Standard deviation : 367.49634838483496\n"
     ]
    }
   ],
   "source": [
    "from sklearn.preprocessing import StandardScaler\n",
    "\n",
    "\n",
    "price_scalar = StandardScaler()\n",
    "price_scalar.fit(project_data['price'].values.reshape(-1,1)) \n",
    "print(f\"Mean : {price_scalar.mean_[0]}, Standard deviation : {np.sqrt(price_scalar.var_[0])}\")\n",
    "\n",
    "#train data price standardization\n",
    "price_standardized = price_scalar.transform(X_train['price'].values.reshape(-1, 1))\n",
    "\n",
    "#val data price stanardization. Fit method applied on X_train\n",
    "val_price_standardized = price_scalar.transform(X_val['price'].values.reshape(-1, 1))\n",
    "\n",
    "\n",
    "#test data price stanardization. Fit method applied on X_train\n",
    "test_price_standardized = price_scalar.transform(X_test['price'].values.reshape(-1, 1))"
   ]
  },
  {
   "cell_type": "markdown",
   "metadata": {
    "colab_type": "text",
    "id": "UYcLDUIxaXM1"
   },
   "source": [
    "2. Standardizing quantity"
   ]
  },
  {
   "cell_type": "code",
   "execution_count": 17,
   "metadata": {
    "colab": {
     "base_uri": "https://localhost:8080/",
     "height": 170
    },
    "colab_type": "code",
    "id": "TBtVbObbaa2Z",
    "outputId": "561d0ece-93bf-4c08-f0b1-7e490b877a9d"
   },
   "outputs": [
    {
     "name": "stderr",
     "output_type": "stream",
     "text": [
      "C:\\Users\\rdbz3b\\AppData\\Local\\Continuum\\anaconda3\\lib\\site-packages\\sklearn\\utils\\validation.py:595: DataConversionWarning: Data with input dtype int64 was converted to float64 by StandardScaler.\n",
      "  warnings.warn(msg, DataConversionWarning)\n"
     ]
    },
    {
     "name": "stdout",
     "output_type": "stream",
     "text": [
      "Mean of Quantity : 17.133827160493826, Standard deviation of Quantity : 27.176613943520394\n"
     ]
    },
    {
     "name": "stderr",
     "output_type": "stream",
     "text": [
      "C:\\Users\\rdbz3b\\AppData\\Local\\Continuum\\anaconda3\\lib\\site-packages\\sklearn\\utils\\validation.py:595: DataConversionWarning: Data with input dtype int64 was converted to float64 by StandardScaler.\n",
      "  warnings.warn(msg, DataConversionWarning)\n",
      "C:\\Users\\rdbz3b\\AppData\\Local\\Continuum\\anaconda3\\lib\\site-packages\\sklearn\\utils\\validation.py:595: DataConversionWarning: Data with input dtype int64 was converted to float64 by StandardScaler.\n",
      "  warnings.warn(msg, DataConversionWarning)\n",
      "C:\\Users\\rdbz3b\\AppData\\Local\\Continuum\\anaconda3\\lib\\site-packages\\sklearn\\utils\\validation.py:595: DataConversionWarning: Data with input dtype int64 was converted to float64 by StandardScaler.\n",
      "  warnings.warn(msg, DataConversionWarning)\n"
     ]
    }
   ],
   "source": [
    "price_scalar = StandardScaler()\n",
    "price_scalar.fit(X_train[\"quantity\"].values.reshape(-1, 1))\n",
    "print(f\"Mean of Quantity : {price_scalar.mean_[0]}, Standard deviation of Quantity : {np.sqrt(price_scalar.var_[0])}\")\n",
    "\n",
    "#train data quantity standardization\n",
    "quantity_standardized = price_scalar.transform(X_train[\"quantity\"].values.reshape(-1, 1))\n",
    "\n",
    "#val data quantity stanardization. Fit method applied on X_train\n",
    "val_quantity_standardized = price_scalar.transform(X_val[\"quantity\"].values.reshape(-1, 1))\n",
    "\n",
    "#test data quantity stanardization. Fit method applied on X_train\n",
    "test_quantity_standardized = price_scalar.transform(X_test[\"quantity\"].values.reshape(-1, 1))"
   ]
  },
  {
   "cell_type": "markdown",
   "metadata": {
    "colab_type": "text",
    "id": "Yw56aDQNbTmE"
   },
   "source": [
    "3. Standardizing number of ppp"
   ]
  },
  {
   "cell_type": "code",
   "execution_count": 18,
   "metadata": {
    "colab": {
     "base_uri": "https://localhost:8080/",
     "height": 170
    },
    "colab_type": "code",
    "id": "89bmD0qobXYA",
    "outputId": "5de208bb-b46b-443c-fcb4-1379f72063a6"
   },
   "outputs": [
    {
     "name": "stderr",
     "output_type": "stream",
     "text": [
      "C:\\Users\\rdbz3b\\AppData\\Local\\Continuum\\anaconda3\\lib\\site-packages\\sklearn\\utils\\validation.py:595: DataConversionWarning: Data with input dtype int64 was converted to float64 by StandardScaler.\n",
      "  warnings.warn(msg, DataConversionWarning)\n"
     ]
    },
    {
     "name": "stdout",
     "output_type": "stream",
     "text": [
      "Mean : 10.912674897119341, Standard deviation : 27.00797755650471\n"
     ]
    },
    {
     "name": "stderr",
     "output_type": "stream",
     "text": [
      "C:\\Users\\rdbz3b\\AppData\\Local\\Continuum\\anaconda3\\lib\\site-packages\\sklearn\\utils\\validation.py:595: DataConversionWarning: Data with input dtype int64 was converted to float64 by StandardScaler.\n",
      "  warnings.warn(msg, DataConversionWarning)\n",
      "C:\\Users\\rdbz3b\\AppData\\Local\\Continuum\\anaconda3\\lib\\site-packages\\sklearn\\utils\\validation.py:595: DataConversionWarning: Data with input dtype int64 was converted to float64 by StandardScaler.\n",
      "  warnings.warn(msg, DataConversionWarning)\n",
      "C:\\Users\\rdbz3b\\AppData\\Local\\Continuum\\anaconda3\\lib\\site-packages\\sklearn\\utils\\validation.py:595: DataConversionWarning: Data with input dtype int64 was converted to float64 by StandardScaler.\n",
      "  warnings.warn(msg, DataConversionWarning)\n"
     ]
    }
   ],
   "source": [
    "price_scalar = StandardScaler()\n",
    "price_scalar.fit(X_train['teacher_number_of_previously_posted_projects'].values.reshape(-1,1)) \n",
    "print(f\"Mean : {price_scalar.mean_[0]}, Standard deviation : {np.sqrt(price_scalar.var_[0])}\")\n",
    "\n",
    "#train data ppp standardization\n",
    "number_ppp_standardized = price_scalar.transform(X_train['teacher_number_of_previously_posted_projects'].values.reshape(-1, 1))\n",
    "\n",
    "#val data price stanardization. Fit method applied on X_train\n",
    "val_number_ppp_standardized = price_scalar.transform(X_val['teacher_number_of_previously_posted_projects'].values.reshape(-1, 1))\n",
    "\n",
    "#test data price stanardization. Fit method applied on X_train\n",
    "test_number_ppp_standardized = price_scalar.transform(X_test['teacher_number_of_previously_posted_projects'].values.reshape(-1, 1))"
   ]
  },
  {
   "cell_type": "markdown",
   "metadata": {
    "colab_type": "text",
    "id": "EQqeuLyedSsv"
   },
   "source": [
    "<h3>Preprocessing of Text Feature for both test and train data</h3>"
   ]
  },
  {
   "cell_type": "code",
   "execution_count": 19,
   "metadata": {
    "colab": {},
    "colab_type": "code",
    "id": "j1SPHY9TdY1y"
   },
   "outputs": [],
   "source": [
    "#using function and stopwords form assignemnt\n",
    "\n",
    "import re\n",
    "\n",
    "def decontracted(phrase):\n",
    "    # specific\n",
    "    phrase = re.sub(r\"won't\", \"will not\", phrase)\n",
    "    phrase = re.sub(r\"can\\'t\", \"can not\", phrase)\n",
    "\n",
    "    # general\n",
    "    phrase = re.sub(r\"n\\'t\", \" not\", phrase)\n",
    "    phrase = re.sub(r\"\\'re\", \" are\", phrase)\n",
    "    phrase = re.sub(r\"\\'s\", \" is\", phrase)\n",
    "    phrase = re.sub(r\"\\'d\", \" would\", phrase)\n",
    "    phrase = re.sub(r\"\\'ll\", \" will\", phrase)\n",
    "    phrase = re.sub(r\"\\'t\", \" not\", phrase)\n",
    "    phrase = re.sub(r\"\\'ve\", \" have\", phrase)\n",
    "    phrase = re.sub(r\"\\'m\", \" am\", phrase)\n",
    "    return phrase\n",
    "  \n",
    "# we are removing the words from the stop words list: 'no', 'nor', 'not'\n",
    "stopwords= ['i', 'me', 'my', 'myself', 'we', 'our', 'ours', 'ourselves', 'you', \"you're\", \"you've\",\\\n",
    "            \"you'll\", \"you'd\", 'your', 'yours', 'yourself', 'yourselves', 'he', 'him', 'his', 'himself', \\\n",
    "            'she', \"she's\", 'her', 'hers', 'herself', 'it', \"it's\", 'its', 'itself', 'they', 'them', 'their',\\\n",
    "            'theirs', 'themselves', 'what', 'which', 'who', 'whom', 'this', 'that', \"that'll\", 'these', 'those', \\\n",
    "            'am', 'is', 'are', 'was', 'were', 'be', 'been', 'being', 'have', 'has', 'had', 'having', 'do', 'does', \\\n",
    "            'did', 'doing', 'a', 'an', 'the', 'and', 'but', 'if', 'or', 'because', 'as', 'until', 'while', 'of', \\\n",
    "            'at', 'by', 'for', 'with', 'about', 'against', 'between', 'into', 'through', 'during', 'before', 'after',\\\n",
    "            'above', 'below', 'to', 'from', 'up', 'down', 'in', 'out', 'on', 'off', 'over', 'under', 'again', 'further',\\\n",
    "            'then', 'once', 'here', 'there', 'when', 'where', 'why', 'how', 'all', 'any', 'both', 'each', 'few', 'more',\\\n",
    "            'most', 'other', 'some', 'such', 'only', 'own', 'same', 'so', 'than', 'too', 'very', \\\n",
    "            's', 't', 'can', 'will', 'just', 'don', \"don't\", 'should', \"should've\", 'now', 'd', 'll', 'm', 'o', 're', \\\n",
    "            've', 'y', 'ain', 'aren', \"aren't\", 'couldn', \"couldn't\", 'didn', \"didn't\", 'doesn', \"doesn't\", 'hadn',\\\n",
    "            \"hadn't\", 'hasn', \"hasn't\", 'haven', \"haven't\", 'isn', \"isn't\", 'ma', 'mightn', \"mightn't\", 'mustn',\\\n",
    "            \"mustn't\", 'needn', \"needn't\", 'shan', \"shan't\", 'shouldn', \"shouldn't\", 'wasn', \"wasn't\", 'weren', \"weren't\", \\\n",
    "            'won', \"won't\", 'wouldn', \"wouldn't\"]"
   ]
  },
  {
   "cell_type": "markdown",
   "metadata": {
    "colab_type": "text",
    "id": "0kdZk5kOdxED"
   },
   "source": [
    "1. preprocessing of project essay"
   ]
  },
  {
   "cell_type": "code",
   "execution_count": 20,
   "metadata": {
    "colab": {
     "base_uri": "https://localhost:8080/",
     "height": 68
    },
    "colab_type": "code",
    "id": "ealoov6Nd0Vn",
    "outputId": "cd0ef28a-22d9-484c-ff6c-d1f0375bebc3"
   },
   "outputs": [
    {
     "name": "stderr",
     "output_type": "stream",
     "text": [
      "100%|██████████████████████████████████████████████████████████████████████████| 48600/48600 [00:31<00:00, 1564.02it/s]\n",
      "100%|████████████████████████████████████████████████████████████████████████████| 5400/5400 [00:03<00:00, 1584.79it/s]\n",
      "100%|████████████████████████████████████████████████████████████████████████████| 6000/6000 [00:03<00:00, 1576.18it/s]\n"
     ]
    }
   ],
   "source": [
    "from tqdm import tqdm\n",
    "\n",
    "#for train data\n",
    "preprocessed_essays = []\n",
    "# tqdm is for printing the status bar\n",
    "for sentance in tqdm(X_train['essay'].values):\n",
    "    sent = decontracted(sentance)\n",
    "    sent = sent.replace('\\\\r', ' ')\n",
    "    sent = sent.replace('\\\\\"', ' ')\n",
    "    sent = sent.replace('\\\\n', ' ')\n",
    "    sent = re.sub('[^A-Za-z0-9]+', ' ', sent)\n",
    "    # https://gist.github.com/sebleier/554280\n",
    "    sent = ' '.join(e for e in sent.split() if e not in stopwords)\n",
    "    preprocessed_essays.append(sent.lower().strip())\n",
    "    \n",
    "val_preprocessed_essays = []\n",
    "# tqdm is for printing the status bar\n",
    "for sentance in tqdm(X_val['essay'].values):\n",
    "    sent = decontracted(sentance)\n",
    "    sent = sent.replace('\\\\r', ' ')\n",
    "    sent = sent.replace('\\\\\"', ' ')\n",
    "    sent = sent.replace('\\\\n', ' ')\n",
    "    sent = re.sub('[^A-Za-z0-9]+', ' ', sent)\n",
    "    # https://gist.github.com/sebleier/554280\n",
    "    sent = ' '.join(e for e in sent.split() if e not in stopwords)\n",
    "    val_preprocessed_essays.append(sent.lower().strip())\n",
    "\n",
    "    \n",
    "    \n",
    "test_preprocessed_essays = []\n",
    "# tqdm is for printing the status bar\n",
    "for sentance in tqdm(X_test['essay'].values):\n",
    "    sent = decontracted(sentance)\n",
    "    sent = sent.replace('\\\\r', ' ')\n",
    "    sent = sent.replace('\\\\\"', ' ')\n",
    "    sent = sent.replace('\\\\n', ' ')\n",
    "    sent = re.sub('[^A-Za-z0-9]+', ' ', sent)\n",
    "    # https://gist.github.com/sebleier/554280\n",
    "    sent = ' '.join(e for e in sent.split() if e not in stopwords)\n",
    "    test_preprocessed_essays.append(sent.lower().strip())"
   ]
  },
  {
   "cell_type": "markdown",
   "metadata": {
    "colab_type": "text",
    "id": "TL4Bq9UpeDCc"
   },
   "source": [
    "2. preprocessing of project title"
   ]
  },
  {
   "cell_type": "code",
   "execution_count": 21,
   "metadata": {
    "colab": {
     "base_uri": "https://localhost:8080/",
     "height": 68
    },
    "colab_type": "code",
    "id": "r3n1qgH0eGtK",
    "outputId": "9eb4b7d9-cba7-4643-ae87-33aa4b7ece23"
   },
   "outputs": [
    {
     "name": "stderr",
     "output_type": "stream",
     "text": [
      "100%|█████████████████████████████████████████████████████████████████████████| 48600/48600 [00:01<00:00, 35449.64it/s]\n",
      "100%|███████████████████████████████████████████████████████████████████████████| 5400/5400 [00:00<00:00, 35040.68it/s]\n",
      "100%|███████████████████████████████████████████████████████████████████████████| 6000/6000 [00:00<00:00, 36119.34it/s]\n"
     ]
    }
   ],
   "source": [
    "preprocessed_title = []\n",
    "# tqdm is for printing the status bar\n",
    "for sentance in tqdm(X_train['project_title'].values):\n",
    "    sent = decontracted(sentance)\n",
    "    sent = sent.replace('\\\\r', ' ')\n",
    "    sent = sent.replace('\\\\\"', ' ')\n",
    "    sent = sent.replace('\\\\n', ' ')\n",
    "    sent = re.sub('[^A-Za-z0-9]+', ' ', sent)\n",
    "    # https://gist.github.com/sebleier/554280\n",
    "    sent = ' '.join(e for e in sent.split() if e not in stopwords)\n",
    "    preprocessed_title.append(sent.lower().strip())\n",
    "    \n",
    "# for val data\n",
    "val_preprocessed_title = []\n",
    "# tqdm is for printing the status bar\n",
    "for sentance in tqdm(X_val['project_title'].values):\n",
    "    sent = decontracted(sentance)\n",
    "    sent = sent.replace('\\\\r', ' ')\n",
    "    sent = sent.replace('\\\\\"', ' ')\n",
    "    sent = sent.replace('\\\\n', ' ')\n",
    "    sent = re.sub('[^A-Za-z0-9]+', ' ', sent)\n",
    "    # https://gist.github.com/sebleier/554280\n",
    "    sent = ' '.join(e for e in sent.split() if e not in stopwords)\n",
    "    val_preprocessed_title.append(sent.lower().strip())\n",
    "    \n",
    "    \n",
    "# for test data\n",
    "test_preprocessed_title = []\n",
    "# tqdm is for printing the status bar\n",
    "for sentance in tqdm(X_test['project_title'].values):\n",
    "    sent = decontracted(sentance)\n",
    "    sent = sent.replace('\\\\r', ' ')\n",
    "    sent = sent.replace('\\\\\"', ' ')\n",
    "    sent = sent.replace('\\\\n', ' ')\n",
    "    sent = re.sub('[^A-Za-z0-9]+', ' ', sent)\n",
    "    # https://gist.github.com/sebleier/554280\n",
    "    sent = ' '.join(e for e in sent.split() if e not in stopwords)\n",
    "    test_preprocessed_title.append(sent.lower().strip())\n"
   ]
  },
  {
   "cell_type": "markdown",
   "metadata": {
    "colab_type": "text",
    "id": "b3z91k17eyn8"
   },
   "source": [
    "<h3>Vectorizing of Categorical data</h3>"
   ]
  },
  {
   "cell_type": "markdown",
   "metadata": {
    "colab_type": "text",
    "id": "N0qUiZ3dfAXF"
   },
   "source": [
    "1. Vectorizing project categories and subcategories"
   ]
  },
  {
   "cell_type": "code",
   "execution_count": 22,
   "metadata": {
    "colab": {
     "base_uri": "https://localhost:8080/",
     "height": 51
    },
    "colab_type": "code",
    "id": "lwWegmUHevDP",
    "outputId": "b2af03a5-3b42-4b06-ef9b-bda019298a5a"
   },
   "outputs": [
    {
     "name": "stdout",
     "output_type": "stream",
     "text": [
      "['Warmth', 'Care_Hunger', 'History_Civics', 'Music_Arts', 'AppliedLearning', 'Health_Sports', 'SpecialNeeds', 'Math_Science', 'Literacy_Language']\n",
      "Shape of matrix after one hot encodig  (48600, 9)\n"
     ]
    }
   ],
   "source": [
    "vectorizer = CountVectorizer(vocabulary=list(sorted_cat_dict.keys()), lowercase=False, binary=True)\n",
    "\n",
    "# fitting on train data\n",
    "vectorizer.fit(X_train['clean_categories'].values)\n",
    "print(vectorizer.get_feature_names())\n",
    "categories_feature = vectorizer.get_feature_names()\n",
    "\n",
    "# for train data\n",
    "categories_one_hot = vectorizer.transform(X_train['clean_categories'].values)\n",
    "\n",
    "print(\"Shape of matrix after one hot encodig \",categories_one_hot.shape)\n",
    "\n",
    "# for val data\n",
    "val_categories_one_hot = vectorizer.transform(X_val['clean_categories'].values)\n",
    "\n",
    "\n",
    "# for test data\n",
    "test_categories_one_hot = vectorizer.transform(X_test['clean_categories'].values)"
   ]
  },
  {
   "cell_type": "markdown",
   "metadata": {
    "colab_type": "text",
    "id": "YBQr6j5tgKnH"
   },
   "source": [
    "2. Vectorizing project subcategories"
   ]
  },
  {
   "cell_type": "code",
   "execution_count": 23,
   "metadata": {
    "colab": {
     "base_uri": "https://localhost:8080/",
     "height": 71
    },
    "colab_type": "code",
    "id": "n6IyjeDcfkjF",
    "outputId": "eae5c4fa-330c-4b4c-9b67-4b820616b62b"
   },
   "outputs": [
    {
     "name": "stdout",
     "output_type": "stream",
     "text": [
      "['Economics', 'CommunityService', 'FinancialLiteracy', 'ParentInvolvement', 'Civics_Government', 'Extracurricular', 'ForeignLanguages', 'Warmth', 'Care_Hunger', 'NutritionEducation', 'PerformingArts', 'SocialSciences', 'CharacterEducation', 'TeamSports', 'Other', 'College_CareerPrep', 'Music', 'History_Geography', 'Health_LifeScience', 'EarlyDevelopment', 'Gym_Fitness', 'ESL', 'EnvironmentalScience', 'VisualArts', 'Health_Wellness', 'AppliedSciences', 'SpecialNeeds', 'Literature_Writing', 'Mathematics', 'Literacy']\n",
      "Shape of matrix after one hot encodig  (48600, 30)\n"
     ]
    }
   ],
   "source": [
    "vectorizer = CountVectorizer(vocabulary=list(sorted_sub_cat_dict.keys()), lowercase=False, binary=True)\n",
    "\n",
    "# fitting on train data\n",
    "vectorizer.fit(X_train['clean_subcategories'].values)\n",
    "print(vectorizer.get_feature_names())\n",
    "subcategories_feature = vectorizer.get_feature_names()\n",
    "\n",
    "# for train data\n",
    "sub_categories_one_hot = vectorizer.transform(X_train['clean_subcategories'].values)\n",
    "print(\"Shape of matrix after one hot encodig \",sub_categories_one_hot.shape)\n",
    "\n",
    "# for val data\n",
    "val_sub_categories_one_hot = vectorizer.transform(X_val['clean_subcategories'].values)\n",
    "\n",
    "\n",
    "# for test data\n",
    "test_sub_categories_one_hot = vectorizer.transform(X_test['clean_subcategories'].values)"
   ]
  },
  {
   "cell_type": "markdown",
   "metadata": {
    "colab_type": "text",
    "id": "vfj4R1M4gntM"
   },
   "source": [
    "3. vectorizing teacher prefix"
   ]
  },
  {
   "cell_type": "code",
   "execution_count": 24,
   "metadata": {
    "colab": {
     "base_uri": "https://localhost:8080/",
     "height": 51
    },
    "colab_type": "code",
    "id": "M6EfZ9AygoIz",
    "outputId": "9a95ae21-60f6-4a10-8c5b-84352c54bb9f"
   },
   "outputs": [
    {
     "name": "stdout",
     "output_type": "stream",
     "text": [
      "['Mr', 'Mrs', 'Ms', 'Teacher', 'Dr']\n",
      "Shape of matrix after one hot encodig  (48600, 5)\n"
     ]
    }
   ],
   "source": [
    "vectorizer = CountVectorizer(vocabulary=list(prefix_dict.keys()), lowercase=False, binary=True)\n",
    "\n",
    "# fitting on train data\n",
    "vectorizer.fit(X_train['clean_prefix'].values)\n",
    "print(vectorizer.get_feature_names())\n",
    "prefix_feature = vectorizer.get_feature_names()\n",
    "# for train data\n",
    "prefix_one_hot = vectorizer.transform(X_train['clean_prefix'].values)\n",
    "print(\"Shape of matrix after one hot encodig \",prefix_one_hot.shape)\n",
    "\n",
    "# for val data\n",
    "val_prefix_one_hot = vectorizer.transform(X_val['clean_prefix'].values)\n",
    "\n",
    "\n",
    "# for test data\n",
    "test_prefix_one_hot = vectorizer.transform(X_test['clean_prefix'].values)"
   ]
  },
  {
   "cell_type": "markdown",
   "metadata": {
    "colab_type": "text",
    "id": "m37dOR75gohj"
   },
   "source": [
    "4. Vectorizing school state and grade"
   ]
  },
  {
   "cell_type": "code",
   "execution_count": 25,
   "metadata": {
    "colab": {
     "base_uri": "https://localhost:8080/",
     "height": 88
    },
    "colab_type": "code",
    "id": "SqpD-PS4go2-",
    "outputId": "9917191b-c379-454f-dded-90b8a7254b1e"
   },
   "outputs": [
    {
     "name": "stdout",
     "output_type": "stream",
     "text": [
      "['nine_twelve', 'prek_two', 'six_eight', 'three_five']\n",
      "Shape of matrix after one hot encodig  (48600, 4)\n",
      "['VT', 'WY', 'ND', 'MT', 'RI', 'SD', 'AK', 'DE', 'NE', 'NH', 'HI', 'WV', 'DC', 'ME', 'NM', 'KS', 'IA', 'ID', 'AR', 'CO', 'MN', 'OR', 'KY', 'MS', 'MD', 'NV', 'CT', 'UT', 'TN', 'AL', 'WI', 'VA', 'NJ', 'AZ', 'WA', 'LA', 'MA', 'OK', 'OH', 'MO', 'IN', 'PA', 'MI', 'SC', 'GA', 'IL', 'NC', 'FL', 'NY', 'TX', 'CA']\n"
     ]
    }
   ],
   "source": [
    "vectorizer = CountVectorizer(vocabulary=list(grade_dict.keys()), lowercase=False, binary=True)\n",
    "\n",
    "# fitting on train data\n",
    "vectorizer.fit(X_train['clean_grade'].values)\n",
    "print(vectorizer.get_feature_names())\n",
    "grade_feature = vectorizer.get_feature_names()\n",
    "# for train data\n",
    "grade_one_hot = vectorizer.transform(X_train['clean_grade'].values)\n",
    "print(\"Shape of matrix after one hot encodig \",grade_one_hot.shape)\n",
    "\n",
    "# for val data\n",
    "val_grade_one_hot = vectorizer.transform(X_val['clean_grade'].values)\n",
    "\n",
    "# for test data\n",
    "test_grade_one_hot = vectorizer.transform(X_test['clean_grade'].values)\n",
    "\n",
    "\n",
    "vectorizer = CountVectorizer(vocabulary=list(sorted_state_dict.keys()), lowercase=False, binary=True)\n",
    "vectorizer.fit(X_train['clean_state'].values)\n",
    "print(vectorizer.get_feature_names())\n",
    "state_one_hot = vectorizer.transform(X_train['clean_state'].values)\n",
    "state_feature = vectorizer.get_feature_names()\n",
    "\n",
    "val_state_one_hot = vectorizer.transform(X_val['clean_state'].values)\n",
    "\n",
    "test_state_one_hot = vectorizer.transform(X_test['clean_state'].values)\n",
    "\n"
   ]
  },
  {
   "cell_type": "markdown",
   "metadata": {
    "colab_type": "text",
    "id": "9gukmoGLh7wi"
   },
   "source": [
    "<h3>Vectorizing Text Feature</h3>"
   ]
  },
  {
   "cell_type": "markdown",
   "metadata": {
    "colab_type": "text",
    "id": "TetkijlKiAu2"
   },
   "source": [
    "1. BOW"
   ]
  },
  {
   "cell_type": "code",
   "execution_count": 26,
   "metadata": {
    "colab": {
     "base_uri": "https://localhost:8080/",
     "height": 102
    },
    "colab_type": "code",
    "id": "P_u_xJ2Nh5Ks",
    "outputId": "b2d98486-b49e-4d94-c727-7448a6080116"
   },
   "outputs": [
    {
     "name": "stdout",
     "output_type": "stream",
     "text": [
      "Shape of train matrix :  (48600, 5000)\n",
      "Shape of test matrix :  (6000, 5000)\n",
      "Shape of train matrix :  (48600, 4190)\n",
      "Shape of test matrix :  (5400, 4190)\n",
      "Shape of test matrix :  (6000, 4190)\n"
     ]
    }
   ],
   "source": [
    "vectorizer = CountVectorizer(min_df=10,ngram_range=(1,4),max_features=5000)\n",
    "#fit using train data\n",
    "vectorizer.fit(preprocessed_essays)\n",
    "essay_feature = vectorizer.get_feature_names()\n",
    "\n",
    "\n",
    "# for train data\n",
    "text_bow = vectorizer.transform(preprocessed_essays)\n",
    "print(\"Shape of train matrix : \",text_bow.shape)\n",
    "\n",
    "# for val data\n",
    "val_text_bow = vectorizer.transform(val_preprocessed_essays)\n",
    "\n",
    "\n",
    "# for test data\n",
    "test_text_bow = vectorizer.transform(test_preprocessed_essays)\n",
    "print(\"Shape of test matrix : \",test_text_bow.shape)\n",
    "\n",
    "\n",
    "# for title\n",
    "vectorizer.fit(preprocessed_title)\n",
    "title_feature = vectorizer.get_feature_names()\n",
    "\n",
    "# for train data\n",
    "title_bow = vectorizer.transform(preprocessed_title)\n",
    "print(\"Shape of train matrix : \",title_bow.shape)\n",
    "\n",
    "# for val data\n",
    "val_title_bow = vectorizer.transform(val_preprocessed_title)\n",
    "print(\"Shape of test matrix : \",val_title_bow.shape)\n",
    "\n",
    "# for test data\n",
    "test_title_bow = vectorizer.transform(test_preprocessed_title)\n",
    "print(\"Shape of test matrix : \",test_title_bow.shape)"
   ]
  },
  {
   "cell_type": "markdown",
   "metadata": {
    "colab_type": "text",
    "id": "N5dMGDGUi2fo"
   },
   "source": [
    "2. TFIDF"
   ]
  },
  {
   "cell_type": "code",
   "execution_count": 27,
   "metadata": {
    "colab": {
     "base_uri": "https://localhost:8080/",
     "height": 119
    },
    "colab_type": "code",
    "id": "vpD4ZqDAi4vT",
    "outputId": "7041fb0a-4b03-40cb-8cac-e8af8b6b6a5d"
   },
   "outputs": [
    {
     "name": "stdout",
     "output_type": "stream",
     "text": [
      "Shape of train matrix :  (48600, 5000)\n",
      "Shape of val matrix :  (5400, 5000)\n",
      "Shape of test matrix :  (6000, 5000)\n",
      "Shape of train matrix :  (48600, 4190)\n",
      "Shape of val matrix :  (5400, 4190)\n",
      "Shape of test matrix :  (6000, 4190)\n"
     ]
    }
   ],
   "source": [
    "vectorizer = TfidfVectorizer(min_df=10,ngram_range=(1,4),max_features=5000)\n",
    "#fit using train data\n",
    "vectorizer.fit(preprocessed_essays)\n",
    "essay_feature_tfidf = vectorizer.get_feature_names()\n",
    "# for train data\n",
    "text_tfidf = vectorizer.transform(preprocessed_essays)\n",
    "print(\"Shape of train matrix : \",text_tfidf.shape)\n",
    "\n",
    "\n",
    "# for val data\n",
    "val_text_tfidf = vectorizer.transform(val_preprocessed_essays)\n",
    "print(\"Shape of val matrix : \",val_text_tfidf.shape)\n",
    "\n",
    "# for test data\n",
    "test_text_tfidf = vectorizer.transform(test_preprocessed_essays)\n",
    "print(\"Shape of test matrix : \",test_text_tfidf.shape)\n",
    "\n",
    "\n",
    "# for title\n",
    "vectorizer.fit(preprocessed_title)\n",
    "title_feature_tfidf = vectorizer.get_feature_names()\n",
    "\n",
    "# for train data\n",
    "title_tfidf = vectorizer.transform(preprocessed_title)\n",
    "print(\"Shape of train matrix : \",title_tfidf.shape)\n",
    "\n",
    "# for val data\n",
    "val_title_tfidf = vectorizer.transform(val_preprocessed_title)\n",
    "print(\"Shape of val matrix : \",val_title_tfidf.shape)\n",
    "\n",
    "\n",
    "# for test data\n",
    "test_title_tfidf = vectorizer.transform(test_preprocessed_title)\n",
    "print(\"Shape of test matrix : \",test_title_tfidf.shape)"
   ]
  },
  {
   "cell_type": "markdown",
   "metadata": {
    "colab_type": "text",
    "id": "IEh5N1Z_jQnE"
   },
   "source": [
    "3. Avg W2v"
   ]
  },
  {
   "cell_type": "code",
   "execution_count": 28,
   "metadata": {
    "colab": {
     "base_uri": "https://localhost:8080/",
     "height": 34
    },
    "colab_type": "code",
    "id": "4_ySo73gjVGY",
    "outputId": "adb21bb3-5c62-46b2-9e20-feb4757763c6"
   },
   "outputs": [],
   "source": [
    "with open('glove_vectors', 'rb') as f:\n",
    "    model = pickle.load(f)\n",
    "    glove_words =  set(model.keys())"
   ]
  },
  {
   "cell_type": "code",
   "execution_count": 29,
   "metadata": {
    "colab": {
     "base_uri": "https://localhost:8080/",
     "height": 170
    },
    "colab_type": "code",
    "id": "wvnmCGP6jlTf",
    "outputId": "1b94330e-549d-4fb7-c457-d1d596d7f288"
   },
   "outputs": [
    {
     "name": "stderr",
     "output_type": "stream",
     "text": [
      "100%|██████████████████████████████████████████████████████████████████████████| 48600/48600 [00:15<00:00, 3103.63it/s]\n"
     ]
    },
    {
     "name": "stdout",
     "output_type": "stream",
     "text": [
      "48600\n",
      "300\n"
     ]
    },
    {
     "name": "stderr",
     "output_type": "stream",
     "text": [
      "100%|████████████████████████████████████████████████████████████████████████████| 5400/5400 [00:01<00:00, 3117.68it/s]\n"
     ]
    },
    {
     "name": "stdout",
     "output_type": "stream",
     "text": [
      "5400\n",
      "300\n"
     ]
    },
    {
     "name": "stderr",
     "output_type": "stream",
     "text": [
      "100%|████████████████████████████████████████████████████████████████████████████| 6000/6000 [00:01<00:00, 3046.82it/s]\n"
     ]
    },
    {
     "name": "stdout",
     "output_type": "stream",
     "text": [
      "6000\n",
      "300\n"
     ]
    }
   ],
   "source": [
    "# for train data\n",
    "avg_w2v_vectors = []; # the avg-w2v for each sentence/review is stored in this list\n",
    "for sentence in tqdm(preprocessed_essays): # for each review/sentence\n",
    "    vector = np.zeros(300) # as word vectors are of zero length\n",
    "    cnt_words =0; # num of words with a valid vector in the sentence/review\n",
    "    for word in sentence.split(): # for each word in a review/sentence\n",
    "        if word in glove_words:\n",
    "            vector += model[word]\n",
    "            cnt_words += 1\n",
    "    if cnt_words != 0:\n",
    "        vector /= cnt_words\n",
    "    avg_w2v_vectors.append(vector)\n",
    "print(len(avg_w2v_vectors))\n",
    "print(len(avg_w2v_vectors[0]))\n",
    "\n",
    "\n",
    "# for val data\n",
    "val_avg_w2v_vectors = [] # the avg-w2v for each sentence/review is stored in this list\n",
    "for sentence in tqdm(val_preprocessed_essays): # for each review/sentence\n",
    "    vector = np.zeros(300) # as word vectors are of zero length\n",
    "    cnt_words =0; # num of words with a valid vector in the sentence/review\n",
    "    for word in sentence.split(): # for each word in a review/sentence\n",
    "        if word in glove_words:\n",
    "            vector += model[word]\n",
    "            cnt_words += 1\n",
    "    if cnt_words != 0:\n",
    "        vector /= cnt_words\n",
    "    val_avg_w2v_vectors.append(vector)\n",
    "\n",
    "print(len(val_avg_w2v_vectors))\n",
    "print(len(val_avg_w2v_vectors[0]))\n",
    "\n",
    "    \n",
    "# for test data\n",
    "test_avg_w2v_vectors = [] # the avg-w2v for each sentence/review is stored in this list\n",
    "for sentence in tqdm(test_preprocessed_essays): # for each review/sentence\n",
    "    vector = np.zeros(300) # as word vectors are of zero length\n",
    "    cnt_words =0; # num of words with a valid vector in the sentence/review\n",
    "    for word in sentence.split(): # for each word in a review/sentence\n",
    "        if word in glove_words:\n",
    "            vector += model[word]\n",
    "            cnt_words += 1\n",
    "    if cnt_words != 0:\n",
    "        vector /= cnt_words\n",
    "    test_avg_w2v_vectors.append(vector)\n",
    "\n",
    "print(len(test_avg_w2v_vectors))\n",
    "print(len(test_avg_w2v_vectors[0]))"
   ]
  },
  {
   "cell_type": "code",
   "execution_count": 30,
   "metadata": {
    "colab": {
     "base_uri": "https://localhost:8080/",
     "height": 170
    },
    "colab_type": "code",
    "id": "mpVhf9C0kCsr",
    "outputId": "78af2d0f-630c-43f1-c4ba-edfeb4ee92e8"
   },
   "outputs": [
    {
     "name": "stderr",
     "output_type": "stream",
     "text": [
      "100%|█████████████████████████████████████████████████████████████████████████| 48600/48600 [00:00<00:00, 61269.86it/s]\n"
     ]
    },
    {
     "name": "stdout",
     "output_type": "stream",
     "text": [
      "48600\n",
      "300\n"
     ]
    },
    {
     "name": "stderr",
     "output_type": "stream",
     "text": [
      "100%|███████████████████████████████████████████████████████████████████████████| 5400/5400 [00:00<00:00, 59946.06it/s]\n"
     ]
    },
    {
     "name": "stdout",
     "output_type": "stream",
     "text": [
      "5400\n",
      "300\n"
     ]
    },
    {
     "name": "stderr",
     "output_type": "stream",
     "text": [
      "100%|███████████████████████████████████████████████████████████████████████████| 6000/6000 [00:00<00:00, 59946.32it/s]\n"
     ]
    },
    {
     "name": "stdout",
     "output_type": "stream",
     "text": [
      "6000\n",
      "300\n"
     ]
    }
   ],
   "source": [
    "title_avg_w2v_vectors = []\n",
    "for sentence in tqdm(preprocessed_title): \n",
    "    vector = np.zeros(300) \n",
    "    cnt_words =0; \n",
    "    for word in sentence.split(): \n",
    "        if word in glove_words:\n",
    "            vector += model[word]\n",
    "            cnt_words += 1\n",
    "    if cnt_words != 0:\n",
    "        vector /= cnt_words\n",
    "    title_avg_w2v_vectors.append(vector)\n",
    "\n",
    "print(len(title_avg_w2v_vectors))\n",
    "print(len(title_avg_w2v_vectors[0]))\n",
    "\n",
    "# for val data\n",
    "val_title_avg_w2v_vectors = []\n",
    "for sentence in tqdm(val_preprocessed_title): \n",
    "    vector = np.zeros(300) \n",
    "    cnt_words =0; \n",
    "    for word in sentence.split(): \n",
    "        if word in glove_words:\n",
    "            vector += model[word]\n",
    "            cnt_words += 1\n",
    "    if cnt_words != 0:\n",
    "        vector /= cnt_words\n",
    "    val_title_avg_w2v_vectors.append(vector)\n",
    "\n",
    "print(len(val_title_avg_w2v_vectors))\n",
    "print(len(val_title_avg_w2v_vectors[0]))\n",
    "\n",
    "\n",
    "# for test data\n",
    "test_title_avg_w2v_vectors = []\n",
    "for sentence in tqdm(test_preprocessed_title): \n",
    "    vector = np.zeros(300) \n",
    "    cnt_words =0; \n",
    "    for word in sentence.split(): \n",
    "        if word in glove_words:\n",
    "            vector += model[word]\n",
    "            cnt_words += 1\n",
    "    if cnt_words != 0:\n",
    "        vector /= cnt_words\n",
    "    test_title_avg_w2v_vectors.append(vector)\n",
    "\n",
    "print(len(test_title_avg_w2v_vectors))\n",
    "print(len(test_title_avg_w2v_vectors[0]))\n"
   ]
  },
  {
   "cell_type": "markdown",
   "metadata": {
    "colab_type": "text",
    "id": "_hl6FSpGk5kL"
   },
   "source": [
    "4. TFIDF avgw2v"
   ]
  },
  {
   "cell_type": "code",
   "execution_count": 31,
   "metadata": {
    "colab": {
     "base_uri": "https://localhost:8080/",
     "height": 170
    },
    "colab_type": "code",
    "id": "6coAxe9Nk8y3",
    "outputId": "b7355ff7-a74b-45b5-de70-2f5dfa07b5a0"
   },
   "outputs": [
    {
     "name": "stderr",
     "output_type": "stream",
     "text": [
      "100%|███████████████████████████████████████████████████████████████████████████| 48600/48600 [01:48<00:00, 449.76it/s]\n"
     ]
    },
    {
     "name": "stdout",
     "output_type": "stream",
     "text": [
      "48600\n",
      "300\n"
     ]
    },
    {
     "name": "stderr",
     "output_type": "stream",
     "text": [
      "100%|█████████████████████████████████████████████████████████████████████████████| 5400/5400 [00:12<00:00, 424.20it/s]\n"
     ]
    },
    {
     "name": "stdout",
     "output_type": "stream",
     "text": [
      "5400\n",
      "300\n"
     ]
    },
    {
     "name": "stderr",
     "output_type": "stream",
     "text": [
      "100%|█████████████████████████████████████████████████████████████████████████████| 6000/6000 [00:13<00:00, 441.12it/s]\n"
     ]
    },
    {
     "name": "stdout",
     "output_type": "stream",
     "text": [
      "6000\n",
      "300\n"
     ]
    }
   ],
   "source": [
    "#  for train data\n",
    "tfidf_model = TfidfVectorizer()\n",
    "tfidf_model.fit(preprocessed_essays)\n",
    "# we are converting a dictionary with word as a key, and the idf as a value\n",
    "dictionary = dict(zip(tfidf_model.get_feature_names(), list(tfidf_model.idf_)))\n",
    "tfidf_words = set(tfidf_model.get_feature_names())\n",
    "\n",
    "tfidf_w2v_vectors = []; # the avg-w2v for each sentence/review is stored in this list\n",
    "for sentence in tqdm(preprocessed_essays): # for each review/sentence\n",
    "    vector = np.zeros(300) # as word vectors are of zero length\n",
    "    tf_idf_weight =0; # num of words with a valid vector in the sentence/review\n",
    "    for word in sentence.split(): # for each word in a review/sentence\n",
    "        if (word in glove_words) and (word in tfidf_words):\n",
    "            vec = model[word] # getting the vector for each word\n",
    "            # here we are multiplying idf value(dictionary[word]) and the tf value((sentence.count(word)/len(sentence.split())))\n",
    "            tf_idf = dictionary[word]*(sentence.count(word)/len(sentence.split())) # getting the tfidf value for each word\n",
    "            vector += (vec * tf_idf) # calculating tfidf weighted w2v\n",
    "            tf_idf_weight += tf_idf\n",
    "    if tf_idf_weight != 0:\n",
    "        vector /= tf_idf_weight\n",
    "    tfidf_w2v_vectors.append(vector)\n",
    "\n",
    "print(len(tfidf_w2v_vectors))\n",
    "print(len(tfidf_w2v_vectors[0]))\n",
    "\n",
    "# -------------- for val data --------------------------\n",
    "val_tfidf_model = TfidfVectorizer()\n",
    "val_tfidf_model.fit(preprocessed_essays)\n",
    "# we are converting a dictionary with word as a key, and the idf as a value\n",
    "dictionary = dict(zip(val_tfidf_model.get_feature_names(), list(val_tfidf_model.idf_)))\n",
    "tfidf_words = set(val_tfidf_model.get_feature_names())\n",
    "\n",
    "val_tfidf_w2v_vectors = []; # the avg-w2v for each sentence/review is stored in this list\n",
    "for sentence in tqdm(val_preprocessed_essays): # for each review/sentence\n",
    "    vector = np.zeros(300) # as word vectors are of zero length\n",
    "    tf_idf_weight =0; # num of words with a valid vector in the sentence/review\n",
    "    for word in sentence.split(): # for each word in a review/sentence\n",
    "        if (word in glove_words) and (word in tfidf_words):\n",
    "            vec = model[word] # getting the vector for each word\n",
    "            # here we are multiplying idf value(dictionary[word]) and the tf value((sentence.count(word)/len(sentence.split())))\n",
    "            tf_idf = dictionary[word]*(sentence.count(word)/len(sentence.split())) # getting the tfidf value for each word\n",
    "            vector += (vec * tf_idf) # calculating tfidf weighted w2v\n",
    "            tf_idf_weight += tf_idf\n",
    "    if tf_idf_weight != 0:\n",
    "        vector /= tf_idf_weight\n",
    "    val_tfidf_w2v_vectors.append(vector)\n",
    "\n",
    "print(len(val_tfidf_w2v_vectors))\n",
    "print(len(val_tfidf_w2v_vectors[0]))\n",
    "\n",
    "\n",
    "\n",
    "\n",
    "# ------------------ for test data ---------------------------\n",
    "test_tfidf_model = TfidfVectorizer()\n",
    "test_tfidf_model.fit(preprocessed_essays)\n",
    "# we are converting a dictionary with word as a key, and the idf as a value\n",
    "dictionary = dict(zip(test_tfidf_model.get_feature_names(), list(test_tfidf_model.idf_)))\n",
    "tfidf_words = set(test_tfidf_model.get_feature_names())\n",
    "\n",
    "test_tfidf_w2v_vectors = []; # the avg-w2v for each sentence/review is stored in this list\n",
    "for sentence in tqdm(test_preprocessed_essays): # for each review/sentence\n",
    "    vector = np.zeros(300) # as word vectors are of zero length\n",
    "    tf_idf_weight =0; # num of words with a valid vector in the sentence/review\n",
    "    for word in sentence.split(): # for each word in a review/sentence\n",
    "        if (word in glove_words) and (word in tfidf_words):\n",
    "            vec = model[word] # getting the vector for each word\n",
    "            # here we are multiplying idf value(dictionary[word]) and the tf value((sentence.count(word)/len(sentence.split())))\n",
    "            tf_idf = dictionary[word]*(sentence.count(word)/len(sentence.split())) # getting the tfidf value for each word\n",
    "            vector += (vec * tf_idf) # calculating tfidf weighted w2v\n",
    "            tf_idf_weight += tf_idf\n",
    "    if tf_idf_weight != 0:\n",
    "        vector /= tf_idf_weight\n",
    "    test_tfidf_w2v_vectors.append(vector)\n",
    "\n",
    "print(len(test_tfidf_w2v_vectors))\n",
    "print(len(test_tfidf_w2v_vectors[0]))\n"
   ]
  },
  {
   "cell_type": "code",
   "execution_count": 32,
   "metadata": {
    "colab": {
     "base_uri": "https://localhost:8080/",
     "height": 119
    },
    "colab_type": "code",
    "id": "FroiklJAl2__",
    "outputId": "65adbdb5-101b-4efc-c17c-efb3ee81be66"
   },
   "outputs": [
    {
     "name": "stderr",
     "output_type": "stream",
     "text": [
      "100%|█████████████████████████████████████████████████████████████████████████| 48600/48600 [00:01<00:00, 30644.57it/s]\n"
     ]
    },
    {
     "name": "stdout",
     "output_type": "stream",
     "text": [
      "48600\n"
     ]
    },
    {
     "name": "stderr",
     "output_type": "stream",
     "text": [
      "100%|███████████████████████████████████████████████████████████████████████████| 5400/5400 [00:00<00:00, 29084.43it/s]\n"
     ]
    },
    {
     "name": "stdout",
     "output_type": "stream",
     "text": [
      "5400\n"
     ]
    },
    {
     "name": "stderr",
     "output_type": "stream",
     "text": [
      "100%|███████████████████████████████████████████████████████████████████████████| 6000/6000 [00:00<00:00, 31886.35it/s]\n"
     ]
    },
    {
     "name": "stdout",
     "output_type": "stream",
     "text": [
      "6000\n"
     ]
    }
   ],
   "source": [
    "# for title \n",
    "tfidf_model.fit(preprocessed_title)\n",
    "\n",
    "dictionary = dict(zip(tfidf_model.get_feature_names(), list(tfidf_model.idf_)))\n",
    "tfidf_words = set(tfidf_model.get_feature_names())\n",
    "\n",
    "\n",
    "title_tfidf_w2v_vectors = []; # the avg-w2v for each sentence/review is stored in this list\n",
    "for sentence in tqdm(preprocessed_title): # for each review/sentence\n",
    "    vector = np.zeros(300) # as word vectors are of zero length\n",
    "    tf_idf_weight =0; # num of words with a valid vector in the sentence/review\n",
    "    for word in sentence.split(): # for each word in a review/sentence\n",
    "        if (word in glove_words) and (word in tfidf_words):\n",
    "            vec = model[word] # getting the vector for each word\n",
    "            # here we are multiplying idf value(dictionary[word]) and the tf value((sentence.count(word)/len(sentence.split())))\n",
    "            tf_idf = dictionary[word]*(sentence.count(word)/len(sentence.split())) # getting the tfidf value for each word\n",
    "            vector += (vec * tf_idf) # calculating tfidf weighted w2v\n",
    "            tf_idf_weight += tf_idf\n",
    "    if tf_idf_weight != 0:\n",
    "        vector /= tf_idf_weight\n",
    "    title_tfidf_w2v_vectors.append(vector)\n",
    "\n",
    "print(len(title_tfidf_w2v_vectors))\n",
    "\n",
    "# -------------- for val title -----------------------------\n",
    "val_tfidf_model.fit(preprocessed_title)\n",
    "\n",
    "dictionary = dict(zip(val_tfidf_model.get_feature_names(), list(val_tfidf_model.idf_)))\n",
    "tfidf_words = set(val_tfidf_model.get_feature_names())\n",
    "\n",
    "\n",
    "val_title_tfidf_w2v_vectors = []; # the avg-w2v for each sentence/review is stored in this list\n",
    "for sentence in tqdm(val_preprocessed_title): # for each review/sentence\n",
    "    vector = np.zeros(300) # as word vectors are of zero length\n",
    "    tf_idf_weight =0; # num of words with a valid vector in the sentence/review\n",
    "    for word in sentence.split(): # for each word in a review/sentence\n",
    "        if (word in glove_words) and (word in tfidf_words):\n",
    "            vec = model[word] # getting the vector for each word\n",
    "            # here we are multiplying idf value(dictionary[word]) and the tf value((sentence.count(word)/len(sentence.split())))\n",
    "            tf_idf = dictionary[word]*(sentence.count(word)/len(sentence.split())) # getting the tfidf value for each word\n",
    "            vector += (vec * tf_idf) # calculating tfidf weighted w2v\n",
    "            tf_idf_weight += tf_idf\n",
    "    if tf_idf_weight != 0:\n",
    "        vector /= tf_idf_weight\n",
    "    val_title_tfidf_w2v_vectors.append(vector)\n",
    "\n",
    "print(len(val_title_tfidf_w2v_vectors))\n",
    "\n",
    "\n",
    "\n",
    "# --------------- for test title  ----------------------\n",
    "test_tfidf_model.fit(preprocessed_title)\n",
    "\n",
    "dictionary = dict(zip(test_tfidf_model.get_feature_names(), list(test_tfidf_model.idf_)))\n",
    "tfidf_words = set(test_tfidf_model.get_feature_names())\n",
    "\n",
    "\n",
    "test_title_tfidf_w2v_vectors = []; # the avg-w2v for each sentence/review is stored in this list\n",
    "for sentence in tqdm(test_preprocessed_title): # for each review/sentence\n",
    "    vector = np.zeros(300) # as word vectors are of zero length\n",
    "    tf_idf_weight =0; # num of words with a valid vector in the sentence/review\n",
    "    for word in sentence.split(): # for each word in a review/sentence\n",
    "        if (word in glove_words) and (word in tfidf_words):\n",
    "            vec = model[word] # getting the vector for each word\n",
    "            # here we are multiplying idf value(dictionary[word]) and the tf value((sentence.count(word)/len(sentence.split())))\n",
    "            tf_idf = dictionary[word]*(sentence.count(word)/len(sentence.split())) # getting the tfidf value for each word\n",
    "            vector += (vec * tf_idf) # calculating tfidf weighted w2v\n",
    "            tf_idf_weight += tf_idf\n",
    "    if tf_idf_weight != 0:\n",
    "        vector /= tf_idf_weight\n",
    "    test_title_tfidf_w2v_vectors.append(vector)\n",
    "\n",
    "print(len(test_title_tfidf_w2v_vectors))\n"
   ]
  },
  {
   "cell_type": "markdown",
   "metadata": {
    "colab_type": "text",
    "id": "BzUeriXDsnc6"
   },
   "source": [
    "Printing all"
   ]
  },
  {
   "cell_type": "code",
   "execution_count": 33,
   "metadata": {
    "colab": {
     "base_uri": "https://localhost:8080/",
     "height": 153
    },
    "colab_type": "code",
    "id": "YIW7Y0aLsXy2",
    "outputId": "9422472d-337a-4ba1-9f66-363fbdb23199"
   },
   "outputs": [
    {
     "name": "stdout",
     "output_type": "stream",
     "text": [
      "**********************************************************************\n",
      "Categorical Features that are considered :- \n",
      "Subject Categories :-  (48600, 9)\n",
      "Subject Sub-Categories :-  (48600, 30)\n",
      "Sudent Grade :-  (48600, 4)\n",
      "School State :-  (48600, 51)\n",
      "Teacher Prefix :-  (48600, 5)\n",
      "**********************************************************************\n"
     ]
    }
   ],
   "source": [
    "print(\"*\"*70)\n",
    "print(\"Categorical Features that are considered :- \")\n",
    "print(\"Subject Categories :- \",categories_one_hot.shape)\n",
    "print(\"Subject Sub-Categories :- \",sub_categories_one_hot.shape)\n",
    "print(\"Sudent Grade :- \",grade_one_hot.shape)\n",
    "print(\"School State :- \",state_one_hot.shape)\n",
    "print(\"Teacher Prefix :- \",prefix_one_hot.shape)\n",
    "print(\"*\"*70)"
   ]
  },
  {
   "cell_type": "code",
   "execution_count": 34,
   "metadata": {
    "colab": {
     "base_uri": "https://localhost:8080/",
     "height": 153
    },
    "colab_type": "code",
    "id": "7YqhNuxUswla",
    "outputId": "8e69f181-0baa-4beb-8458-06fd7015898d"
   },
   "outputs": [
    {
     "name": "stdout",
     "output_type": "stream",
     "text": [
      "Text Features that are considered :- \n",
      "**********************************************************************\n",
      "Project Essay BOW:-  (48600, 5000)\n",
      "Project Essay TFIDF:-  (48600, 5000)\n",
      "**********************************************************************\n",
      "Project Title BOW:-  (48600, 4190)\n",
      "Project Title TFIDF:-  (48600, 4190)\n",
      "**********************************************************************\n"
     ]
    }
   ],
   "source": [
    "print(\"Text Features that are considered :- \")\n",
    "print(\"*\"*70)\n",
    "print(\"Project Essay BOW:- \",text_bow.shape)\n",
    "print(\"Project Essay TFIDF:- \",text_tfidf.shape)\n",
    "print(\"*\"*70)\n",
    "print(\"Project Title BOW:- \",title_bow.shape)\n",
    "print(\"Project Title TFIDF:- \",title_tfidf.shape)\n",
    "print(\"*\"*70)"
   ]
  },
  {
   "cell_type": "markdown",
   "metadata": {
    "colab_type": "text",
    "id": "X4nWVd1QuurX"
   },
   "source": [
    "# sets"
   ]
  },
  {
   "cell_type": "code",
   "execution_count": 35,
   "metadata": {
    "colab": {
     "base_uri": "https://localhost:8080/",
     "height": 85
    },
    "colab_type": "code",
    "id": "h2DKZjrss15q",
    "outputId": "53a3ab1b-555a-469b-9d8f-3225e5eacdbf"
   },
   "outputs": [
    {
     "name": "stdout",
     "output_type": "stream",
     "text": [
      "(48600, 9292) \t (6000, 9292) \t (5400, 9292)\n",
      "(48600, 9292) \t (6000, 9292) \t (5400, 9292)\n",
      "(48600, 702) \t (6000, 702) \t (5400, 702)\n",
      "(48600, 702) \t (6000, 702) \t (5400, 702)\n"
     ]
    }
   ],
   "source": [
    "#combining all feature into one\n",
    "from scipy.sparse import hstack\n",
    "\n",
    "set1 = hstack((categories_one_hot,sub_categories_one_hot,prefix_one_hot,grade_one_hot,state_one_hot,price_standardized,quantity_standardized,number_ppp_standardized,text_bow,title_bow))\n",
    "set1_v = hstack((val_categories_one_hot,val_sub_categories_one_hot,val_prefix_one_hot,val_grade_one_hot,val_state_one_hot,val_price_standardized,val_quantity_standardized,val_number_ppp_standardized,val_text_bow,val_title_bow))\n",
    "set1_t = hstack((test_categories_one_hot,test_sub_categories_one_hot,test_prefix_one_hot,test_grade_one_hot,test_state_one_hot,test_price_standardized,test_quantity_standardized,test_number_ppp_standardized,test_text_bow,test_title_bow))\n",
    "\n",
    "set2 = hstack((categories_one_hot,sub_categories_one_hot,prefix_one_hot,state_one_hot,grade_one_hot,text_tfidf,title_tfidf,price_standardized,quantity_standardized,number_ppp_standardized))\n",
    "set2_v = hstack((val_categories_one_hot,val_sub_categories_one_hot,val_prefix_one_hot,val_state_one_hot,val_grade_one_hot,val_text_tfidf,val_title_tfidf,val_price_standardized,val_quantity_standardized,val_number_ppp_standardized))\n",
    "set2_t = hstack((test_categories_one_hot,test_sub_categories_one_hot,test_prefix_one_hot,test_state_one_hot,test_grade_one_hot,test_text_tfidf,test_title_tfidf,test_price_standardized,test_quantity_standardized,test_number_ppp_standardized))\n",
    "\n",
    "set3 = hstack((categories_one_hot,sub_categories_one_hot,prefix_one_hot,state_one_hot,grade_one_hot,price_standardized,quantity_standardized,number_ppp_standardized,avg_w2v_vectors,title_avg_w2v_vectors))\n",
    "set3_v = hstack((val_categories_one_hot,val_sub_categories_one_hot,val_prefix_one_hot,val_state_one_hot,val_grade_one_hot,val_price_standardized,val_quantity_standardized,val_number_ppp_standardized,val_avg_w2v_vectors,val_title_avg_w2v_vectors))\n",
    "set3_t = hstack((test_categories_one_hot,test_sub_categories_one_hot,test_prefix_one_hot,test_state_one_hot,test_grade_one_hot,test_price_standardized,test_quantity_standardized,test_number_ppp_standardized,test_avg_w2v_vectors,test_title_avg_w2v_vectors))\n",
    "\n",
    "set4 = hstack((categories_one_hot,sub_categories_one_hot,prefix_one_hot,state_one_hot,grade_one_hot,price_standardized,quantity_standardized,number_ppp_standardized,tfidf_w2v_vectors,title_tfidf_w2v_vectors))\n",
    "set4_v = hstack((val_categories_one_hot,val_sub_categories_one_hot,val_prefix_one_hot,val_state_one_hot,val_grade_one_hot,val_price_standardized,val_quantity_standardized,val_number_ppp_standardized,val_tfidf_w2v_vectors,val_title_tfidf_w2v_vectors))\n",
    "set4_t = hstack((test_categories_one_hot,test_sub_categories_one_hot,test_prefix_one_hot,test_state_one_hot,test_grade_one_hot,test_price_standardized,test_quantity_standardized,test_number_ppp_standardized,test_tfidf_w2v_vectors,test_title_tfidf_w2v_vectors))\n",
    "\n",
    "\n",
    "print(set1.shape,\"\\t\",set1_t.shape,\"\\t\",set1_v.shape)\n",
    "print(set2.shape,\"\\t\",set2_t.shape,\"\\t\",set2_v.shape)\n",
    "print(set3.shape,\"\\t\",set3_t.shape,\"\\t\",set3_v.shape)\n",
    "print(set4.shape,\"\\t\",set4_t.shape,\"\\t\",set4_v.shape)"
   ]
  },
  {
   "cell_type": "code",
   "execution_count": 36,
   "metadata": {
    "colab": {
     "base_uri": "https://localhost:8080/",
     "height": 34
    },
    "colab_type": "code",
    "id": "vhdpHQ__V4aM",
    "outputId": "31310e0a-5c18-47e0-a669-40f9b3d0dd31"
   },
   "outputs": [
    {
     "name": "stdout",
     "output_type": "stream",
     "text": [
      "9292\n"
     ]
    }
   ],
   "source": [
    "set_feature = categories_feature + subcategories_feature + prefix_feature +state_feature +  grade_feature + essay_feature_tfidf + title_feature_tfidf\n",
    "\n",
    "\n",
    "set_feature.append(\"price\")\n",
    "set_feature.append(\"quantity\")\n",
    "set_feature.append(\"number\")\n",
    "print(len(set_feature))"
   ]
  },
  {
   "cell_type": "code",
   "execution_count": 37,
   "metadata": {
    "colab": {},
    "colab_type": "code",
    "id": "bKJ-sKfNV4aR"
   },
   "outputs": [],
   "source": [
    "from sklearn.neighbors import KNeighborsClassifier\n",
    "from sklearn.metrics import roc_auc_score"
   ]
  },
  {
   "cell_type": "markdown",
   "metadata": {
    "colab_type": "text",
    "id": "6mmLL2MKhWM8"
   },
   "source": [
    "## SET1 (BOW)"
   ]
  },
  {
   "cell_type": "code",
   "execution_count": 38,
   "metadata": {
    "colab": {
     "base_uri": "https://localhost:8080/",
     "height": 431
    },
    "colab_type": "code",
    "id": "yvAK5p6kiwuT",
    "outputId": "9994f4e6-f139-4f30-cd1c-2718f78948e4"
   },
   "outputs": [
    {
     "name": "stdout",
     "output_type": "stream",
     "text": [
      "Completed for k  = 5\n",
      "Completed for k  = 15\n",
      "Completed for k  = 21\n",
      "Completed for k  = 31\n",
      "Completed for k  = 41\n",
      "Completed for k  = 51\n"
     ]
    },
    {
     "data": {
      "image/png": "[encoded data removed]",
      "text/plain": [
       "<Figure size 432x288 with 1 Axes>"
      ]
     },
     "metadata": {
      "needs_background": "light"
     },
     "output_type": "display_data"
    }
   ],
   "source": [
    "train_auc = []\n",
    "cv_auc = []\n",
    "K = [5, 15, 21, 31, 41, 51]\n",
    "for i in K:\n",
    "    neigh = KNeighborsClassifier(n_neighbors=i)\n",
    "    neigh.fit(set1,y_train)\n",
    "    \n",
    "    y_train_pred = neigh.predict(set1)  \n",
    "    y_cv_pred = neigh.predict(set1_v)\n",
    "\n",
    "    # roc_auc_score(y_true, y_score) the 2nd parameter should be probability estimates of the positive class\n",
    "    # not the predicted outputs        \n",
    "    train_auc.append(roc_auc_score(y_train,y_train_pred))\n",
    "    cv_auc.append(roc_auc_score(y_val, y_cv_pred))\n",
    "    print(\"Completed for k  = {}\".format(i))\n",
    "\n",
    "plt.plot(K, train_auc, label='Train AUC')\n",
    "plt.plot(K, cv_auc, label='CV AUC')\n",
    "\n",
    "plt.scatter(K, train_auc, label='Train AUC points')\n",
    "plt.scatter(K, cv_auc, label='CV AUC points')\n",
    "\n",
    "plt.legend()\n",
    "plt.xlabel(\"K: hyperparameter\")\n",
    "plt.ylabel(\"AUC\")\n",
    "plt.title(\"ERROR PLOTS\")\n",
    "plt.xticks(K)\n",
    "plt.grid()\n",
    "plt.show()"
   ]
  },
  {
   "cell_type": "markdown",
   "metadata": {
    "colab_type": "text",
    "id": "jKZgjGfBV4aV"
   },
   "source": [
    "**AUC plot**"
   ]
  },
  {
   "cell_type": "code",
   "execution_count": 45,
   "metadata": {
    "colab": {
     "base_uri": "https://localhost:8080/",
     "height": 295
    },
    "colab_type": "code",
    "id": "H9je9JlbwCLA",
    "outputId": "263d8282-55e6-4177-87a1-da411f279c4a"
   },
   "outputs": [
    {
     "data": {
      "image/png": "[encoded data removed]",
      "text/plain": [
       "<Figure size 432x288 with 1 Axes>"
      ]
     },
     "metadata": {
      "tags": []
     },
     "output_type": "display_data"
    }
   ],
   "source": [
    "# https://scikit-learn.org/stable/modules/generated/sklearn.metrics.roc_curve.html#sklearn.metrics.roc_curve\n",
    "from sklearn.metrics import roc_curve, auc\n",
    "\n",
    "\n",
    "neigh = KNeighborsClassifier(n_neighbors=21)\n",
    "neigh.fit(set1, y_train)\n",
    "# roc_auc_score(y_true, y_score) the 2nd parameter should be probability estimates of the positive class\n",
    "# not the predicted outputs\n",
    "\n",
    "y_train_pred = neigh.predict_proba(set1)[:,1]\n",
    "y_test_pred = neigh.predict_proba(set1_t)[:,1]\n",
    "\n",
    "train_fpr, train_tpr, tr_thresholds = roc_curve(y_train, y_train_pred)\n",
    "test_fpr, test_tpr, te_thresholds = roc_curve(y_test, y_test_pred)\n",
    "\n",
    "plt.plot(train_fpr, train_tpr,label=\"train AUC =\"+str(auc(train_fpr, train_tpr)))\n",
    "plt.plot(test_fpr, test_tpr, label=\"train AUC =\"+str(auc(test_fpr, test_tpr)))\n",
    "plt.legend()\n",
    "plt.title(\"AUC plot\")\n",
    "plt.xlabel(\"False positive rate\")\n",
    "plt.ylabel(\"True positive rate\")\n",
    "plt.plot([0, 1], [0, 1],'r--')\n",
    "plt.title(\"ERROR PLOTS\")\n",
    "plt.grid()\n",
    "plt.show()"
   ]
  },
  {
   "cell_type": "markdown",
   "metadata": {
    "colab_type": "text",
    "id": "G8fmu2gFV4aX"
   },
   "source": [
    "**Confusion Matrix**"
   ]
  },
  {
   "cell_type": "code",
   "execution_count": 46,
   "metadata": {
    "colab": {
     "base_uri": "https://localhost:8080/",
     "height": 312
    },
    "colab_type": "code",
    "id": "IVQaXuo9xDAg",
    "outputId": "1456281b-46c3-499b-8f1d-43707af99807"
   },
   "outputs": [
    {
     "data": {
      "text/plain": [
       "Text(0.5, 1.0, 'Confusion Matrix')"
      ]
     },
     "execution_count": 46,
     "metadata": {
      "tags": []
     },
     "output_type": "execute_result"
    },
    {
     "data": {
      "image/png": "[encoded data removed]",
      "text/plain": [
       "<Figure size 432x288 with 2 Axes>"
      ]
     },
     "metadata": {
      "tags": []
     },
     "output_type": "display_data"
    }
   ],
   "source": [
    "y_test_pred = neigh.predict(set1_t)\n",
    "cm1 = confusion_matrix(y_test,y_test_pred)\n",
    "# https://seaborn.pydata.org/generated/seaborn.heatmap.html\n",
    "sns.heatmap(cm1, annot=True, fmt=\"d\")\n",
    "plt.ylabel(\"Actual Class\")\n",
    "plt.xlabel(\"Predicted Class\")\n",
    "plt.title(\"Confusion Matrix\")"
   ]
  },
  {
   "cell_type": "markdown",
   "metadata": {
    "colab_type": "text",
    "id": "A0vYCMw49nVy"
   },
   "source": [
    "## Set2 (TFIDF)"
   ]
  },
  {
   "cell_type": "code",
   "execution_count": 49,
   "metadata": {
    "colab": {
     "base_uri": "https://localhost:8080/",
     "height": 295
    },
    "colab_type": "code",
    "id": "HDy7AxhUV4ac",
    "outputId": "149a03b7-9432-4d79-b004-0393b844bda3"
   },
   "outputs": [
    {
     "data": {
      "image/png": "[encoded data removed]",
      "text/plain": [
       "<Figure size 432x288 with 1 Axes>"
      ]
     },
     "metadata": {
      "tags": []
     },
     "output_type": "display_data"
    }
   ],
   "source": [
    "train_auc = []\n",
    "cv_auc = []\n",
    "K = [5, 15, 21, 31, 41, 51]\n",
    "for i in K:\n",
    "    neigh = KNeighborsClassifier(n_neighbors=i)\n",
    "    neigh.fit(set2,y_train)\n",
    "    \n",
    "    y_train_pred = neigh.predict(set2)  \n",
    "    y_cv_pred = neigh.predict(set2_v)\n",
    "\n",
    "    # roc_auc_score(y_true, y_score) the 2nd parameter should be probability estimates of the positive class\n",
    "    # not the predicted outputs        \n",
    "    train_auc.append(roc_auc_score(y_train,y_train_pred))\n",
    "    cv_auc.append(roc_auc_score(y_val, y_cv_pred))\n",
    "    print(\"Completed for k  = {}\".format(i))\n",
    "\n",
    "plt.plot(K, train_auc, label='Train AUC')\n",
    "plt.plot(K, cv_auc, label='CV AUC')\n",
    "\n",
    "plt.scatter(K, train_auc, label='Train AUC points')\n",
    "plt.scatter(K, cv_auc, label='CV AUC points')\n",
    "\n",
    "plt.legend()\n",
    "plt.xlabel(\"K: hyperparameter\")\n",
    "plt.ylabel(\"AUC\")\n",
    "plt.title(\"ERROR PLOTS\")\n",
    "plt.xticks(K)\n",
    "plt.grid()\n",
    "plt.show()"
   ]
  },
  {
   "cell_type": "markdown",
   "metadata": {
    "colab_type": "text",
    "id": "Rwtf8zkxV4af"
   },
   "source": [
    "**AUC Plot**"
   ]
  },
  {
   "cell_type": "code",
   "execution_count": 50,
   "metadata": {
    "colab": {
     "base_uri": "https://localhost:8080/",
     "height": 295
    },
    "colab_type": "code",
    "id": "nL83GQOUV4ag",
    "outputId": "e34caf1c-59e5-4126-a97e-8178349b8c11"
   },
   "outputs": [
    {
     "data": {
      "image/png": "[encoded data removed]",
      "text/plain": [
       "<Figure size 432x288 with 1 Axes>"
      ]
     },
     "metadata": {
      "tags": []
     },
     "output_type": "display_data"
    }
   ],
   "source": [
    "# https://scikit-learn.org/stable/modules/generated/sklearn.metrics.roc_curve.html#sklearn.metrics.roc_curve\n",
    "from sklearn.metrics import roc_curve, auc\n",
    "\n",
    "\n",
    "neigh = KNeighborsClassifier(n_neighbors=15)\n",
    "neigh.fit(set2, y_train)\n",
    "# roc_auc_score(y_true, y_score) the 2nd parameter should be probability estimates of the positive class\n",
    "# not the predicted outputs\n",
    "\n",
    "y_train_pred = neigh.predict_proba(set2)[:,1]\n",
    "y_test_pred = neigh.predict_proba(set2_t)[:,1]\n",
    "\n",
    "train_fpr, train_tpr, tr_thresholds = roc_curve(y_train, y_train_pred)\n",
    "test_fpr, test_tpr, te_thresholds = roc_curve(y_test, y_test_pred)\n",
    "\n",
    "plt.plot(train_fpr, train_tpr,label=\"train AUC =\"+str(auc(train_fpr, train_tpr)))\n",
    "plt.plot(test_fpr, test_tpr, label=\"train AUC =\"+str(auc(test_fpr, test_tpr)))\n",
    "plt.legend()\n",
    "plt.title(\"AUC plot\")\n",
    "plt.xlabel(\"False positive rate\")\n",
    "plt.ylabel(\"True positive rate\")\n",
    "plt.plot([0, 1], [0, 1],'r--')\n",
    "plt.title(\"ERROR PLOTS\")\n",
    "plt.grid()\n",
    "plt.show()"
   ]
  },
  {
   "cell_type": "markdown",
   "metadata": {
    "colab_type": "text",
    "id": "8k4Aop71V4ai"
   },
   "source": [
    "**Confusion Matrix**"
   ]
  },
  {
   "cell_type": "code",
   "execution_count": 51,
   "metadata": {
    "colab": {
     "base_uri": "https://localhost:8080/",
     "height": 312
    },
    "colab_type": "code",
    "id": "3vjKdrn-V4aj",
    "outputId": "4d357742-458c-40d7-8cfc-d7d236171073"
   },
   "outputs": [
    {
     "data": {
      "text/plain": [
       "Text(0.5, 1.0, 'Confusion Matrix')"
      ]
     },
     "execution_count": 51,
     "metadata": {
      "tags": []
     },
     "output_type": "execute_result"
    },
    {
     "data": {
      "image/png": "[encoded data removed]",
      "text/plain": [
       "<Figure size 432x288 with 2 Axes>"
      ]
     },
     "metadata": {
      "tags": []
     },
     "output_type": "display_data"
    }
   ],
   "source": [
    "y_test_pred = neigh.predict(set2_t)\n",
    "cm = confusion_matrix(y_test,y_test_pred)\n",
    "# https://seaborn.pydata.org/generated/seaborn.heatmap.html\n",
    "sns.heatmap(cm, annot=True, fmt=\"d\")\n",
    "plt.ylabel(\"Actual Class\")\n",
    "plt.xlabel(\"Predicted Class\")\n",
    "plt.title(\"Confusion Matrix\")"
   ]
  },
  {
   "cell_type": "markdown",
   "metadata": {
    "colab_type": "text",
    "id": "rkfPRn3RAKZ3"
   },
   "source": [
    "## Set3 (Avg W2V)"
   ]
  },
  {
   "cell_type": "code",
   "execution_count": 38,
   "metadata": {
    "colab": {
     "base_uri": "https://localhost:8080/",
     "height": 105
    },
    "colab_type": "code",
    "id": "hwXt1u3__AkW",
    "outputId": "e033f12e-f07c-4431-aebb-aadcc70fd200",
    "scrolled": false
   },
   "outputs": [
    {
     "name": "stdout",
     "output_type": "stream",
     "text": [
      "Completed for k  = 5\n",
      "Completed for k  = 15\n",
      "Completed for k  = 21\n",
      "Completed for k  = 31\n",
      "Completed for k  = 41\n",
      "Completed for k  = 51\n"
     ]
    },
    {
     "data": {
      "image/png": "[encoded data removed]",
      "text/plain": [
       "<Figure size 432x288 with 1 Axes>"
      ]
     },
     "metadata": {
      "needs_background": "light"
     },
     "output_type": "display_data"
    }
   ],
   "source": [
    "train_auc = []\n",
    "cv_auc = []\n",
    "K = [5, 15, 21, 31, 41, 51]\n",
    "for i in K:\n",
    "    neigh = KNeighborsClassifier(n_neighbors=i)\n",
    "    neigh.fit(set3,y_train)\n",
    "    \n",
    "    y_train_pred = neigh.predict(set3)  \n",
    "    y_cv_pred = neigh.predict(set3_v)\n",
    "\n",
    "    # roc_auc_score(y_true, y_score) the 2nd parameter should be probability estimates of the positive class\n",
    "    # not the predicted outputs        \n",
    "    train_auc.append(roc_auc_score(y_train,y_train_pred))\n",
    "    cv_auc.append(roc_auc_score(y_val, y_cv_pred))\n",
    "    print(\"Completed for k  = {}\".format(i))\n",
    "\n",
    "plt.plot(K, train_auc, label='Train AUC')\n",
    "plt.plot(K, cv_auc, label='CV AUC')\n",
    "\n",
    "plt.scatter(K, train_auc, label='Train AUC points')\n",
    "plt.scatter(K, cv_auc, label='CV AUC points')\n",
    "\n",
    "plt.legend()\n",
    "plt.xlabel(\"K: hyperparameter\")\n",
    "plt.ylabel(\"AUC\")\n",
    "plt.title(\"ERROR PLOTS\")\n",
    "plt.grid()\n",
    "plt.show()"
   ]
  },
  {
   "cell_type": "markdown",
   "metadata": {
    "colab_type": "text",
    "id": "Uj9nmad1Apg2"
   },
   "source": [
    "**AUC plot**"
   ]
  },
  {
   "cell_type": "code",
   "execution_count": 39,
   "metadata": {
    "colab": {},
    "colab_type": "code",
    "id": "iyPWACmWAlm-",
    "scrolled": true
   },
   "outputs": [
    {
     "data": {
      "image/png": "[encoded data removed]",
      "text/plain": [
       "<Figure size 432x288 with 1 Axes>"
      ]
     },
     "metadata": {
      "needs_background": "light"
     },
     "output_type": "display_data"
    }
   ],
   "source": [
    "# https://scikit-learn.org/stable/modules/generated/sklearn.metrics.roc_curve.html#sklearn.metrics.roc_curve\n",
    "from sklearn.metrics import roc_curve, auc\n",
    "\n",
    "\n",
    "neigh = KNeighborsClassifier(n_neighbors=15)\n",
    "neigh.fit(set3, y_train)\n",
    "# roc_auc_score(y_true, y_score) the 2nd parameter should be probability estimates of the positive class\n",
    "# not the predicted outputs\n",
    "\n",
    "y_train_pred = neigh.predict_proba(set3)[:,1]\n",
    "y_test_pred = neigh.predict_proba(set3_t)[:,1]\n",
    "\n",
    "train_fpr, train_tpr, tr_thresholds = roc_curve(y_train, y_train_pred)\n",
    "test_fpr, test_tpr, te_thresholds = roc_curve(y_test, y_test_pred)\n",
    "\n",
    "plt.plot(train_fpr, train_tpr,label=\"train AUC =\"+str(auc(train_fpr, train_tpr)))\n",
    "plt.plot(test_fpr, test_tpr, label=\"train AUC =\"+str(auc(test_fpr, test_tpr)))\n",
    "plt.legend()\n",
    "plt.title(\"AUC plot\")\n",
    "plt.xlabel(\"False positive rate\")\n",
    "plt.ylabel(\"True positive rate\")\n",
    "plt.plot([0, 1], [0, 1],'r--')\n",
    "plt.title(\"ERROR PLOTS\")\n",
    "plt.grid()\n",
    "plt.show()"
   ]
  },
  {
   "cell_type": "markdown",
   "metadata": {
    "colab_type": "text",
    "id": "_ROQBW5dAwlp"
   },
   "source": [
    "**confusion matrix**"
   ]
  },
  {
   "cell_type": "code",
   "execution_count": 40,
   "metadata": {
    "colab": {
     "base_uri": "https://localhost:8080/",
     "height": 282
    },
    "colab_type": "code",
    "id": "bjE_ImNyAx5t",
    "outputId": "fe0bdf35-8d9d-4964-db73-0d7515dff0c4"
   },
   "outputs": [
    {
     "data": {
      "text/plain": [
       "Text(0.5, 1.0, 'Confusion Matrix')"
      ]
     },
     "execution_count": 40,
     "metadata": {},
     "output_type": "execute_result"
    },
    {
     "data": {
      "image/png": "[encoded data removed]",
      "text/plain": [
       "<Figure size 432x288 with 2 Axes>"
      ]
     },
     "metadata": {
      "needs_background": "light"
     },
     "output_type": "display_data"
    }
   ],
   "source": [
    "y_test_pred = neigh.predict(set3_t)\n",
    "cm = confusion_matrix(y_test,y_test_pred)\n",
    "# https://seaborn.pydata.org/generated/seaborn.heatmap.html\n",
    "sns.heatmap(cm, annot=True, fmt=\"d\")\n",
    "plt.ylabel(\"Actual Class\")\n",
    "plt.xlabel(\"Predicted Class\")\n",
    "plt.title(\"Confusion Matrix\")"
   ]
  },
  {
   "cell_type": "markdown",
   "metadata": {
    "colab_type": "text",
    "id": "PoCK-lJaV4at"
   },
   "source": [
    "## Set4 (TFIDF Avg_w2v)"
   ]
  },
  {
   "cell_type": "code",
   "execution_count": 41,
   "metadata": {
    "colab": {},
    "colab_type": "code",
    "id": "TFx98KX6V4au",
    "outputId": "f9b475a3-5f52-4e55-cf6f-4a9d81eeeb53"
   },
   "outputs": [
    {
     "name": "stdout",
     "output_type": "stream",
     "text": [
      "Completed for k  = 5\n",
      "Completed for k  = 15\n",
      "Completed for k  = 21\n",
      "Completed for k  = 31\n",
      "Completed for k  = 41\n",
      "Completed for k  = 51\n"
     ]
    },
    {
     "data": {
      "image/png": "[encoded data removed]",
      "text/plain": [
       "<Figure size 432x288 with 1 Axes>"
      ]
     },
     "metadata": {
      "needs_background": "light"
     },
     "output_type": "display_data"
    }
   ],
   "source": [
    "train_auc = []\n",
    "cv_auc = []\n",
    "K = [5, 15, 21, 31, 41, 51]\n",
    "for i in K:\n",
    "    neigh = KNeighborsClassifier(n_neighbors=i)\n",
    "    neigh.fit(set4,y_train)\n",
    "    \n",
    "    y_train_pred = neigh.predict(set4)  \n",
    "    y_cv_pred = neigh.predict(set4_v)\n",
    "\n",
    "    # roc_auc_score(y_true, y_score) the 2nd parameter should be probability estimates of the positive class\n",
    "    # not the predicted outputs        \n",
    "    train_auc.append(roc_auc_score(y_train,y_train_pred))\n",
    "    cv_auc.append(roc_auc_score(y_val, y_cv_pred))\n",
    "    print(\"Completed for k  = {}\".format(i))\n",
    "\n",
    "plt.plot(K, train_auc, label='Train AUC')\n",
    "plt.plot(K, cv_auc, label='CV AUC')\n",
    "\n",
    "plt.scatter(K, train_auc, label='Train AUC points')\n",
    "plt.scatter(K, cv_auc, label='CV AUC points')\n",
    "\n",
    "plt.legend()\n",
    "plt.xlabel(\"K: hyperparameter\")\n",
    "plt.ylabel(\"AUC\")\n",
    "plt.title(\"ERROR PLOTS\")\n",
    "plt.grid()\n",
    "plt.show()"
   ]
  },
  {
   "cell_type": "markdown",
   "metadata": {
    "colab_type": "text",
    "id": "CJvTudlWV4aw"
   },
   "source": [
    "**AUC plot**"
   ]
  },
  {
   "cell_type": "code",
   "execution_count": 39,
   "metadata": {
    "colab": {},
    "colab_type": "code",
    "id": "fn_Wk6ruV4aw",
    "outputId": "f70f7fff-88b7-4f2d-e359-2f8ba8c0ad9b",
    "scrolled": true
   },
   "outputs": [
    {
     "data": {
      "image/png": "[encoded data removed]",
      "text/plain": [
       "<Figure size 432x288 with 1 Axes>"
      ]
     },
     "metadata": {
      "needs_background": "light"
     },
     "output_type": "display_data"
    }
   ],
   "source": [
    "# https://scikit-learn.org/stable/modules/generated/sklearn.metrics.roc_curve.html#sklearn.metrics.roc_curve\n",
    "from sklearn.metrics import roc_curve, auc\n",
    "\n",
    "\n",
    "neigh = KNeighborsClassifier(n_neighbors=15)\n",
    "neigh.fit(set4, y_train)\n",
    "# roc_auc_score(y_true, y_score) the 2nd parameter should be probability estimates of the positive class\n",
    "# not the predicted outputs\n",
    "\n",
    "y_train_pred = neigh.predict_proba(set4)[:,1]\n",
    "y_test_pred = neigh.predict_proba(set4_t)[:,1]\n",
    "\n",
    "train_fpr, train_tpr, tr_thresholds = roc_curve(y_train, y_train_pred)\n",
    "test_fpr, test_tpr, te_thresholds = roc_curve(y_test, y_test_pred)\n",
    "\n",
    "plt.plot(train_fpr, train_tpr,label=\"train AUC =\"+str(auc(train_fpr, train_tpr)))\n",
    "plt.plot(test_fpr, test_tpr, label=\"train AUC =\"+str(auc(test_fpr, test_tpr)))\n",
    "plt.legend()\n",
    "plt.title(\"AUC plot\")\n",
    "plt.xlabel(\"False positive rate\")\n",
    "plt.ylabel(\"True positive rate\")\n",
    "plt.plot([0, 1], [0, 1],'r--')\n",
    "plt.title(\"ERROR PLOTS\")\n",
    "plt.grid()\n",
    "plt.show()"
   ]
  },
  {
   "cell_type": "markdown",
   "metadata": {
    "colab_type": "text",
    "id": "2arjblOPV4ay"
   },
   "source": [
    "**Confusion Matrix**"
   ]
  },
  {
   "cell_type": "code",
   "execution_count": 40,
   "metadata": {
    "colab": {},
    "colab_type": "code",
    "id": "VPuBvBfiV4ay",
    "outputId": "4e32bb16-e115-49cf-e78d-bfd26cb3ec47"
   },
   "outputs": [
    {
     "data": {
      "text/plain": [
       "Text(0.5, 1.0, 'Confusion Matrix')"
      ]
     },
     "execution_count": 40,
     "metadata": {},
     "output_type": "execute_result"
    },
    {
     "data": {
      "image/png": "[encoded data removed]",
      "text/plain": [
       "<Figure size 432x288 with 2 Axes>"
      ]
     },
     "metadata": {
      "needs_background": "light"
     },
     "output_type": "display_data"
    }
   ],
   "source": [
    "y_test_pred = neigh.predict(set4_t)\n",
    "cm = confusion_matrix(y_test,y_test_pred)\n",
    "# https://seaborn.pydata.org/generated/seaborn.heatmap.html\n",
    "sns.heatmap(cm, annot=True, fmt=\"d\")\n",
    "plt.ylabel(\"Actual Class\")\n",
    "plt.xlabel(\"Predicted Class\")\n",
    "plt.title(\"Confusion Matrix\")"
   ]
  },
  {
   "cell_type": "markdown",
   "metadata": {
    "colab_type": "text",
    "id": "hmuy0r12V4a0"
   },
   "source": [
    "## Task-2"
   ]
  },
  {
   "cell_type": "markdown",
   "metadata": {
    "colab_type": "text",
    "id": "gF6LVUCmV4a1"
   },
   "source": [
    "- Using selectBest to get **top 2k** features for Set2 i.e TFIDF"
   ]
  },
  {
   "cell_type": "code",
   "execution_count": 41,
   "metadata": {
    "colab": {},
    "colab_type": "code",
    "id": "Dh3tD7p7V4a1"
   },
   "outputs": [],
   "source": [
    "from sklearn.feature_selection import SelectKBest\n",
    "sk = SelectKBest(k=2000).fit(set2, y_train)\n",
    "\n",
    "set_ = sk.transform(set2)\n",
    "set_t = sk.transform(set2_t)\n",
    "set_v = sk.transform(set2_v)"
   ]
  },
  {
   "cell_type": "code",
   "execution_count": 42,
   "metadata": {
    "colab": {},
    "colab_type": "code",
    "id": "lWSaj-8yV4a3",
    "outputId": "396806c1-9556-4d0f-af71-8773b6bed4db"
   },
   "outputs": [
    {
     "name": "stdout",
     "output_type": "stream",
     "text": [
      "(48600, 9292)   (48600, 2000)\n"
     ]
    }
   ],
   "source": [
    "print(set1.shape,\" \",set_.shape)"
   ]
  },
  {
   "cell_type": "code",
   "execution_count": 44,
   "metadata": {
    "colab": {},
    "colab_type": "code",
    "id": "z101M8msV4a6"
   },
   "outputs": [
    {
     "name": "stdout",
     "output_type": "stream",
     "text": [
      "Completed for k  = 5\n",
      "Completed for k  = 15\n",
      "Completed for k  = 21\n",
      "Completed for k  = 31\n",
      "Completed for k  = 41\n",
      "Completed for k  = 51\n"
     ]
    },
    {
     "data": {
      "image/png": "[encoded data removed]",
      "text/plain": [
       "<Figure size 432x288 with 1 Axes>"
      ]
     },
     "metadata": {
      "needs_background": "light"
     },
     "output_type": "display_data"
    }
   ],
   "source": [
    "train_auc = []\n",
    "cv_auc = []\n",
    "K = [5, 15, 21, 31, 41, 51]\n",
    "for i in K:\n",
    "    neigh = KNeighborsClassifier(n_neighbors=i)\n",
    "    neigh.fit(set_,y_train)\n",
    "    \n",
    "    y_train_pred = neigh.predict(set_)  \n",
    "    y_cv_pred = neigh.predict(set_v)\n",
    "\n",
    "    # roc_auc_score(y_true, y_score) the 2nd parameter should be probability estimates of the positive class\n",
    "    # not the predicted outputs        \n",
    "    train_auc.append(roc_auc_score(y_train,y_train_pred))\n",
    "    cv_auc.append(roc_auc_score(y_val, y_cv_pred))\n",
    "    print(\"Completed for k  = {}\".format(i))\n",
    "\n",
    "plt.plot(K, train_auc, label='Train AUC')\n",
    "plt.plot(K, cv_auc, label='CV AUC')\n",
    "\n",
    "plt.scatter(K, train_auc, label='Train AUC points')\n",
    "plt.scatter(K, cv_auc, label='CV AUC points')\n",
    "\n",
    "plt.legend()\n",
    "plt.xlabel(\"K: hyperparameter\")\n",
    "plt.ylabel(\"AUC\")\n",
    "plt.title(\"ERROR PLOTS\")\n",
    "plt.grid()\n",
    "plt.show()"
   ]
  },
  {
   "cell_type": "markdown",
   "metadata": {
    "colab_type": "text",
    "id": "WdIC8yM8V4a7"
   },
   "source": [
    "**AUC Plot**"
   ]
  },
  {
   "cell_type": "code",
   "execution_count": 46,
   "metadata": {
    "colab": {},
    "colab_type": "code",
    "id": "M4fuIHbMV4a7",
    "outputId": "a3cc3a09-c678-4e4d-d04a-d266d10e2156"
   },
   "outputs": [
    {
     "data": {
      "image/png": "[encoded data removed]",
      "text/plain": [
       "<Figure size 432x288 with 1 Axes>"
      ]
     },
     "metadata": {
      "needs_background": "light"
     },
     "output_type": "display_data"
    }
   ],
   "source": [
    "# https://scikit-learn.org/stable/modules/generated/sklearn.metrics.roc_curve.html#sklearn.metrics.roc_curve\n",
    "from sklearn.metrics import roc_curve, auc\n",
    "\n",
    "\n",
    "neigh = KNeighborsClassifier(n_neighbors=15)\n",
    "neigh.fit(set_, y_train)\n",
    "# roc_auc_score(y_true, y_score) the 2nd parameter should be probability estimates of the positive class\n",
    "# not the predicted outputs\n",
    "\n",
    "y_train_pred = neigh.predict_proba(set_)[:,1]\n",
    "y_test_pred = neigh.predict_proba(set_t)[:,1]\n",
    "\n",
    "train_fpr, train_tpr, tr_thresholds = roc_curve(y_train, y_train_pred)\n",
    "test_fpr, test_tpr, te_thresholds = roc_curve(y_test, y_test_pred)\n",
    "\n",
    "plt.plot(train_fpr, train_tpr,label=\"train AUC =\"+str(auc(train_fpr, train_tpr)))\n",
    "plt.plot(test_fpr, test_tpr, label=\"test AUC =\"+str(auc(test_fpr, test_tpr)))\n",
    "plt.legend()\n",
    "plt.title(\"AUC plot\")\n",
    "plt.xlabel(\"False positive rate\")\n",
    "plt.ylabel(\"True positive rate\")\n",
    "plt.plot([0, 1], [0, 1],'r--')\n",
    "plt.title(\"ERROR PLOTS\")\n",
    "plt.grid()\n",
    "plt.show()"
   ]
  },
  {
   "cell_type": "markdown",
   "metadata": {
    "colab_type": "text",
    "id": "B1YZA7scV4a9"
   },
   "source": [
    "**Confusion Matrix**"
   ]
  },
  {
   "cell_type": "code",
   "execution_count": 47,
   "metadata": {
    "colab": {},
    "colab_type": "code",
    "id": "6H1lUReFV4a9",
    "outputId": "5a630aa6-8c7a-4def-99e9-1ff8e2e4c40e"
   },
   "outputs": [
    {
     "data": {
      "text/plain": [
       "Text(0.5, 1.0, 'Confusion Matrix')"
      ]
     },
     "execution_count": 47,
     "metadata": {},
     "output_type": "execute_result"
    },
    {
     "data": {
      "image/png": "[encoded data removed]",
      "text/plain": [
       "<Figure size 432x288 with 2 Axes>"
      ]
     },
     "metadata": {
      "needs_background": "light"
     },
     "output_type": "display_data"
    }
   ],
   "source": [
    "y_test_pred = neigh.predict(set_t)\n",
    "cm = confusion_matrix(y_test,y_test_pred)\n",
    "# https://seaborn.pydata.org/generated/seaborn.heatmap.html\n",
    "sns.heatmap(cm, annot=True, fmt=\"d\")\n",
    "plt.ylabel(\"Actual Class\")\n",
    "plt.xlabel(\"Predicted Class\")\n",
    "plt.title(\"Confusion Matrix\")"
   ]
  },
  {
   "cell_type": "markdown",
   "metadata": {
    "colab_type": "text",
    "id": "XZY6fXcFV4bA"
   },
   "source": [
    "### Observation\n",
    "===================\n",
    "\n",
    "1. Best Result found in case of Avg W2V\n",
    "2. Best auc was found is 0.786 in case of Avg-W2V\n",
    "3. Model performed worst in case of BOW\n",
    "4. Performance of model improoved when number of data points increased."
   ]
  },
  {
   "cell_type": "markdown",
   "metadata": {
    "colab_type": "text",
    "id": "H55oYLq6V4bB"
   },
   "source": [
    "### Summary"
   ]
  },
  {
   "cell_type": "code",
   "execution_count": 56,
   "metadata": {
    "colab": {},
    "colab_type": "code",
    "id": "4sSUHWNjV4bD"
   },
   "outputs": [],
   "source": [
    "from prettytable import PrettyTable\n",
    "summary = PrettyTable()"
   ]
  },
  {
   "cell_type": "code",
   "execution_count": 57,
   "metadata": {
    "colab": {},
    "colab_type": "code",
    "id": "JTHx_qntV4bF"
   },
   "outputs": [],
   "source": [
    "summary.field_names = [\"Set\", \"Vectorizer\", \"Hyperparameter\",\"Test\",\"Train\"]"
   ]
  },
  {
   "cell_type": "code",
   "execution_count": 58,
   "metadata": {
    "colab": {},
    "colab_type": "code",
    "id": "qt5JFLZ4V4bG"
   },
   "outputs": [],
   "source": [
    "summary.add_row([\"set1\",\"BOW\",\"k = 15\",0.65,0.74])\n",
    "summary.add_row([\"set2\",\"TFIDF\",\"k = 15\",0.62,0.779])\n",
    "summary.add_row([\"set3\",\"Avg-W2v\",\"k = 15\",0.655,0.786])\n",
    "summary.add_row([\"set4\",\"TFIDF W2V\",\"k = 15\",0.63,0.78])\n",
    "summary.add_row([\"Task2 (set5)\",\"TFIDF\",\"k = 15\",0.64,0.78])\n"
   ]
  },
  {
   "cell_type": "code",
   "execution_count": 59,
   "metadata": {
    "colab": {},
    "colab_type": "code",
    "id": "1aSMYYWAV4bH",
    "outputId": "11725069-57b8-4647-f44b-9bef17547ae4"
   },
   "outputs": [
    {
     "name": "stdout",
     "output_type": "stream",
     "text": [
      "+--------------+------------+----------------+-------+-------+\n",
      "|     Set      | Vectorizer | Hyperparameter |  Test | Train |\n",
      "+--------------+------------+----------------+-------+-------+\n",
      "|     set1     |    BOW     |     k = 15     |  0.65 |  0.74 |\n",
      "|     set2     |   TFIDF    |     k = 15     |  0.62 | 0.779 |\n",
      "|     set3     |  Avg-W2v   |     k = 15     | 0.655 | 0.786 |\n",
      "|     set4     | TFIDF W2V  |     k = 15     |  0.63 |  0.78 |\n",
      "| Task2 (set5) |   TFIDF    |     k = 15     |  0.64 |  0.78 |\n",
      "+--------------+------------+----------------+-------+-------+\n"
     ]
    }
   ],
   "source": [
    "print(summary)"
   ]
  },
  {
   "cell_type": "code",
   "execution_count": 0,
   "metadata": {
    "colab": {},
    "colab_type": "code",
    "id": "QnlD-EzlV4bK"
   },
   "outputs": [],
   "source": []
  }
 ],
 "metadata": {
  "colab": {
   "collapsed_sections": [],
   "name": "DonorsChoose_KNN.ipynb",
   "provenance": [],
   "version": "0.3.2"
  },
  "kernelspec": {
   "display_name": "Python 3",
   "language": "python",
   "name": "python3"
  },
  "language_info": {
   "codemirror_mode": {
    "name": "ipython",
    "version": 3
   },
   "file_extension": ".py",
   "mimetype": "text/x-python",
   "name": "python",
   "nbconvert_exporter": "python",
   "pygments_lexer": "ipython3",
   "version": "3.7.3"
  }
 },
 "nbformat": 4,
 "nbformat_minor": 1
}
