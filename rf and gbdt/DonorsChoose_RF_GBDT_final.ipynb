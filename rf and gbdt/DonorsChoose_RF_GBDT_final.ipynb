{
  "nbformat": 4,
  "nbformat_minor": 0,
  "metadata": {
    "colab": {
      "name": "DonorsChoose_RF_GBDT_final.ipynb",
      "version": "0.3.2",
      "provenance": [],
      "collapsed_sections": []
    },
    "language_info": {
      "codemirror_mode": {
        "name": "ipython",
        "version": 3
      },
      "file_extension": ".py",
      "mimetype": "text/x-python",
      "name": "python",
      "nbconvert_exporter": "python",
      "pygments_lexer": "ipython3",
      "version": "3.7.3"
    },
    "kernelspec": {
      "display_name": "Python 3",
      "language": "python",
      "name": "python3"
    }
  },
  "cells": [
    {
      "cell_type": "markdown",
      "metadata": {
        "id": "tQzd4s7xtzx2",
        "colab_type": "text"
      },
      "source": [
        "# Assignment 9: DonorsChoose_RF_GBDT"
      ]
    },
    {
      "cell_type": "markdown",
      "metadata": {
        "colab_type": "text",
        "id": "X3Cng-j3PSHV"
      },
      "source": [
        "<h2>Data splitting and pre-processing</h2>"
      ]
    },
    {
      "cell_type": "code",
      "metadata": {
        "colab_type": "code",
        "id": "lewMoL1qPKCA",
        "colab": {}
      },
      "source": [
        "%matplotlib inline\n",
        "import warnings\n",
        "warnings.filterwarnings(\"ignore\")\n",
        "\n",
        "import sqlite3\n",
        "import pandas as pd\n",
        "import numpy as np\n",
        "import nltk\n",
        "import string\n",
        "import matplotlib.pyplot as plt\n",
        "import seaborn as sns\n",
        "\n",
        "from sklearn.feature_extraction.text import TfidfTransformer\n",
        "from sklearn.feature_extraction.text import TfidfVectorizer\n",
        "from sklearn.model_selection import train_test_split\n",
        "from sklearn.feature_extraction.text import CountVectorizer\n",
        "from sklearn.metrics import confusion_matrix\n",
        "from sklearn import metrics\n",
        "from sklearn.metrics import roc_curve, auc\n",
        "from nltk.stem.porter import PorterStemmer\n",
        "\n",
        "import re\n",
        "# Tutorial about Python regular expressions: https://pymotw.com/2/re/\n",
        "import string\n",
        "from nltk.corpus import stopwords\n",
        "from nltk.stem import PorterStemmer\n",
        "from nltk.stem.wordnet import WordNetLemmatizer\n",
        "\n",
        "\n",
        "import pickle\n",
        "from tqdm import tqdm\n",
        "import os\n",
        "from collections import Counter\n",
        "\n"
      ],
      "execution_count": 0,
      "outputs": []
    },
    {
      "cell_type": "code",
      "metadata": {
        "colab_type": "code",
        "id": "qPM0MLm4Plsf",
        "outputId": "36349386-52cd-41f5-88fe-c2316382af09",
        "colab": {
          "base_uri": "https://localhost:8080/",
          "height": 122
        }
      },
      "source": [
        "from google.colab import drive\n",
        "drive.mount(\"/content/drive\")\n",
        "\n",
        "project_data = pd.read_csv('/content/drive/My Drive/train_data.csv')\n",
        "resource_data = pd.read_csv('/content/drive/My Drive/resources.csv')"
      ],
      "execution_count": 0,
      "outputs": [
        {
          "output_type": "stream",
          "text": [
            "Go to this URL in a browser: https://accounts.google.com/o/oauth2/auth?client_id=947318989803-6bn6qk8qdgf4n4g3pfee6491hc0brc4i.apps.googleusercontent.com&redirect_uri=urn%3Aietf%3Awg%3Aoauth%3A2.0%3Aoob&scope=email%20https%3A%2F%2Fwww.googleapis.com%2Fauth%2Fdocs.test%20https%3A%2F%2Fwww.googleapis.com%2Fauth%2Fdrive%20https%3A%2F%2Fwww.googleapis.com%2Fauth%2Fdrive.photos.readonly%20https%3A%2F%2Fwww.googleapis.com%2Fauth%2Fpeopleapi.readonly&response_type=code\n",
            "\n",
            "Enter your authorization code:\n",
            "··········\n",
            "Mounted at /content/drive\n"
          ],
          "name": "stdout"
        }
      ]
    },
    {
      "cell_type": "code",
      "metadata": {
        "colab_type": "code",
        "id": "IA9SkvIMPr_O",
        "outputId": "33a6de0f-7c40-4746-fdea-969cb841159e",
        "colab": {
          "base_uri": "https://localhost:8080/",
          "height": 323
        }
      },
      "source": [
        "project_data.isnull().sum()"
      ],
      "execution_count": 0,
      "outputs": [
        {
          "output_type": "execute_result",
          "data": {
            "text/plain": [
              "Unnamed: 0                                           0\n",
              "id                                                   0\n",
              "teacher_id                                           0\n",
              "teacher_prefix                                       3\n",
              "school_state                                         0\n",
              "project_submitted_datetime                           0\n",
              "project_grade_category                               0\n",
              "project_subject_categories                           0\n",
              "project_subject_subcategories                        0\n",
              "project_title                                        0\n",
              "project_essay_1                                      0\n",
              "project_essay_2                                      0\n",
              "project_essay_3                                 105490\n",
              "project_essay_4                                 105490\n",
              "project_resource_summary                             0\n",
              "teacher_number_of_previously_posted_projects         0\n",
              "project_is_approved                                  0\n",
              "dtype: int64"
            ]
          },
          "metadata": {
            "tags": []
          },
          "execution_count": 3
        }
      ]
    },
    {
      "cell_type": "code",
      "metadata": {
        "colab_type": "code",
        "id": "siNALwSaPsZ-",
        "outputId": "384582be-cafd-4c93-f7dd-4f36881ac71a",
        "colab": {
          "base_uri": "https://localhost:8080/",
          "height": 323
        }
      },
      "source": [
        "#filling 3 null teacher prefix values with Teacher\n",
        "\n",
        "project_data[\"teacher_prefix\"].fillna(\"Teacher\",inplace = True)\n",
        "project_data.isnull().sum()"
      ],
      "execution_count": 0,
      "outputs": [
        {
          "output_type": "execute_result",
          "data": {
            "text/plain": [
              "Unnamed: 0                                           0\n",
              "id                                                   0\n",
              "teacher_id                                           0\n",
              "teacher_prefix                                       0\n",
              "school_state                                         0\n",
              "project_submitted_datetime                           0\n",
              "project_grade_category                               0\n",
              "project_subject_categories                           0\n",
              "project_subject_subcategories                        0\n",
              "project_title                                        0\n",
              "project_essay_1                                      0\n",
              "project_essay_2                                      0\n",
              "project_essay_3                                 105490\n",
              "project_essay_4                                 105490\n",
              "project_resource_summary                             0\n",
              "teacher_number_of_previously_posted_projects         0\n",
              "project_is_approved                                  0\n",
              "dtype: int64"
            ]
          },
          "metadata": {
            "tags": []
          },
          "execution_count": 4
        }
      ]
    },
    {
      "cell_type": "code",
      "metadata": {
        "colab_type": "code",
        "id": "ATad1wN-RY2S",
        "colab": {}
      },
      "source": [
        "# merge two column text dataframe: \n",
        "project_data[\"essay\"] = project_data[\"project_essay_1\"].map(str) +\\\n",
        "                        project_data[\"project_essay_2\"].map(str) + \\\n",
        "                        project_data[\"project_essay_3\"].map(str) + \\\n",
        "                        project_data[\"project_essay_4\"].map(str)"
      ],
      "execution_count": 0,
      "outputs": []
    },
    {
      "cell_type": "code",
      "metadata": {
        "colab_type": "code",
        "id": "trU7b15NRnEV",
        "colab": {}
      },
      "source": [
        "price_data = resource_data.groupby('id').agg({'price':'sum', 'quantity':'sum'}).reset_index()\n",
        "project_data = pd.merge(project_data, price_data, on='id', how='left')"
      ],
      "execution_count": 0,
      "outputs": []
    },
    {
      "cell_type": "code",
      "metadata": {
        "colab_type": "code",
        "id": "HT9ROH0CRszV",
        "outputId": "205725a2-d59c-4bd3-c0a6-afa51582869c",
        "colab": {
          "base_uri": "https://localhost:8080/",
          "height": 442
        }
      },
      "source": [
        "project_data.info()"
      ],
      "execution_count": 0,
      "outputs": [
        {
          "output_type": "stream",
          "text": [
            "<class 'pandas.core.frame.DataFrame'>\n",
            "Int64Index: 109248 entries, 0 to 109247\n",
            "Data columns (total 20 columns):\n",
            "Unnamed: 0                                      109248 non-null int64\n",
            "id                                              109248 non-null object\n",
            "teacher_id                                      109248 non-null object\n",
            "teacher_prefix                                  109248 non-null object\n",
            "school_state                                    109248 non-null object\n",
            "project_submitted_datetime                      109248 non-null object\n",
            "project_grade_category                          109248 non-null object\n",
            "project_subject_categories                      109248 non-null object\n",
            "project_subject_subcategories                   109248 non-null object\n",
            "project_title                                   109248 non-null object\n",
            "project_essay_1                                 109248 non-null object\n",
            "project_essay_2                                 109248 non-null object\n",
            "project_essay_3                                 3758 non-null object\n",
            "project_essay_4                                 3758 non-null object\n",
            "project_resource_summary                        109248 non-null object\n",
            "teacher_number_of_previously_posted_projects    109248 non-null int64\n",
            "project_is_approved                             109248 non-null int64\n",
            "essay                                           109248 non-null object\n",
            "price                                           109248 non-null float64\n",
            "quantity                                        109248 non-null int64\n",
            "dtypes: float64(1), int64(4), object(15)\n",
            "memory usage: 17.5+ MB\n"
          ],
          "name": "stdout"
        }
      ]
    },
    {
      "cell_type": "markdown",
      "metadata": {
        "id": "1tvKOEEEtzyS",
        "colab_type": "text"
      },
      "source": [
        "**Considering only 20k train , 5k validation and 5k test data points**"
      ]
    },
    {
      "cell_type": "code",
      "metadata": {
        "id": "uhfXiy_WtzyT",
        "colab_type": "code",
        "colab": {}
      },
      "source": [
        "from sklearn.utils import resample\n",
        "p_d = resample(project_data,n_samples = 30000)"
      ],
      "execution_count": 0,
      "outputs": []
    },
    {
      "cell_type": "code",
      "metadata": {
        "id": "pc73nrGDtzyW",
        "colab_type": "code",
        "colab": {}
      },
      "source": [
        "#splitting data as 30% to test\n",
        "y = p_d[\"project_is_approved\"]\n",
        "X = p_d\n",
        "X_train, X_test, y_train, y_test = train_test_split(X, y, test_size=0.16, random_state=42)\n",
        "X_train, X_val, y_train, y_val = train_test_split(X_train, y_train, test_size=0.19, random_state=42)"
      ],
      "execution_count": 0,
      "outputs": []
    },
    {
      "cell_type": "code",
      "metadata": {
        "colab_type": "code",
        "id": "SbegQOKqSVcs",
        "outputId": "4ed1e0c6-bef9-461e-b2b5-6534ae7a219c",
        "colab": {
          "base_uri": "https://localhost:8080/",
          "height": 68
        }
      },
      "source": [
        "print(X_train.shape,\" \",y_train.shape)\n",
        "print(X_test.shape,\" \",y_test.shape)\n",
        "print(X_val.shape,\" \",y_val.shape)"
      ],
      "execution_count": 0,
      "outputs": [
        {
          "output_type": "stream",
          "text": [
            "(20412, 20)   (20412,)\n",
            "(4800, 20)   (4800,)\n",
            "(4788, 20)   (4788,)\n"
          ],
          "name": "stdout"
        }
      ]
    },
    {
      "cell_type": "markdown",
      "metadata": {
        "id": "4Kt5yi6ltzyc",
        "colab_type": "text"
      },
      "source": [
        "**Function for Response coding**"
      ]
    },
    {
      "cell_type": "code",
      "metadata": {
        "id": "zAxIQIhetzyd",
        "colab_type": "code",
        "colab": {}
      },
      "source": [
        "# function for response coding\n",
        "\n",
        "\n",
        "\n",
        "def get_gv_fea_dict(alpha, feature, df):\n",
        "    value_count = X_train[feature].value_counts()\n",
        "    gv_dict = dict()\n",
        "    \n",
        "    for i, denominator in value_count.items():\n",
        "        vec = []\n",
        "        for k in range(2):\n",
        "            cls_cnt = X_train.loc[(X_train['project_is_approved']==k) & (X_train[feature]==i)]\n",
        "            vec.append((cls_cnt.shape[0] + alpha*10)/ (denominator + 20*alpha))\n",
        "\n",
        "        # we are adding the gene/variation to the dict as key and vec as value\n",
        "        gv_dict[i]=vec\n",
        "    return gv_dict\n",
        "\n",
        "def response_encode(alpha, feature, df):\n",
        "    \"\"\"\n",
        "    This function calculates probability of category belonging to class 1.\n",
        "    As there are only two classes. so P(y=0/C) = 1 - P(y=1/c)\n",
        "    \n",
        "    Returns dictionary of # elements in positive class and their probabilites.\n",
        "    \n",
        "    \"\"\"\n",
        "    \n",
        "    gv_dict = get_gv_fea_dict(alpha, feature, df)\n",
        "    value_count = X_train[feature].value_counts()\n",
        "    \n",
        "    gv_fea = []\n",
        "    for index, row in df.iterrows():\n",
        "        if row[feature] in dict(value_count).keys():\n",
        "            gv_fea.append(gv_dict[row[feature]])\n",
        "        else:\n",
        "            gv_fea.append([1/2,1/2])\n",
        "    return gv_fea"
      ],
      "execution_count": 0,
      "outputs": []
    },
    {
      "cell_type": "markdown",
      "metadata": {
        "colab_type": "text",
        "id": "QhpUJR3OUK2e"
      },
      "source": [
        "<h3>Preprocessing categorical Features</h3>"
      ]
    },
    {
      "cell_type": "markdown",
      "metadata": {
        "colab_type": "text",
        "id": "GsCOdDNaYles"
      },
      "source": [
        "1. project subject categories"
      ]
    },
    {
      "cell_type": "code",
      "metadata": {
        "colab_type": "code",
        "id": "6debBmfkTSJI",
        "colab": {}
      },
      "source": [
        "#using code from assignment\n",
        "# project subject categories\n",
        "catogories = list(X_train['project_subject_categories'].values)\n",
        "\n",
        "cat_list = []\n",
        "for i in catogories:\n",
        "    temp = \"\"\n",
        "    for j in i.split(','): \n",
        "        if 'The' in j.split(): \n",
        "            j=j.replace('The','') \n",
        "        j = j.replace(' ','') \n",
        "        temp+=j.strip()+\" \" \n",
        "        temp = temp.replace('&','_') \n",
        "    cat_list.append(temp.strip())\n",
        "    \n",
        "X_train['clean_categories'] = cat_list\n",
        "X_train.drop(['project_subject_categories'], axis=1, inplace=True)\n",
        "\n",
        "from collections import Counter\n",
        "my_counter = Counter()\n",
        "for word in X_train['clean_categories'].values:\n",
        "    my_counter.update(word.split())\n",
        "\n",
        "cat_dict = dict(my_counter)\n",
        "sorted_cat_dict = dict(sorted(cat_dict.items(), key=lambda kv: kv[1]))\n",
        "\n",
        "\n",
        "# project subject categories for test data\n",
        "\n",
        "catogories = list(X_test['project_subject_categories'].values)\n",
        "\n",
        "cat_list = []\n",
        "for i in catogories:\n",
        "    temp = \"\"\n",
        "    for j in i.split(','): \n",
        "        if 'The' in j.split(): \n",
        "            j=j.replace('The','') \n",
        "        j = j.replace(' ','') \n",
        "        temp+=j.strip()+\" \" \n",
        "        temp = temp.replace('&','_') \n",
        "    cat_list.append(temp.strip())\n",
        "    \n",
        "X_test['clean_categories'] = cat_list\n",
        "X_test.drop(['project_subject_categories'], axis=1, inplace=True)\n",
        "\n",
        "# project subject categories for test data\n",
        "\n",
        "catogories = list(X_val['project_subject_categories'].values)\n",
        "\n",
        "cat_list = []\n",
        "for i in catogories:\n",
        "    temp = \"\"\n",
        "    for j in i.split(','): \n",
        "        if 'The' in j.split(): \n",
        "            j=j.replace('The','') \n",
        "        j = j.replace(' ','') \n",
        "        temp+=j.strip()+\" \" \n",
        "        temp = temp.replace('&','_') \n",
        "    cat_list.append(temp.strip())\n",
        "    \n",
        "X_val['clean_categories'] = cat_list\n",
        "X_val.drop(['project_subject_categories'], axis=1, inplace=True)\n"
      ],
      "execution_count": 0,
      "outputs": []
    },
    {
      "cell_type": "code",
      "metadata": {
        "scrolled": true,
        "id": "RrtuCZ_Ctzyj",
        "colab_type": "code",
        "colab": {}
      },
      "source": [
        "alpha = 1\n",
        "categories_feature_responseCoding = np.array(response_encode(alpha, \"clean_categories\", X_train))\n",
        "val_categories_feature_responseCoding = np.array(response_encode(alpha, \"clean_categories\", X_val))\n",
        "test_categories_feature_responseCoding = np.array(response_encode(alpha, \"clean_categories\", X_test))"
      ],
      "execution_count": 0,
      "outputs": []
    },
    {
      "cell_type": "markdown",
      "metadata": {
        "colab_type": "text",
        "id": "WP05nZ3LYsl8"
      },
      "source": [
        "2. project subject sub_categories"
      ]
    },
    {
      "cell_type": "code",
      "metadata": {
        "colab_type": "code",
        "id": "CXHY_LlDYzAr",
        "colab": {}
      },
      "source": [
        "sub_catogories = list(X_train['project_subject_subcategories'].values)\n",
        "sub_cat_list = []\n",
        "for i in sub_catogories:\n",
        "    temp = \"\"\n",
        "    for j in i.split(','): \n",
        "        if 'The' in j.split(): # this will split each of the catogory based on space \"Math & Science\"=> \"Math\",\"&\", \"Science\"\n",
        "            j=j.replace('The','') # if we have the words \"The\" we are going to replace it with ''(i.e removing 'The')\n",
        "        j = j.replace(' ','') \n",
        "        temp +=j.strip()+\" \"\n",
        "        temp = temp.replace('&','_')\n",
        "    sub_cat_list.append(temp.strip())\n",
        "\n",
        "X_train['clean_subcategories'] = sub_cat_list\n",
        "X_train.drop(['project_subject_subcategories'], axis=1, inplace=True)\n",
        "\n",
        "# count of all the words in corpus python: https://stackoverflow.com/a/22898595/4084039\n",
        "my_counter = Counter()\n",
        "for word in X_train['clean_subcategories'].values:\n",
        "    my_counter.update(word.split())\n",
        "    \n",
        "sub_cat_dict = dict(my_counter)\n",
        "sorted_sub_cat_dict = dict(sorted(sub_cat_dict.items(), key=lambda kv: kv[1]))\n",
        "\n",
        "\n",
        "sub_catogories = list(X_test['project_subject_subcategories'].values)\n",
        "sub_cat_list = []\n",
        "for i in sub_catogories:\n",
        "    temp = \"\"\n",
        "    for j in i.split(','): \n",
        "        if 'The' in j.split(): # this will split each of the catogory based on space \"Math & Science\"=> \"Math\",\"&\", \"Science\"\n",
        "            j=j.replace('The','') # if we have the words \"The\" we are going to replace it with ''(i.e removing 'The')\n",
        "        j = j.replace(' ','') \n",
        "        temp +=j.strip()+\" \"\n",
        "        temp = temp.replace('&','_')\n",
        "    sub_cat_list.append(temp.strip())\n",
        "\n",
        "X_test['clean_subcategories'] = sub_cat_list\n",
        "X_test.drop(['project_subject_subcategories'], axis=1, inplace=True)\n",
        "\n",
        "\n",
        "# for validation data set\n",
        "sub_catogories = list(X_val['project_subject_subcategories'].values)\n",
        "sub_cat_list = []\n",
        "for i in sub_catogories:\n",
        "    temp = \"\"\n",
        "    for j in i.split(','): \n",
        "        if 'The' in j.split(): # this will split each of the catogory based on space \"Math & Science\"=> \"Math\",\"&\", \"Science\"\n",
        "            j=j.replace('The','') # if we have the words \"The\" we are going to replace it with ''(i.e removing 'The')\n",
        "        j = j.replace(' ','') \n",
        "        temp +=j.strip()+\" \"\n",
        "        temp = temp.replace('&','_')\n",
        "    sub_cat_list.append(temp.strip())\n",
        "\n",
        "X_val['clean_subcategories'] = sub_cat_list\n",
        "X_val.drop(['project_subject_subcategories'], axis=1, inplace=True)"
      ],
      "execution_count": 0,
      "outputs": []
    },
    {
      "cell_type": "code",
      "metadata": {
        "id": "wjd2lPlXtzyp",
        "colab_type": "code",
        "colab": {}
      },
      "source": [
        "alpha = 1\n",
        "subcategories_feature_responseCoding = np.array(response_encode(alpha, \"clean_subcategories\", X_train))\n",
        "val_subcategories_feature_responseCoding = np.array(response_encode(alpha, \"clean_subcategories\", X_val))\n",
        "test_subcategories_feature_responseCoding = np.array(response_encode(alpha, \"clean_subcategories\", X_test))"
      ],
      "execution_count": 0,
      "outputs": []
    },
    {
      "cell_type": "code",
      "metadata": {
        "id": "mjW1fM9Wtzyt",
        "colab_type": "code",
        "outputId": "377f24a5-9f1e-4639-e523-fdefa4390797",
        "colab": {
          "base_uri": "https://localhost:8080/",
          "height": 34
        }
      },
      "source": [
        "len(subcategories_feature_responseCoding)"
      ],
      "execution_count": 0,
      "outputs": [
        {
          "output_type": "execute_result",
          "data": {
            "text/plain": [
              "20412"
            ]
          },
          "metadata": {
            "tags": []
          },
          "execution_count": 16
        }
      ]
    },
    {
      "cell_type": "markdown",
      "metadata": {
        "colab_type": "text",
        "id": "x3EzCokMYz9u"
      },
      "source": [
        "3. Teacher Prefix"
      ]
    },
    {
      "cell_type": "code",
      "metadata": {
        "colab_type": "code",
        "id": "aZWXIyLXY3xm",
        "outputId": "3c9a1024-ac5a-422c-a372-739a935025da",
        "colab": {
          "base_uri": "https://localhost:8080/",
          "height": 34
        }
      },
      "source": [
        "#preprocessing teacher prefix\n",
        "prefix = list(X_train['teacher_prefix'].values)\n",
        "prefix_list = []\n",
        "for i in prefix:\n",
        "    temp = \"\"\n",
        "    if \".\" in i: \n",
        "            i=i.replace('.','') \n",
        "    temp+=i.strip()+\" \" \n",
        "    prefix_list.append(temp.strip())\n",
        "    \n",
        "X_train['clean_prefix'] = prefix_list\n",
        "\n",
        "my_counter = Counter()\n",
        "for word in X_train['clean_prefix'].values:\n",
        "  my_counter.update(word.split())\n",
        "\n",
        "prefix_dict = dict(my_counter)\n",
        "sorted_prefix_dict = dict(sorted(prefix_dict.items(), key=lambda kv: kv[1]))\n",
        "print(sorted_prefix_dict)\n",
        "\n",
        "\n",
        "#preprocessing teacher prefix for test data\n",
        "prefix = list(X_test['teacher_prefix'].values)\n",
        "prefix_list = []\n",
        "for i in prefix:\n",
        "    temp = \"\"\n",
        "    if \".\" in i: \n",
        "            i=i.replace('.','') \n",
        "    temp+=i.strip()+\" \" \n",
        "    prefix_list.append(temp.strip())\n",
        "    \n",
        "X_test['clean_prefix'] = prefix_list\n",
        "\n",
        "#preprocessing teacher prefix for val data\n",
        "prefix = list(X_val['teacher_prefix'].values)\n",
        "prefix_list = []\n",
        "for i in prefix:\n",
        "    temp = \"\"\n",
        "    if \".\" in i: \n",
        "            i=i.replace('.','') \n",
        "    temp+=i.strip()+\" \" \n",
        "    prefix_list.append(temp.strip())\n",
        "    \n",
        "X_val['clean_prefix'] = prefix_list"
      ],
      "execution_count": 0,
      "outputs": [
        {
          "output_type": "stream",
          "text": [
            "{'Dr': 4, 'Teacher': 419, 'Mr': 1922, 'Ms': 7247, 'Mrs': 10820}\n"
          ],
          "name": "stdout"
        }
      ]
    },
    {
      "cell_type": "code",
      "metadata": {
        "id": "wfkN26GKtzy4",
        "colab_type": "code",
        "colab": {}
      },
      "source": [
        "alpha = 1\n",
        "# train gene feature\n",
        "prefix_feature_responseCoding = np.array(response_encode(alpha, \"clean_prefix\", X_train))\n",
        "val_prefix_feature_responseCoding = np.array(response_encode(alpha, \"clean_prefix\", X_val))\n",
        "test_prefix_feature_responseCoding = np.array(response_encode(alpha, \"clean_prefix\", X_test))"
      ],
      "execution_count": 0,
      "outputs": []
    },
    {
      "cell_type": "markdown",
      "metadata": {
        "colab_type": "text",
        "id": "dCTZv1UBY39O"
      },
      "source": [
        "4. Project Grade Category"
      ]
    },
    {
      "cell_type": "code",
      "metadata": {
        "colab_type": "code",
        "id": "cV39B9gFY7sd",
        "outputId": "187051ce-5d53-4393-ac6c-7a5e4ef612dc",
        "colab": {
          "base_uri": "https://localhost:8080/",
          "height": 34
        }
      },
      "source": [
        "# preprocessing of grade category for train data\n",
        "\n",
        "grade = list(X_train['project_grade_category'].values)\n",
        "grade_list = []\n",
        "for i in grade:\n",
        "    temp = \"\"\n",
        "    if \"Grades\" in i:\n",
        "      i = i.replace(\"Grades\",\"\")\n",
        "    if \"6-8\" in i:\n",
        "      i = i.replace(\"6-8\",\"six_eight\")\n",
        "    if \"3-5\" in i:\n",
        "      i = i.replace(\"3-5\",\"three_five\")\n",
        "    if \"9-12\" in i:\n",
        "      i = i.replace(\"9-12\",\"nine_twelve\")\n",
        "    if \"PreK-2\" in i:\n",
        "      i = i.replace(\"PreK-2\",\"prek_two\")\n",
        "    temp+=i.strip()+\" \" \n",
        "    grade_list.append(temp.strip())\n",
        "    \n",
        "X_train['clean_grade'] = grade_list\n",
        "\n",
        "my_counter = Counter()\n",
        "for word in X_train['clean_grade'].values:\n",
        "  my_counter.update(word.split())\n",
        "\n",
        "grade_dict = dict(my_counter)\n",
        "sorted_grade_dict = dict(sorted(grade_dict.items(), key=lambda kv: kv[1]))\n",
        "print(sorted_grade_dict)\n",
        "\n",
        "# preprocessing of grade category for test data\n",
        "\n",
        "grade = list(X_test['project_grade_category'].values)\n",
        "grade_list = []\n",
        "for i in grade:\n",
        "    temp = \"\"\n",
        "    if \"Grades\" in i:\n",
        "      i = i.replace(\"Grades\",\"\")\n",
        "    if \"6-8\" in i:\n",
        "      i = i.replace(\"6-8\",\"six_eight\")\n",
        "    if \"3-5\" in i:\n",
        "      i = i.replace(\"3-5\",\"three_five\")\n",
        "    if \"9-12\" in i:\n",
        "      i = i.replace(\"9-12\",\"nine_twelve\")\n",
        "    if \"PreK-2\" in i:\n",
        "      i = i.replace(\"PreK-2\",\"prek_two\")\n",
        "    temp+=i.strip()+\" \" \n",
        "    grade_list.append(temp.strip())\n",
        "    \n",
        "X_test['clean_grade'] = grade_list\n",
        "\n",
        "\n",
        "grade = list(X_val['project_grade_category'].values)\n",
        "grade_list = []\n",
        "for i in grade:\n",
        "    temp = \"\"\n",
        "    if \"Grades\" in i:\n",
        "      i = i.replace(\"Grades\",\"\")\n",
        "    if \"6-8\" in i:\n",
        "      i = i.replace(\"6-8\",\"six_eight\")\n",
        "    if \"3-5\" in i:\n",
        "      i = i.replace(\"3-5\",\"three_five\")\n",
        "    if \"9-12\" in i:\n",
        "      i = i.replace(\"9-12\",\"nine_twelve\")\n",
        "    if \"PreK-2\" in i:\n",
        "      i = i.replace(\"PreK-2\",\"prek_two\")\n",
        "    temp+=i.strip()+\" \" \n",
        "    grade_list.append(temp.strip())\n",
        "    \n",
        "X_val['clean_grade'] = grade_list"
      ],
      "execution_count": 0,
      "outputs": [
        {
          "output_type": "stream",
          "text": [
            "{'nine_twelve': 2025, 'six_eight': 3119, 'three_five': 6950, 'prek_two': 8318}\n"
          ],
          "name": "stdout"
        }
      ]
    },
    {
      "cell_type": "code",
      "metadata": {
        "id": "YJ_UbnHUtzy-",
        "colab_type": "code",
        "colab": {}
      },
      "source": [
        "alpha = 1\n",
        "# train gene feature\n",
        "grade_feature_responseCoding = np.array(response_encode(alpha, \"clean_grade\", X_train))\n",
        "val_grade_feature_responseCoding = np.array(response_encode(alpha, \"clean_grade\", X_val))\n",
        "test_grade_feature_responseCoding = np.array(response_encode(alpha, \"clean_grade\", X_test))"
      ],
      "execution_count": 0,
      "outputs": []
    },
    {
      "cell_type": "markdown",
      "metadata": {
        "colab_type": "text",
        "id": "QG7-BHV8Y8bJ"
      },
      "source": [
        "5. School State"
      ]
    },
    {
      "cell_type": "code",
      "metadata": {
        "colab_type": "code",
        "id": "38jUF0GVY-mO",
        "colab": {}
      },
      "source": [
        "#no need of preprocessing on school state\n",
        "\n",
        "state = X_train[\"school_state\"].value_counts()\n",
        "sorted_state = dict(state)\n",
        "sorted_state_dict = dict(sorted(sorted_state.items(), key=lambda kv: kv[1]))\n",
        "X_train[\"clean_state\"] = X_train[\"school_state\"]\n",
        "\n",
        "#similarly for X_test\n",
        "X_test[\"clean_state\"] = X_test[\"school_state\"]\n",
        "\n",
        "#similarly for X_val\n",
        "X_val[\"clean_state\"] = X_val[\"school_state\"]"
      ],
      "execution_count": 0,
      "outputs": []
    },
    {
      "cell_type": "code",
      "metadata": {
        "id": "xU3MFmqQtzzD",
        "colab_type": "code",
        "colab": {}
      },
      "source": [
        "alpha = 1\n",
        "# train gene feature\n",
        "state_feature_responseCoding = np.array(response_encode(alpha, \"clean_state\", X_train))\n",
        "val_state_feature_responseCoding = np.array(response_encode(alpha, \"clean_state\", X_val))\n",
        "test_state_feature_responseCoding = np.array(response_encode(alpha, \"clean_state\", X_test))"
      ],
      "execution_count": 0,
      "outputs": []
    },
    {
      "cell_type": "markdown",
      "metadata": {
        "colab_type": "text",
        "id": "RDEIVH9SZWOi"
      },
      "source": [
        "<h3>Preprocessing Numerical Feature</h3>"
      ]
    },
    {
      "cell_type": "markdown",
      "metadata": {
        "colab_type": "text",
        "id": "zm_3xFQEZa_c"
      },
      "source": [
        "1. Standardizing price"
      ]
    },
    {
      "cell_type": "code",
      "metadata": {
        "colab_type": "code",
        "id": "hjEc9EMKZaSA",
        "outputId": "fed0bfd6-4aa5-4725-a5b7-dc3e55806732",
        "colab": {
          "base_uri": "https://localhost:8080/",
          "height": 34
        }
      },
      "source": [
        "from sklearn.preprocessing import StandardScaler\n",
        "\n",
        "\n",
        "price_scalar = StandardScaler()\n",
        "price_scalar.fit(project_data['price'].values.reshape(-1,1)) \n",
        "print(f\"Mean : {price_scalar.mean_[0]}, Standard deviation : {np.sqrt(price_scalar.var_[0])}\")\n",
        "\n",
        "#train data price standardization\n",
        "price_standardized = price_scalar.transform(X_train['price'].values.reshape(-1, 1))\n",
        "\n",
        "#val data price stanardization. Fit method applied on X_train\n",
        "val_price_standardized = price_scalar.transform(X_val['price'].values.reshape(-1, 1))\n",
        "\n",
        "\n",
        "#test data price stanardization. Fit method applied on X_train\n",
        "test_price_standardized = price_scalar.transform(X_test['price'].values.reshape(-1, 1))"
      ],
      "execution_count": 0,
      "outputs": [
        {
          "output_type": "stream",
          "text": [
            "Mean : 298.1193425966608, Standard deviation : 367.49634838483496\n"
          ],
          "name": "stdout"
        }
      ]
    },
    {
      "cell_type": "markdown",
      "metadata": {
        "colab_type": "text",
        "id": "UYcLDUIxaXM1"
      },
      "source": [
        "2. Standardizing quantity"
      ]
    },
    {
      "cell_type": "code",
      "metadata": {
        "colab_type": "code",
        "id": "TBtVbObbaa2Z",
        "outputId": "8bae9a7e-bfbd-4862-ddcb-2d287dda12ed",
        "colab": {
          "base_uri": "https://localhost:8080/",
          "height": 190
        }
      },
      "source": [
        "price_scalar = StandardScaler()\n",
        "price_scalar.fit(X_train[\"quantity\"].values.reshape(-1, 1))\n",
        "print(f\"Mean of Quantity : {price_scalar.mean_[0]}, Standard deviation of Quantity : {np.sqrt(price_scalar.var_[0])}\")\n",
        "\n",
        "#train data quantity standardization\n",
        "quantity_standardized = price_scalar.transform(X_train[\"quantity\"].values.reshape(-1, 1))\n",
        "\n",
        "#val data quantity stanardization. Fit method applied on X_train\n",
        "val_quantity_standardized = price_scalar.transform(X_val[\"quantity\"].values.reshape(-1, 1))\n",
        "\n",
        "#test data quantity stanardization. Fit method applied on X_train\n",
        "test_quantity_standardized = price_scalar.transform(X_test[\"quantity\"].values.reshape(-1, 1))"
      ],
      "execution_count": 0,
      "outputs": [
        {
          "output_type": "stream",
          "text": [
            "Mean of Quantity : 16.62997256515775, Standard deviation of Quantity : 24.470232692115985\n"
          ],
          "name": "stdout"
        },
        {
          "output_type": "stream",
          "text": [
            "/usr/local/lib/python3.6/dist-packages/sklearn/utils/validation.py:595: DataConversionWarning: Data with input dtype int64 was converted to float64 by StandardScaler.\n",
            "  warnings.warn(msg, DataConversionWarning)\n",
            "/usr/local/lib/python3.6/dist-packages/sklearn/utils/validation.py:595: DataConversionWarning: Data with input dtype int64 was converted to float64 by StandardScaler.\n",
            "  warnings.warn(msg, DataConversionWarning)\n",
            "/usr/local/lib/python3.6/dist-packages/sklearn/utils/validation.py:595: DataConversionWarning: Data with input dtype int64 was converted to float64 by StandardScaler.\n",
            "  warnings.warn(msg, DataConversionWarning)\n",
            "/usr/local/lib/python3.6/dist-packages/sklearn/utils/validation.py:595: DataConversionWarning: Data with input dtype int64 was converted to float64 by StandardScaler.\n",
            "  warnings.warn(msg, DataConversionWarning)\n"
          ],
          "name": "stderr"
        }
      ]
    },
    {
      "cell_type": "markdown",
      "metadata": {
        "colab_type": "text",
        "id": "Yw56aDQNbTmE"
      },
      "source": [
        "3. Standardizing number of ppp"
      ]
    },
    {
      "cell_type": "code",
      "metadata": {
        "colab_type": "code",
        "id": "89bmD0qobXYA",
        "outputId": "e8099863-db43-48f4-bf5c-6346ee15cb80",
        "colab": {
          "base_uri": "https://localhost:8080/",
          "height": 190
        }
      },
      "source": [
        "price_scalar = StandardScaler()\n",
        "price_scalar.fit(X_train['teacher_number_of_previously_posted_projects'].values.reshape(-1,1)) \n",
        "print(f\"Mean : {price_scalar.mean_[0]}, Standard deviation : {np.sqrt(price_scalar.var_[0])}\")\n",
        "\n",
        "#train data ppp standardization\n",
        "number_ppp_standardized = price_scalar.transform(X_train['teacher_number_of_previously_posted_projects'].values.reshape(-1, 1))\n",
        "\n",
        "#val data price stanardization. Fit method applied on X_train\n",
        "val_number_ppp_standardized = price_scalar.transform(X_val['teacher_number_of_previously_posted_projects'].values.reshape(-1, 1))\n",
        "\n",
        "#test data price stanardization. Fit method applied on X_train\n",
        "test_number_ppp_standardized = price_scalar.transform(X_test['teacher_number_of_previously_posted_projects'].values.reshape(-1, 1))"
      ],
      "execution_count": 0,
      "outputs": [
        {
          "output_type": "stream",
          "text": [
            "Mean : 10.949686458945719, Standard deviation : 27.498824488079613\n"
          ],
          "name": "stdout"
        },
        {
          "output_type": "stream",
          "text": [
            "/usr/local/lib/python3.6/dist-packages/sklearn/utils/validation.py:595: DataConversionWarning: Data with input dtype int64 was converted to float64 by StandardScaler.\n",
            "  warnings.warn(msg, DataConversionWarning)\n",
            "/usr/local/lib/python3.6/dist-packages/sklearn/utils/validation.py:595: DataConversionWarning: Data with input dtype int64 was converted to float64 by StandardScaler.\n",
            "  warnings.warn(msg, DataConversionWarning)\n",
            "/usr/local/lib/python3.6/dist-packages/sklearn/utils/validation.py:595: DataConversionWarning: Data with input dtype int64 was converted to float64 by StandardScaler.\n",
            "  warnings.warn(msg, DataConversionWarning)\n",
            "/usr/local/lib/python3.6/dist-packages/sklearn/utils/validation.py:595: DataConversionWarning: Data with input dtype int64 was converted to float64 by StandardScaler.\n",
            "  warnings.warn(msg, DataConversionWarning)\n"
          ],
          "name": "stderr"
        }
      ]
    },
    {
      "cell_type": "markdown",
      "metadata": {
        "colab_type": "text",
        "id": "EQqeuLyedSsv"
      },
      "source": [
        "<h3>Preprocessing of Text Feature for both test and train data</h3>"
      ]
    },
    {
      "cell_type": "code",
      "metadata": {
        "colab_type": "code",
        "id": "j1SPHY9TdY1y",
        "colab": {}
      },
      "source": [
        "#using function and stopwords form assignemnt\n",
        "\n",
        "import re\n",
        "\n",
        "def decontracted(phrase):\n",
        "    # specific\n",
        "    phrase = re.sub(r\"won't\", \"will not\", phrase)\n",
        "    phrase = re.sub(r\"can\\'t\", \"can not\", phrase)\n",
        "\n",
        "    # general\n",
        "    phrase = re.sub(r\"n\\'t\", \" not\", phrase)\n",
        "    phrase = re.sub(r\"\\'re\", \" are\", phrase)\n",
        "    phrase = re.sub(r\"\\'s\", \" is\", phrase)\n",
        "    phrase = re.sub(r\"\\'d\", \" would\", phrase)\n",
        "    phrase = re.sub(r\"\\'ll\", \" will\", phrase)\n",
        "    phrase = re.sub(r\"\\'t\", \" not\", phrase)\n",
        "    phrase = re.sub(r\"\\'ve\", \" have\", phrase)\n",
        "    phrase = re.sub(r\"\\'m\", \" am\", phrase)\n",
        "    return phrase\n",
        "  \n",
        "# we are removing the words from the stop words list: 'no', 'nor', 'not'\n",
        "stopwords= ['i', 'me', 'my', 'myself', 'we', 'our', 'ours', 'ourselves', 'you', \"you're\", \"you've\",\\\n",
        "            \"you'll\", \"you'd\", 'your', 'yours', 'yourself', 'yourselves', 'he', 'him', 'his', 'himself', \\\n",
        "            'she', \"she's\", 'her', 'hers', 'herself', 'it', \"it's\", 'its', 'itself', 'they', 'them', 'their',\\\n",
        "            'theirs', 'themselves', 'what', 'which', 'who', 'whom', 'this', 'that', \"that'll\", 'these', 'those', \\\n",
        "            'am', 'is', 'are', 'was', 'were', 'be', 'been', 'being', 'have', 'has', 'had', 'having', 'do', 'does', \\\n",
        "            'did', 'doing', 'a', 'an', 'the', 'and', 'but', 'if', 'or', 'because', 'as', 'until', 'while', 'of', \\\n",
        "            'at', 'by', 'for', 'with', 'about', 'against', 'between', 'into', 'through', 'during', 'before', 'after',\\\n",
        "            'above', 'below', 'to', 'from', 'up', 'down', 'in', 'out', 'on', 'off', 'over', 'under', 'again', 'further',\\\n",
        "            'then', 'once', 'here', 'there', 'when', 'where', 'why', 'how', 'all', 'any', 'both', 'each', 'few', 'more',\\\n",
        "            'most', 'other', 'some', 'such', 'only', 'own', 'same', 'so', 'than', 'too', 'very', \\\n",
        "            's', 't', 'can', 'will', 'just', 'don', \"don't\", 'should', \"should've\", 'now', 'd', 'll', 'm', 'o', 're', \\\n",
        "            've', 'y', 'ain', 'aren', \"aren't\", 'couldn', \"couldn't\", 'didn', \"didn't\", 'doesn', \"doesn't\", 'hadn',\\\n",
        "            \"hadn't\", 'hasn', \"hasn't\", 'haven', \"haven't\", 'isn', \"isn't\", 'ma', 'mightn', \"mightn't\", 'mustn',\\\n",
        "            \"mustn't\", 'needn', \"needn't\", 'shan', \"shan't\", 'shouldn', \"shouldn't\", 'wasn', \"wasn't\", 'weren', \"weren't\", \\\n",
        "            'won', \"won't\", 'wouldn', \"wouldn't\"]"
      ],
      "execution_count": 0,
      "outputs": []
    },
    {
      "cell_type": "markdown",
      "metadata": {
        "colab_type": "text",
        "id": "0kdZk5kOdxED"
      },
      "source": [
        "1. preprocessing of project essay"
      ]
    },
    {
      "cell_type": "code",
      "metadata": {
        "colab_type": "code",
        "id": "ealoov6Nd0Vn",
        "outputId": "88e1d2f4-ec5b-4e06-8b09-832f5130089e",
        "colab": {
          "base_uri": "https://localhost:8080/",
          "height": 68
        }
      },
      "source": [
        "from tqdm import tqdm\n",
        "\n",
        "#for train data\n",
        "preprocessed_essays = []\n",
        "# tqdm is for printing the status bar\n",
        "for sentance in tqdm(X_train['essay'].values):\n",
        "    sent = decontracted(sentance)\n",
        "    sent = sent.replace('\\\\r', ' ')\n",
        "    sent = sent.replace('\\\\\"', ' ')\n",
        "    sent = sent.replace('\\\\n', ' ')\n",
        "    sent = re.sub('[^A-Za-z0-9]+', ' ', sent)\n",
        "    # https://gist.github.com/sebleier/554280\n",
        "    sent = ' '.join(e for e in sent.split() if e not in stopwords)\n",
        "    preprocessed_essays.append(sent.lower().strip())\n",
        "    \n",
        "val_preprocessed_essays = []\n",
        "# tqdm is for printing the status bar\n",
        "for sentance in tqdm(X_val['essay'].values):\n",
        "    sent = decontracted(sentance)\n",
        "    sent = sent.replace('\\\\r', ' ')\n",
        "    sent = sent.replace('\\\\\"', ' ')\n",
        "    sent = sent.replace('\\\\n', ' ')\n",
        "    sent = re.sub('[^A-Za-z0-9]+', ' ', sent)\n",
        "    # https://gist.github.com/sebleier/554280\n",
        "    sent = ' '.join(e for e in sent.split() if e not in stopwords)\n",
        "    val_preprocessed_essays.append(sent.lower().strip())\n",
        "\n",
        "    \n",
        "    \n",
        "test_preprocessed_essays = []\n",
        "# tqdm is for printing the status bar\n",
        "for sentance in tqdm(X_test['essay'].values):\n",
        "    sent = decontracted(sentance)\n",
        "    sent = sent.replace('\\\\r', ' ')\n",
        "    sent = sent.replace('\\\\\"', ' ')\n",
        "    sent = sent.replace('\\\\n', ' ')\n",
        "    sent = re.sub('[^A-Za-z0-9]+', ' ', sent)\n",
        "    # https://gist.github.com/sebleier/554280\n",
        "    sent = ' '.join(e for e in sent.split() if e not in stopwords)\n",
        "    test_preprocessed_essays.append(sent.lower().strip())"
      ],
      "execution_count": 0,
      "outputs": [
        {
          "output_type": "stream",
          "text": [
            "100%|██████████| 20412/20412 [00:12<00:00, 1653.52it/s]\n",
            "100%|██████████| 4788/4788 [00:02<00:00, 1650.68it/s]\n",
            "100%|██████████| 4800/4800 [00:02<00:00, 1637.56it/s]\n"
          ],
          "name": "stderr"
        }
      ]
    },
    {
      "cell_type": "markdown",
      "metadata": {
        "colab_type": "text",
        "id": "TL4Bq9UpeDCc"
      },
      "source": [
        "2. preprocessing of project title"
      ]
    },
    {
      "cell_type": "code",
      "metadata": {
        "colab_type": "code",
        "id": "r3n1qgH0eGtK",
        "outputId": "5eae1c73-9684-4fda-9422-0fa80fc64711",
        "colab": {
          "base_uri": "https://localhost:8080/",
          "height": 68
        }
      },
      "source": [
        "preprocessed_title = []\n",
        "# tqdm is for printing the status bar\n",
        "for sentance in tqdm(X_train['project_title'].values):\n",
        "    sent = decontracted(sentance)\n",
        "    sent = sent.replace('\\\\r', ' ')\n",
        "    sent = sent.replace('\\\\\"', ' ')\n",
        "    sent = sent.replace('\\\\n', ' ')\n",
        "    sent = re.sub('[^A-Za-z0-9]+', ' ', sent)\n",
        "    # https://gist.github.com/sebleier/554280\n",
        "    sent = ' '.join(e for e in sent.split() if e not in stopwords)\n",
        "    preprocessed_title.append(sent.lower().strip())\n",
        "    \n",
        "# for val data\n",
        "val_preprocessed_title = []\n",
        "# tqdm is for printing the status bar\n",
        "for sentance in tqdm(X_val['project_title'].values):\n",
        "    sent = decontracted(sentance)\n",
        "    sent = sent.replace('\\\\r', ' ')\n",
        "    sent = sent.replace('\\\\\"', ' ')\n",
        "    sent = sent.replace('\\\\n', ' ')\n",
        "    sent = re.sub('[^A-Za-z0-9]+', ' ', sent)\n",
        "    # https://gist.github.com/sebleier/554280\n",
        "    sent = ' '.join(e for e in sent.split() if e not in stopwords)\n",
        "    val_preprocessed_title.append(sent.lower().strip())\n",
        "    \n",
        "    \n",
        "# for test data\n",
        "test_preprocessed_title = []\n",
        "# tqdm is for printing the status bar\n",
        "for sentance in tqdm(X_test['project_title'].values):\n",
        "    sent = decontracted(sentance)\n",
        "    sent = sent.replace('\\\\r', ' ')\n",
        "    sent = sent.replace('\\\\\"', ' ')\n",
        "    sent = sent.replace('\\\\n', ' ')\n",
        "    sent = re.sub('[^A-Za-z0-9]+', ' ', sent)\n",
        "    # https://gist.github.com/sebleier/554280\n",
        "    sent = ' '.join(e for e in sent.split() if e not in stopwords)\n",
        "    test_preprocessed_title.append(sent.lower().strip())\n"
      ],
      "execution_count": 0,
      "outputs": [
        {
          "output_type": "stream",
          "text": [
            "100%|██████████| 20412/20412 [00:00<00:00, 33998.88it/s]\n",
            "100%|██████████| 4788/4788 [00:00<00:00, 33601.31it/s]\n",
            "100%|██████████| 4800/4800 [00:00<00:00, 32158.74it/s]\n"
          ],
          "name": "stderr"
        }
      ]
    },
    {
      "cell_type": "markdown",
      "metadata": {
        "colab_type": "text",
        "id": "9gukmoGLh7wi"
      },
      "source": [
        "<h3>Vectorizing Text Feature</h3>"
      ]
    },
    {
      "cell_type": "markdown",
      "metadata": {
        "colab_type": "text",
        "id": "TetkijlKiAu2"
      },
      "source": [
        "1. BOW"
      ]
    },
    {
      "cell_type": "code",
      "metadata": {
        "colab_type": "code",
        "id": "P_u_xJ2Nh5Ks",
        "outputId": "60d11bbe-0aa1-44bc-ce5f-5774a33f9894",
        "colab": {
          "base_uri": "https://localhost:8080/",
          "height": 102
        }
      },
      "source": [
        "vectorizer = CountVectorizer(min_df=10,ngram_range=(1,4),max_features=5000)\n",
        "#fit using train data\n",
        "vectorizer.fit(preprocessed_essays)\n",
        "essay_feature = vectorizer.get_feature_names()\n",
        "\n",
        "\n",
        "# for train data\n",
        "text_bow = vectorizer.transform(preprocessed_essays)\n",
        "print(\"Shape of train matrix : \",text_bow.shape)\n",
        "\n",
        "# for val data\n",
        "val_text_bow = vectorizer.transform(val_preprocessed_essays)\n",
        "\n",
        "\n",
        "# for test data\n",
        "test_text_bow = vectorizer.transform(test_preprocessed_essays)\n",
        "print(\"Shape of test matrix : \",test_text_bow.shape)\n",
        "\n",
        "\n",
        "# for title\n",
        "vectorizer.fit(preprocessed_title)\n",
        "title_feature = vectorizer.get_feature_names()\n",
        "\n",
        "# for train data\n",
        "title_bow = vectorizer.transform(preprocessed_title)\n",
        "print(\"Shape of train matrix : \",title_bow.shape)\n",
        "\n",
        "# for val data\n",
        "val_title_bow = vectorizer.transform(val_preprocessed_title)\n",
        "print(\"Shape of test matrix : \",val_title_bow.shape)\n",
        "\n",
        "# for test data\n",
        "test_title_bow = vectorizer.transform(test_preprocessed_title)\n",
        "print(\"Shape of test matrix : \",test_title_bow.shape)"
      ],
      "execution_count": 0,
      "outputs": [
        {
          "output_type": "stream",
          "text": [
            "Shape of train matrix :  (20412, 5000)\n",
            "Shape of test matrix :  (4800, 5000)\n",
            "Shape of train matrix :  (20412, 1823)\n",
            "Shape of test matrix :  (4788, 1823)\n",
            "Shape of test matrix :  (4800, 1823)\n"
          ],
          "name": "stdout"
        }
      ]
    },
    {
      "cell_type": "markdown",
      "metadata": {
        "colab_type": "text",
        "id": "N5dMGDGUi2fo"
      },
      "source": [
        "2. TFIDF"
      ]
    },
    {
      "cell_type": "code",
      "metadata": {
        "colab_type": "code",
        "id": "vpD4ZqDAi4vT",
        "outputId": "bd14ef5a-e2bd-454d-85a9-1628cd27bef7",
        "colab": {
          "base_uri": "https://localhost:8080/",
          "height": 119
        }
      },
      "source": [
        "vectorizer = TfidfVectorizer(min_df=10,ngram_range=(1,4),max_features=5000)\n",
        "#fit using train data\n",
        "vectorizer.fit(preprocessed_essays)\n",
        "essay_feature_tfidf = vectorizer.get_feature_names()\n",
        "# for train data\n",
        "text_tfidf = vectorizer.transform(preprocessed_essays)\n",
        "print(\"Shape of train matrix : \",text_tfidf.shape)\n",
        "\n",
        "\n",
        "# for val data\n",
        "val_text_tfidf = vectorizer.transform(val_preprocessed_essays)\n",
        "print(\"Shape of val matrix : \",val_text_tfidf.shape)\n",
        "\n",
        "# for test data\n",
        "test_text_tfidf = vectorizer.transform(test_preprocessed_essays)\n",
        "print(\"Shape of test matrix : \",test_text_tfidf.shape)\n",
        "\n",
        "\n",
        "# for title\n",
        "vectorizer.fit(preprocessed_title)\n",
        "title_feature_tfidf = vectorizer.get_feature_names()\n",
        "\n",
        "# for train data\n",
        "title_tfidf = vectorizer.transform(preprocessed_title)\n",
        "print(\"Shape of train matrix : \",title_tfidf.shape)\n",
        "\n",
        "# for val data\n",
        "val_title_tfidf = vectorizer.transform(val_preprocessed_title)\n",
        "print(\"Shape of val matrix : \",val_title_tfidf.shape)\n",
        "\n",
        "\n",
        "# for test data\n",
        "test_title_tfidf = vectorizer.transform(test_preprocessed_title)\n",
        "print(\"Shape of test matrix : \",test_title_tfidf.shape)"
      ],
      "execution_count": 0,
      "outputs": [
        {
          "output_type": "stream",
          "text": [
            "Shape of train matrix :  (20412, 5000)\n",
            "Shape of val matrix :  (4788, 5000)\n",
            "Shape of test matrix :  (4800, 5000)\n",
            "Shape of train matrix :  (20412, 1823)\n",
            "Shape of val matrix :  (4788, 1823)\n",
            "Shape of test matrix :  (4800, 1823)\n"
          ],
          "name": "stdout"
        }
      ]
    },
    {
      "cell_type": "markdown",
      "metadata": {
        "colab_type": "text",
        "id": "IEh5N1Z_jQnE"
      },
      "source": [
        "3. Avg W2v"
      ]
    },
    {
      "cell_type": "code",
      "metadata": {
        "colab_type": "code",
        "id": "4_ySo73gjVGY",
        "colab": {}
      },
      "source": [
        "with open('/content/drive/My Drive/glove_vectors', 'rb') as f:\n",
        "    model = pickle.load(f)\n",
        "    glove_words =  set(model.keys())"
      ],
      "execution_count": 0,
      "outputs": []
    },
    {
      "cell_type": "code",
      "metadata": {
        "colab_type": "code",
        "id": "wvnmCGP6jlTf",
        "outputId": "56cdc4b5-086f-4156-9210-c2ffb3d33f97",
        "colab": {
          "base_uri": "https://localhost:8080/",
          "height": 170
        }
      },
      "source": [
        "# for train data\n",
        "avg_w2v_vectors = []; # the avg-w2v for each sentence/review is stored in this list\n",
        "for sentence in tqdm(preprocessed_essays): # for each review/sentence\n",
        "    vector = np.zeros(300) # as word vectors are of zero length\n",
        "    cnt_words =0; # num of words with a valid vector in the sentence/review\n",
        "    for word in sentence.split(): # for each word in a review/sentence\n",
        "        if word in glove_words:\n",
        "            vector += model[word]\n",
        "            cnt_words += 1\n",
        "    if cnt_words != 0:\n",
        "        vector /= cnt_words\n",
        "    avg_w2v_vectors.append(vector)\n",
        "print(len(avg_w2v_vectors))\n",
        "print(len(avg_w2v_vectors[0]))\n",
        "\n",
        "\n",
        "# for val data\n",
        "val_avg_w2v_vectors = [] # the avg-w2v for each sentence/review is stored in this list\n",
        "for sentence in tqdm(val_preprocessed_essays): # for each review/sentence\n",
        "    vector = np.zeros(300) # as word vectors are of zero length\n",
        "    cnt_words =0; # num of words with a valid vector in the sentence/review\n",
        "    for word in sentence.split(): # for each word in a review/sentence\n",
        "        if word in glove_words:\n",
        "            vector += model[word]\n",
        "            cnt_words += 1\n",
        "    if cnt_words != 0:\n",
        "        vector /= cnt_words\n",
        "    val_avg_w2v_vectors.append(vector)\n",
        "\n",
        "print(len(val_avg_w2v_vectors))\n",
        "print(len(val_avg_w2v_vectors[0]))\n",
        "\n",
        "    \n",
        "# for test data\n",
        "test_avg_w2v_vectors = [] # the avg-w2v for each sentence/review is stored in this list\n",
        "for sentence in tqdm(test_preprocessed_essays): # for each review/sentence\n",
        "    vector = np.zeros(300) # as word vectors are of zero length\n",
        "    cnt_words =0; # num of words with a valid vector in the sentence/review\n",
        "    for word in sentence.split(): # for each word in a review/sentence\n",
        "        if word in glove_words:\n",
        "            vector += model[word]\n",
        "            cnt_words += 1\n",
        "    if cnt_words != 0:\n",
        "        vector /= cnt_words\n",
        "    test_avg_w2v_vectors.append(vector)\n",
        "\n",
        "print(len(test_avg_w2v_vectors))\n",
        "print(len(test_avg_w2v_vectors[0]))"
      ],
      "execution_count": 0,
      "outputs": [
        {
          "output_type": "stream",
          "text": [
            "100%|██████████| 20412/20412 [00:07<00:00, 2902.51it/s]\n",
            "  6%|▌         | 292/4788 [00:00<00:01, 2916.66it/s]"
          ],
          "name": "stderr"
        },
        {
          "output_type": "stream",
          "text": [
            "20412\n",
            "300\n"
          ],
          "name": "stdout"
        },
        {
          "output_type": "stream",
          "text": [
            "100%|██████████| 4788/4788 [00:01<00:00, 2928.41it/s]\n",
            " 12%|█▏        | 591/4800 [00:00<00:01, 2965.03it/s]"
          ],
          "name": "stderr"
        },
        {
          "output_type": "stream",
          "text": [
            "4788\n",
            "300\n"
          ],
          "name": "stdout"
        },
        {
          "output_type": "stream",
          "text": [
            "100%|██████████| 4800/4800 [00:01<00:00, 2921.10it/s]"
          ],
          "name": "stderr"
        },
        {
          "output_type": "stream",
          "text": [
            "4800\n",
            "300\n"
          ],
          "name": "stdout"
        },
        {
          "output_type": "stream",
          "text": [
            "\n"
          ],
          "name": "stderr"
        }
      ]
    },
    {
      "cell_type": "code",
      "metadata": {
        "colab_type": "code",
        "id": "mpVhf9C0kCsr",
        "outputId": "5d728abf-1890-4c2c-c004-99a263df3e0f",
        "colab": {
          "base_uri": "https://localhost:8080/",
          "height": 170
        }
      },
      "source": [
        "title_avg_w2v_vectors = []\n",
        "for sentence in tqdm(preprocessed_title): \n",
        "    vector = np.zeros(300) \n",
        "    cnt_words =0; \n",
        "    for word in sentence.split(): \n",
        "        if word in glove_words:\n",
        "            vector += model[word]\n",
        "            cnt_words += 1\n",
        "    if cnt_words != 0:\n",
        "        vector /= cnt_words\n",
        "    title_avg_w2v_vectors.append(vector)\n",
        "\n",
        "print(len(title_avg_w2v_vectors))\n",
        "print(len(title_avg_w2v_vectors[0]))\n",
        "\n",
        "# for val data\n",
        "val_title_avg_w2v_vectors = []\n",
        "for sentence in tqdm(val_preprocessed_title): \n",
        "    vector = np.zeros(300) \n",
        "    cnt_words =0; \n",
        "    for word in sentence.split(): \n",
        "        if word in glove_words:\n",
        "            vector += model[word]\n",
        "            cnt_words += 1\n",
        "    if cnt_words != 0:\n",
        "        vector /= cnt_words\n",
        "    val_title_avg_w2v_vectors.append(vector)\n",
        "\n",
        "print(len(val_title_avg_w2v_vectors))\n",
        "print(len(val_title_avg_w2v_vectors[0]))\n",
        "\n",
        "\n",
        "# for test data\n",
        "test_title_avg_w2v_vectors = []\n",
        "for sentence in tqdm(test_preprocessed_title): \n",
        "    vector = np.zeros(300) \n",
        "    cnt_words =0; \n",
        "    for word in sentence.split(): \n",
        "        if word in glove_words:\n",
        "            vector += model[word]\n",
        "            cnt_words += 1\n",
        "    if cnt_words != 0:\n",
        "        vector /= cnt_words\n",
        "    test_title_avg_w2v_vectors.append(vector)\n",
        "\n",
        "print(len(test_title_avg_w2v_vectors))\n",
        "print(len(test_title_avg_w2v_vectors[0]))\n"
      ],
      "execution_count": 0,
      "outputs": [
        {
          "output_type": "stream",
          "text": [
            "100%|██████████| 20412/20412 [00:00<00:00, 59595.92it/s]\n",
            "100%|██████████| 4788/4788 [00:00<00:00, 63335.61it/s]\n",
            "100%|██████████| 4800/4800 [00:00<00:00, 64242.98it/s]"
          ],
          "name": "stderr"
        },
        {
          "output_type": "stream",
          "text": [
            "20412\n",
            "300\n",
            "4788\n",
            "300\n",
            "4800\n",
            "300\n"
          ],
          "name": "stdout"
        },
        {
          "output_type": "stream",
          "text": [
            "\n"
          ],
          "name": "stderr"
        }
      ]
    },
    {
      "cell_type": "markdown",
      "metadata": {
        "colab_type": "text",
        "id": "_hl6FSpGk5kL"
      },
      "source": [
        "4. TFIDF avgw2v"
      ]
    },
    {
      "cell_type": "code",
      "metadata": {
        "colab_type": "code",
        "id": "6coAxe9Nk8y3",
        "outputId": "bf452ae7-029f-473b-e911-3449453b7606",
        "colab": {
          "base_uri": "https://localhost:8080/",
          "height": 170
        }
      },
      "source": [
        "#  for train data\n",
        "tfidf_model = TfidfVectorizer()\n",
        "tfidf_model.fit(preprocessed_essays)\n",
        "# we are converting a dictionary with word as a key, and the idf as a value\n",
        "dictionary = dict(zip(tfidf_model.get_feature_names(), list(tfidf_model.idf_)))\n",
        "tfidf_words = set(tfidf_model.get_feature_names())\n",
        "\n",
        "tfidf_w2v_vectors = []; # the avg-w2v for each sentence/review is stored in this list\n",
        "for sentence in tqdm(preprocessed_essays): # for each review/sentence\n",
        "    vector = np.zeros(300) # as word vectors are of zero length\n",
        "    tf_idf_weight =0; # num of words with a valid vector in the sentence/review\n",
        "    for word in sentence.split(): # for each word in a review/sentence\n",
        "        if (word in glove_words) and (word in tfidf_words):\n",
        "            vec = model[word] # getting the vector for each word\n",
        "            # here we are multiplying idf value(dictionary[word]) and the tf value((sentence.count(word)/len(sentence.split())))\n",
        "            tf_idf = dictionary[word]*(sentence.count(word)/len(sentence.split())) # getting the tfidf value for each word\n",
        "            vector += (vec * tf_idf) # calculating tfidf weighted w2v\n",
        "            tf_idf_weight += tf_idf\n",
        "    if tf_idf_weight != 0:\n",
        "        vector /= tf_idf_weight\n",
        "    tfidf_w2v_vectors.append(vector)\n",
        "\n",
        "print(len(tfidf_w2v_vectors))\n",
        "print(len(tfidf_w2v_vectors[0]))\n",
        "\n",
        "# -------------- for val data --------------------------\n",
        "val_tfidf_model = TfidfVectorizer()\n",
        "val_tfidf_model.fit(preprocessed_essays)\n",
        "# we are converting a dictionary with word as a key, and the idf as a value\n",
        "dictionary = dict(zip(val_tfidf_model.get_feature_names(), list(val_tfidf_model.idf_)))\n",
        "tfidf_words = set(val_tfidf_model.get_feature_names())\n",
        "\n",
        "val_tfidf_w2v_vectors = []; # the avg-w2v for each sentence/review is stored in this list\n",
        "for sentence in tqdm(val_preprocessed_essays): # for each review/sentence\n",
        "    vector = np.zeros(300) # as word vectors are of zero length\n",
        "    tf_idf_weight =0; # num of words with a valid vector in the sentence/review\n",
        "    for word in sentence.split(): # for each word in a review/sentence\n",
        "        if (word in glove_words) and (word in tfidf_words):\n",
        "            vec = model[word] # getting the vector for each word\n",
        "            # here we are multiplying idf value(dictionary[word]) and the tf value((sentence.count(word)/len(sentence.split())))\n",
        "            tf_idf = dictionary[word]*(sentence.count(word)/len(sentence.split())) # getting the tfidf value for each word\n",
        "            vector += (vec * tf_idf) # calculating tfidf weighted w2v\n",
        "            tf_idf_weight += tf_idf\n",
        "    if tf_idf_weight != 0:\n",
        "        vector /= tf_idf_weight\n",
        "    val_tfidf_w2v_vectors.append(vector)\n",
        "\n",
        "print(len(val_tfidf_w2v_vectors))\n",
        "print(len(val_tfidf_w2v_vectors[0]))\n",
        "\n",
        "\n",
        "\n",
        "\n",
        "# ------------------ for test data ---------------------------\n",
        "test_tfidf_model = TfidfVectorizer()\n",
        "test_tfidf_model.fit(preprocessed_essays)\n",
        "# we are converting a dictionary with word as a key, and the idf as a value\n",
        "dictionary = dict(zip(test_tfidf_model.get_feature_names(), list(test_tfidf_model.idf_)))\n",
        "tfidf_words = set(test_tfidf_model.get_feature_names())\n",
        "\n",
        "test_tfidf_w2v_vectors = []; # the avg-w2v for each sentence/review is stored in this list\n",
        "for sentence in tqdm(test_preprocessed_essays): # for each review/sentence\n",
        "    vector = np.zeros(300) # as word vectors are of zero length\n",
        "    tf_idf_weight =0; # num of words with a valid vector in the sentence/review\n",
        "    for word in sentence.split(): # for each word in a review/sentence\n",
        "        if (word in glove_words) and (word in tfidf_words):\n",
        "            vec = model[word] # getting the vector for each word\n",
        "            # here we are multiplying idf value(dictionary[word]) and the tf value((sentence.count(word)/len(sentence.split())))\n",
        "            tf_idf = dictionary[word]*(sentence.count(word)/len(sentence.split())) # getting the tfidf value for each word\n",
        "            vector += (vec * tf_idf) # calculating tfidf weighted w2v\n",
        "            tf_idf_weight += tf_idf\n",
        "    if tf_idf_weight != 0:\n",
        "        vector /= tf_idf_weight\n",
        "    test_tfidf_w2v_vectors.append(vector)\n",
        "\n",
        "print(len(test_tfidf_w2v_vectors))\n",
        "print(len(test_tfidf_w2v_vectors[0]))\n"
      ],
      "execution_count": 0,
      "outputs": [
        {
          "output_type": "stream",
          "text": [
            "100%|██████████| 20412/20412 [00:41<00:00, 488.34it/s]\n"
          ],
          "name": "stderr"
        },
        {
          "output_type": "stream",
          "text": [
            "20412\n",
            "300\n"
          ],
          "name": "stdout"
        },
        {
          "output_type": "stream",
          "text": [
            "100%|██████████| 4788/4788 [00:09<00:00, 480.30it/s]\n"
          ],
          "name": "stderr"
        },
        {
          "output_type": "stream",
          "text": [
            "4788\n",
            "300\n"
          ],
          "name": "stdout"
        },
        {
          "output_type": "stream",
          "text": [
            "100%|██████████| 4800/4800 [00:10<00:00, 475.26it/s]"
          ],
          "name": "stderr"
        },
        {
          "output_type": "stream",
          "text": [
            "4800\n",
            "300\n"
          ],
          "name": "stdout"
        },
        {
          "output_type": "stream",
          "text": [
            "\n"
          ],
          "name": "stderr"
        }
      ]
    },
    {
      "cell_type": "code",
      "metadata": {
        "colab_type": "code",
        "id": "FroiklJAl2__",
        "outputId": "e74b0041-f3d0-4bef-87a9-5d4cbde1aac6",
        "colab": {
          "base_uri": "https://localhost:8080/",
          "height": 119
        }
      },
      "source": [
        "# for title \n",
        "tfidf_model.fit(preprocessed_title)\n",
        "\n",
        "dictionary = dict(zip(tfidf_model.get_feature_names(), list(tfidf_model.idf_)))\n",
        "tfidf_words = set(tfidf_model.get_feature_names())\n",
        "\n",
        "\n",
        "title_tfidf_w2v_vectors = []; # the avg-w2v for each sentence/review is stored in this list\n",
        "for sentence in tqdm(preprocessed_title): # for each review/sentence\n",
        "    vector = np.zeros(300) # as word vectors are of zero length\n",
        "    tf_idf_weight =0; # num of words with a valid vector in the sentence/review\n",
        "    for word in sentence.split(): # for each word in a review/sentence\n",
        "        if (word in glove_words) and (word in tfidf_words):\n",
        "            vec = model[word] # getting the vector for each word\n",
        "            # here we are multiplying idf value(dictionary[word]) and the tf value((sentence.count(word)/len(sentence.split())))\n",
        "            tf_idf = dictionary[word]*(sentence.count(word)/len(sentence.split())) # getting the tfidf value for each word\n",
        "            vector += (vec * tf_idf) # calculating tfidf weighted w2v\n",
        "            tf_idf_weight += tf_idf\n",
        "    if tf_idf_weight != 0:\n",
        "        vector /= tf_idf_weight\n",
        "    title_tfidf_w2v_vectors.append(vector)\n",
        "\n",
        "print(len(title_tfidf_w2v_vectors))\n",
        "\n",
        "# -------------- for val title -----------------------------\n",
        "val_tfidf_model.fit(preprocessed_title)\n",
        "\n",
        "dictionary = dict(zip(val_tfidf_model.get_feature_names(), list(val_tfidf_model.idf_)))\n",
        "tfidf_words = set(val_tfidf_model.get_feature_names())\n",
        "\n",
        "\n",
        "val_title_tfidf_w2v_vectors = []; # the avg-w2v for each sentence/review is stored in this list\n",
        "for sentence in tqdm(val_preprocessed_title): # for each review/sentence\n",
        "    vector = np.zeros(300) # as word vectors are of zero length\n",
        "    tf_idf_weight =0; # num of words with a valid vector in the sentence/review\n",
        "    for word in sentence.split(): # for each word in a review/sentence\n",
        "        if (word in glove_words) and (word in tfidf_words):\n",
        "            vec = model[word] # getting the vector for each word\n",
        "            # here we are multiplying idf value(dictionary[word]) and the tf value((sentence.count(word)/len(sentence.split())))\n",
        "            tf_idf = dictionary[word]*(sentence.count(word)/len(sentence.split())) # getting the tfidf value for each word\n",
        "            vector += (vec * tf_idf) # calculating tfidf weighted w2v\n",
        "            tf_idf_weight += tf_idf\n",
        "    if tf_idf_weight != 0:\n",
        "        vector /= tf_idf_weight\n",
        "    val_title_tfidf_w2v_vectors.append(vector)\n",
        "\n",
        "print(len(val_title_tfidf_w2v_vectors))\n",
        "\n",
        "\n",
        "\n",
        "# --------------- for test title  ----------------------\n",
        "test_tfidf_model.fit(preprocessed_title)\n",
        "\n",
        "dictionary = dict(zip(test_tfidf_model.get_feature_names(), list(test_tfidf_model.idf_)))\n",
        "tfidf_words = set(test_tfidf_model.get_feature_names())\n",
        "\n",
        "\n",
        "test_title_tfidf_w2v_vectors = []; # the avg-w2v for each sentence/review is stored in this list\n",
        "for sentence in tqdm(test_preprocessed_title): # for each review/sentence\n",
        "    vector = np.zeros(300) # as word vectors are of zero length\n",
        "    tf_idf_weight =0; # num of words with a valid vector in the sentence/review\n",
        "    for word in sentence.split(): # for each word in a review/sentence\n",
        "        if (word in glove_words) and (word in tfidf_words):\n",
        "            vec = model[word] # getting the vector for each word\n",
        "            # here we are multiplying idf value(dictionary[word]) and the tf value((sentence.count(word)/len(sentence.split())))\n",
        "            tf_idf = dictionary[word]*(sentence.count(word)/len(sentence.split())) # getting the tfidf value for each word\n",
        "            vector += (vec * tf_idf) # calculating tfidf weighted w2v\n",
        "            tf_idf_weight += tf_idf\n",
        "    if tf_idf_weight != 0:\n",
        "        vector /= tf_idf_weight\n",
        "    test_title_tfidf_w2v_vectors.append(vector)\n",
        "\n",
        "print(len(test_title_tfidf_w2v_vectors))\n"
      ],
      "execution_count": 0,
      "outputs": [
        {
          "output_type": "stream",
          "text": [
            "100%|██████████| 20412/20412 [00:00<00:00, 23682.53it/s]\n",
            "  0%|          | 0/4788 [00:00<?, ?it/s]"
          ],
          "name": "stderr"
        },
        {
          "output_type": "stream",
          "text": [
            "20412\n"
          ],
          "name": "stdout"
        },
        {
          "output_type": "stream",
          "text": [
            "100%|██████████| 4788/4788 [00:00<00:00, 20036.98it/s]\n",
            "  0%|          | 0/4800 [00:00<?, ?it/s]"
          ],
          "name": "stderr"
        },
        {
          "output_type": "stream",
          "text": [
            "4788\n"
          ],
          "name": "stdout"
        },
        {
          "output_type": "stream",
          "text": [
            "100%|██████████| 4800/4800 [00:00<00:00, 20651.27it/s]"
          ],
          "name": "stderr"
        },
        {
          "output_type": "stream",
          "text": [
            "4800\n"
          ],
          "name": "stdout"
        },
        {
          "output_type": "stream",
          "text": [
            "\n"
          ],
          "name": "stderr"
        }
      ]
    },
    {
      "cell_type": "markdown",
      "metadata": {
        "colab_type": "text",
        "id": "BzUeriXDsnc6"
      },
      "source": [
        "Printing all"
      ]
    },
    {
      "cell_type": "code",
      "metadata": {
        "colab_type": "code",
        "id": "7YqhNuxUswla",
        "outputId": "27972c66-63c7-4fe2-fcad-9e97ce5e48f6",
        "colab": {
          "base_uri": "https://localhost:8080/",
          "height": 153
        }
      },
      "source": [
        "print(\"Text Features that are considered :- \")\n",
        "print(\"*\"*70)\n",
        "print(\"Project Essay BOW:- \",text_bow.shape)\n",
        "print(\"Project Essay TFIDF:- \",text_tfidf.shape)\n",
        "print(\"*\"*70)\n",
        "print(\"Project Title BOW:- \",title_bow.shape)\n",
        "print(\"Project Title TFIDF:- \",title_tfidf.shape)\n",
        "print(\"*\"*70)"
      ],
      "execution_count": 0,
      "outputs": [
        {
          "output_type": "stream",
          "text": [
            "Text Features that are considered :- \n",
            "**********************************************************************\n",
            "Project Essay BOW:-  (20412, 5000)\n",
            "Project Essay TFIDF:-  (20412, 5000)\n",
            "**********************************************************************\n",
            "Project Title BOW:-  (20412, 1823)\n",
            "Project Title TFIDF:-  (20412, 1823)\n",
            "**********************************************************************\n"
          ],
          "name": "stdout"
        }
      ]
    },
    {
      "cell_type": "code",
      "metadata": {
        "id": "usQOPeV_tz0D",
        "colab_type": "code",
        "colab": {}
      },
      "source": [
        "avg_w2v_vectors = np.array(avg_w2v_vectors)\n",
        "title_avg_w2v_vectors = np.array(title_avg_w2v_vectors)\n",
        "val_avg_w2v_vectors = np.array(val_avg_w2v_vectors)"
      ],
      "execution_count": 0,
      "outputs": []
    },
    {
      "cell_type": "code",
      "metadata": {
        "id": "3FltJHAEtz0F",
        "colab_type": "code",
        "colab": {}
      },
      "source": [
        "test_avg_w2v_vectors = np.array(test_avg_w2v_vectors)\n",
        "test_title_avg_w2v_vectors = np.array(test_title_avg_w2v_vectors)"
      ],
      "execution_count": 0,
      "outputs": []
    },
    {
      "cell_type": "markdown",
      "metadata": {
        "colab_type": "text",
        "id": "X4nWVd1QuurX"
      },
      "source": [
        "# sets"
      ]
    },
    {
      "cell_type": "code",
      "metadata": {
        "colab_type": "code",
        "id": "h2DKZjrss15q",
        "outputId": "812287c1-7c87-4532-d06e-567f9a438235",
        "colab": {
          "base_uri": "https://localhost:8080/",
          "height": 85
        }
      },
      "source": [
        "#combining all feature into one\n",
        "from scipy.sparse import hstack\n",
        "\n",
        "set1 = hstack((categories_feature_responseCoding,subcategories_feature_responseCoding,prefix_feature_responseCoding,grade_feature_responseCoding,state_feature_responseCoding,price_standardized,quantity_standardized,number_ppp_standardized,text_bow,title_bow))\n",
        "set1_v = hstack((val_categories_feature_responseCoding,val_subcategories_feature_responseCoding,val_prefix_feature_responseCoding,val_grade_feature_responseCoding,val_state_feature_responseCoding,val_price_standardized,val_quantity_standardized,val_number_ppp_standardized,val_text_bow,val_title_bow))\n",
        "set1_t = hstack((test_categories_feature_responseCoding,test_subcategories_feature_responseCoding,test_prefix_feature_responseCoding,test_grade_feature_responseCoding,test_state_feature_responseCoding,test_price_standardized,test_quantity_standardized,test_number_ppp_standardized,test_text_bow,test_title_bow))\n",
        "\n",
        "set2 = hstack((categories_feature_responseCoding,subcategories_feature_responseCoding,prefix_feature_responseCoding,grade_feature_responseCoding,state_feature_responseCoding,text_tfidf,title_tfidf,price_standardized,quantity_standardized,number_ppp_standardized))\n",
        "set2_v = hstack((val_categories_feature_responseCoding,val_subcategories_feature_responseCoding,val_prefix_feature_responseCoding,val_grade_feature_responseCoding,val_state_feature_responseCoding,val_text_tfidf,val_title_tfidf,val_price_standardized,val_quantity_standardized,val_number_ppp_standardized))\n",
        "set2_t = hstack((test_categories_feature_responseCoding,test_subcategories_feature_responseCoding,test_prefix_feature_responseCoding,test_grade_feature_responseCoding,test_state_feature_responseCoding,test_text_tfidf,test_title_tfidf,test_price_standardized,test_quantity_standardized,test_number_ppp_standardized))\n",
        "\n",
        "set3 = np.hstack((categories_feature_responseCoding,subcategories_feature_responseCoding,prefix_feature_responseCoding,grade_feature_responseCoding,state_feature_responseCoding,price_standardized,quantity_standardized,number_ppp_standardized,avg_w2v_vectors,title_avg_w2v_vectors))\n",
        "set3_v = np.hstack((val_categories_feature_responseCoding,val_subcategories_feature_responseCoding,val_prefix_feature_responseCoding,val_grade_feature_responseCoding,val_state_feature_responseCoding,val_price_standardized,val_quantity_standardized,val_number_ppp_standardized,val_avg_w2v_vectors,val_title_avg_w2v_vectors))\n",
        "set3_t = np.hstack((test_categories_feature_responseCoding,test_subcategories_feature_responseCoding,test_prefix_feature_responseCoding,test_grade_feature_responseCoding,test_state_feature_responseCoding,test_price_standardized,test_quantity_standardized,test_number_ppp_standardized,test_avg_w2v_vectors,test_title_avg_w2v_vectors))\n",
        "\n",
        "set4 = np.hstack((categories_feature_responseCoding,subcategories_feature_responseCoding,prefix_feature_responseCoding,grade_feature_responseCoding,state_feature_responseCoding,price_standardized,quantity_standardized,number_ppp_standardized,tfidf_w2v_vectors,title_tfidf_w2v_vectors))\n",
        "set4_v = np.hstack((val_categories_feature_responseCoding,val_subcategories_feature_responseCoding,val_prefix_feature_responseCoding,val_grade_feature_responseCoding,val_state_feature_responseCoding,val_price_standardized,val_quantity_standardized,val_number_ppp_standardized,val_tfidf_w2v_vectors,val_title_tfidf_w2v_vectors))\n",
        "set4_t = np.hstack((test_categories_feature_responseCoding,test_subcategories_feature_responseCoding,test_prefix_feature_responseCoding,test_grade_feature_responseCoding,test_state_feature_responseCoding,test_price_standardized,test_quantity_standardized,test_number_ppp_standardized,test_tfidf_w2v_vectors,test_title_tfidf_w2v_vectors))\n",
        "\n",
        "\n",
        "print(set1.shape,\"\\t\",set1_t.shape)\n",
        "print(set2.shape,\"\\t\",set2_t.shape)\n",
        "print(set3.shape,\"\\t\",set3_t.shape)\n",
        "print(set4.shape,\"\\t\",set4_t.shape)"
      ],
      "execution_count": 0,
      "outputs": [
        {
          "output_type": "stream",
          "text": [
            "(20412, 6836) \t (4800, 6836)\n",
            "(20412, 6836) \t (4800, 6836)\n",
            "(20412, 613) \t (4800, 613)\n",
            "(20412, 613) \t (4800, 613)\n"
          ],
          "name": "stdout"
        }
      ]
    },
    {
      "cell_type": "code",
      "metadata": {
        "colab_type": "code",
        "id": "mNxxTSZEpkXZ",
        "colab": {}
      },
      "source": [
        "from sklearn.ensemble import RandomForestClassifier\n",
        "from sklearn.metrics import confusion_matrix\n",
        "from sklearn.metrics import roc_auc_score\n",
        "from sklearn.metrics import roc_curve\n",
        "from xgboost import XGBClassifier"
      ],
      "execution_count": 0,
      "outputs": []
    },
    {
      "cell_type": "code",
      "metadata": {
        "id": "P1-5yOZktz0P",
        "colab_type": "code",
        "colab": {}
      },
      "source": [
        "n_estimators = [100,200,300,500]\n",
        "max_depth = [5, 10,15,20]\n",
        "def Plot_heatmap(mean_score,name):\n",
        "    \"\"\"\n",
        "    This function plots heatmap.\n",
        "    \"\"\"\n",
        "    df = pd.DataFrame(mean_score,index = n_estimators,columns = max_depth)\n",
        "    sns.heatmap(df,annot = True)\n",
        "    plt.ylabel(\"N_estimators\")\n",
        "    plt.xlabel(\"Max_depth\")\n",
        "    plt.title(name)\n",
        "    plt.show()\n",
        "    "
      ],
      "execution_count": 0,
      "outputs": []
    },
    {
      "cell_type": "markdown",
      "metadata": {
        "colab_type": "text",
        "id": "6mmLL2MKhWM8"
      },
      "source": [
        "### SET1 (BOW)"
      ]
    },
    {
      "cell_type": "code",
      "metadata": {
        "id": "5cpVkg4qtz0U",
        "colab_type": "code",
        "outputId": "0e89d6df-bd08-49cc-81b1-e1b4d867fb8d",
        "colab": {}
      },
      "source": [
        "train_auc = []\n",
        "cv_auc = []\n",
        "heatmap = []\n",
        "n_estimators = [50,100,150,200,300,500]\n",
        "max_depth = [5, 10,15,20]\n",
        "\n",
        "for i in n_estimators:\n",
        "    train_temp = []\n",
        "    cv_temp = []\n",
        "    for j in max_depth:\n",
        "        rf = RandomForestClassifier(n_estimators=i,max_depth=j,class_weight=\"balanced\")\n",
        "        rf.fit(set1,y_train)\n",
        "\n",
        "        y_train_pred = rf.predict(set1)  \n",
        "        y_cv_pred = rf.predict(set1_v)\n",
        "\n",
        "        # roc_auc_score(y_true, y_score) the 2nd parameter should be probability estimates of the positive class\n",
        "        # not the predicted outputs        \n",
        "        train_temp.append(roc_auc_score(y_train,y_train_pred))\n",
        "        cv_temp.append(roc_auc_score(y_val, y_cv_pred))\n",
        "    print(\"Completed = {}\".format(i))\n",
        "    train_auc.append(train_temp)\n",
        "    cv_auc.append(cv_temp)"
      ],
      "execution_count": 0,
      "outputs": [
        {
          "output_type": "stream",
          "text": [
            "Completed = 50\n",
            "Completed = 100\n",
            "Completed = 150\n",
            "Completed = 200\n",
            "Completed = 300\n",
            "Completed = 500\n"
          ],
          "name": "stdout"
        }
      ]
    },
    {
      "cell_type": "code",
      "metadata": {
        "id": "-XhaZYy4tz0Z",
        "colab_type": "code",
        "outputId": "8e193ce5-8479-4922-f6e8-ccb0c486a0fe",
        "colab": {}
      },
      "source": [
        "Plot_heatmap(train_auc,\"Train Heatmap\")"
      ],
      "execution_count": 0,
      "outputs": [
        {
          "output_type": "display_data",
          "data": {
            "image/png": "[encoded data removed]",
            "text/plain": [
              "<Figure size 432x288 with 2 Axes>"
            ]
          },
          "metadata": {
            "tags": [],
            "needs_background": "light"
          }
        }
      ]
    },
    {
      "cell_type": "code",
      "metadata": {
        "scrolled": true,
        "id": "i531Layutz0b",
        "colab_type": "code",
        "outputId": "e8e6b00d-91ad-42bd-d3d3-849751fc5b8f",
        "colab": {}
      },
      "source": [
        "Plot_heatmap(cv_auc,\"CV Heatmap\")"
      ],
      "execution_count": 0,
      "outputs": [
        {
          "output_type": "display_data",
          "data": {
            "image/png": "[encoded data removed]",
            "text/plain": [
              "<Figure size 432x288 with 2 Axes>"
            ]
          },
          "metadata": {
            "tags": [],
            "needs_background": "light"
          }
        }
      ]
    },
    {
      "cell_type": "markdown",
      "metadata": {
        "id": "HPZxNt97tz0d",
        "colab_type": "text"
      },
      "source": [
        "Best parameter found\n",
        "* n_estimators = 500\n",
        "* max_depth = 5"
      ]
    },
    {
      "cell_type": "markdown",
      "metadata": {
        "id": "Eg3v7Pprtz0e",
        "colab_type": "text"
      },
      "source": [
        "**AUC Plot**"
      ]
    },
    {
      "cell_type": "code",
      "metadata": {
        "scrolled": true,
        "id": "SmuiRduMtz0e",
        "colab_type": "code",
        "colab": {}
      },
      "source": [
        "# probabilities calcultion\n",
        "rf = RandomForestClassifier(n_estimators=500,max_depth=5,class_weight=\"balanced\")\n",
        "rf.fit(set1,y_train)\n",
        "y1_predict_prob = rf.predict_proba(set1_t)[:,1]\n",
        "y1_predict_prob_train = rf.predict_proba(set1)[:,1]\n",
        "\n",
        "# took referance from https://stackoverflow.com/questions/25009284/how-to-plot-roc-curve-in-python\n",
        "#fpr,tpr \n",
        "fpr,tpr,thre = roc_curve(y_test,y1_predict_prob)\n",
        "\n",
        "# am i doing it right here......?\n",
        "fpr_train,tpr_train,thre_train = roc_curve(y_train,y1_predict_prob_train)\n"
      ],
      "execution_count": 0,
      "outputs": []
    },
    {
      "cell_type": "code",
      "metadata": {
        "id": "5qvjq9cVtz0h",
        "colab_type": "code",
        "outputId": "85ca5bcc-c171-4357-f195-763a2f6d7515",
        "colab": {}
      },
      "source": [
        "# auc calculation for test data\n",
        "roc_auc1 = metrics.auc(fpr,tpr)\n",
        "\n",
        "# auc calculation for train data\n",
        "roc_auc_train1 = metrics.auc(fpr_train,tpr_train)\n",
        "\n",
        "# took referance from https://stackoverflow.com/questions/25009284/how-to-plot-roc-curve-in-python\n",
        "plt.plot(fpr,tpr,\"b--\",label = 'AUC test = %0.2f'%roc_auc1)\n",
        "plt.plot(fpr_train,tpr_train,\"y--\",label = 'AUC train = %0.2f'%roc_auc_train1)\n",
        "plt.title(\"AUC plot\")\n",
        "plt.xlabel(\"False positive rate\")\n",
        "plt.ylabel(\"True positive rate\")\n",
        "plt.plot([0, 1], [0, 1],'r--')\n",
        "plt.xlim([0,1])\n",
        "plt.ylim([0,1])\n",
        "plt.legend(loc = \"lower right\")\n",
        "plt.show()"
      ],
      "execution_count": 0,
      "outputs": [
        {
          "output_type": "display_data",
          "data": {
            "image/png": "[encoded data removed]",
            "text/plain": [
              "<Figure size 432x288 with 1 Axes>"
            ]
          },
          "metadata": {
            "tags": [],
            "needs_background": "light"
          }
        }
      ]
    },
    {
      "cell_type": "markdown",
      "metadata": {
        "id": "JAeHr-9_tz0j",
        "colab_type": "text"
      },
      "source": [
        "**Confusion Matrix**"
      ]
    },
    {
      "cell_type": "code",
      "metadata": {
        "id": "zFNsIJNPtz0k",
        "colab_type": "code",
        "outputId": "c9530cd5-8328-4e69-dd6a-61ffa15b9101",
        "colab": {}
      },
      "source": [
        "y_test_pred = rf.predict(set1_t)\n",
        "cm1 = confusion_matrix(y_test,y_test_pred)\n",
        "# https://seaborn.pydata.org/generated/seaborn.heatmap.html\n",
        "sns.heatmap(cm1, annot=True, fmt=\"d\")\n",
        "plt.ylabel(\"Actual Class\")\n",
        "plt.xlabel(\"Predicted Class\")\n",
        "plt.title(\"Confusion Matrix\")"
      ],
      "execution_count": 0,
      "outputs": [
        {
          "output_type": "execute_result",
          "data": {
            "text/plain": [
              "Text(0.5, 1.0, 'Confusion Matrix')"
            ]
          },
          "metadata": {
            "tags": []
          },
          "execution_count": 99
        },
        {
          "output_type": "display_data",
          "data": {
            "image/png": "[encoded data removed]",
            "text/plain": [
              "<Figure size 432x288 with 2 Axes>"
            ]
          },
          "metadata": {
            "tags": [],
            "needs_background": "light"
          }
        }
      ]
    },
    {
      "cell_type": "markdown",
      "metadata": {
        "colab_type": "text",
        "id": "A0vYCMw49nVy"
      },
      "source": [
        "### Set2 (TFIDF)"
      ]
    },
    {
      "cell_type": "code",
      "metadata": {
        "id": "xr7rLWeUtz0m",
        "colab_type": "code",
        "outputId": "eb4e8949-1aa1-4580-8709-1e24699be372",
        "colab": {}
      },
      "source": [
        "train_auc = []\n",
        "cv_auc = []\n",
        "heatmap = []\n",
        "n_estimators = [50,100,150,200,300,500]\n",
        "max_depth = [5, 10, 15,20]\n",
        "\n",
        "for i in n_estimators:\n",
        "    train_temp = []\n",
        "    cv_temp = []\n",
        "    for j in max_depth:\n",
        "        rf = RandomForestClassifier(n_estimators=i,max_depth=j,class_weight=\"balanced\")\n",
        "        rf.fit(set2,y_train)\n",
        "\n",
        "        y_train_pred = rf.predict(set2)  \n",
        "        y_cv_pred = rf.predict(set2_v)\n",
        "\n",
        "        # roc_auc_score(y_true, y_score) the 2nd parameter should be probability estimates of the positive class\n",
        "        # not the predicted outputs        \n",
        "        train_temp.append(roc_auc_score(y_train,y_train_pred))\n",
        "        cv_temp.append(roc_auc_score(y_val, y_cv_pred))\n",
        "    print(\"Completed = {}\".format(i))\n",
        "    train_auc.append(train_temp)\n",
        "    cv_auc.append(cv_temp)"
      ],
      "execution_count": 0,
      "outputs": [
        {
          "output_type": "stream",
          "text": [
            "Completed = 50\n",
            "Completed = 100\n",
            "Completed = 150\n",
            "Completed = 200\n",
            "Completed = 300\n",
            "Completed = 500\n"
          ],
          "name": "stdout"
        }
      ]
    },
    {
      "cell_type": "markdown",
      "metadata": {
        "id": "KDtIpWA5tz0p",
        "colab_type": "text"
      },
      "source": [
        "**Heatmap**"
      ]
    },
    {
      "cell_type": "code",
      "metadata": {
        "id": "nHxoeHtgtz0q",
        "colab_type": "code",
        "outputId": "081a81ac-d995-4ffe-9877-c33bfc568198",
        "colab": {}
      },
      "source": [
        "Plot_heatmap(train_auc,\"Train Heatmap\")"
      ],
      "execution_count": 0,
      "outputs": [
        {
          "output_type": "display_data",
          "data": {
            "image/png": "[encoded data removed]",
            "text/plain": [
              "<Figure size 432x288 with 2 Axes>"
            ]
          },
          "metadata": {
            "tags": [],
            "needs_background": "light"
          }
        }
      ]
    },
    {
      "cell_type": "code",
      "metadata": {
        "id": "EEUlX6Bmtz0r",
        "colab_type": "code",
        "outputId": "b3f13d91-02e1-4ec4-9801-92d7915ded8c",
        "colab": {}
      },
      "source": [
        "Plot_heatmap(cv_auc,\"CV Heatmap\")"
      ],
      "execution_count": 0,
      "outputs": [
        {
          "output_type": "display_data",
          "data": {
            "image/png": "[encoded data removed]",
            "text/plain": [
              "<Figure size 432x288 with 2 Axes>"
            ]
          },
          "metadata": {
            "tags": [],
            "needs_background": "light"
          }
        }
      ]
    },
    {
      "cell_type": "markdown",
      "metadata": {
        "id": "sK0eD_eYtz0u",
        "colab_type": "text"
      },
      "source": [
        "Best parameter found\n",
        "- n_estimators = 500\n",
        "- max_depth = 5"
      ]
    },
    {
      "cell_type": "markdown",
      "metadata": {
        "id": "TT66JheJtz0u",
        "colab_type": "text"
      },
      "source": [
        "**AUC Plot**"
      ]
    },
    {
      "cell_type": "code",
      "metadata": {
        "id": "_Qsge7Hmtz0v",
        "colab_type": "code",
        "colab": {}
      },
      "source": [
        "# probabilities calcultion\n",
        "rf = RandomForestClassifier(n_estimators=500,max_depth=5,class_weight=\"balanced\")\n",
        "rf.fit(set2,y_train)\n",
        "\n",
        "# probabilities calcultion\n",
        "y2_predict_prob = rf.predict_proba(set2_t)[:,1]\n",
        "y2_predict_prob_train = rf.predict_proba(set2)[:,1]\n",
        "\n",
        "# took referance from https://stackoverflow.com/questions/25009284/how-to-plot-roc-curve-in-python\n",
        "#fpr,tpr \n",
        "fpr,tpr,thre = roc_curve(y_test,y2_predict_prob)\n",
        "\n",
        "# am i doing it right here......?\n",
        "fpr_train,tpr_train,thre_train = roc_curve(y_train,y2_predict_prob_train)\n"
      ],
      "execution_count": 0,
      "outputs": []
    },
    {
      "cell_type": "code",
      "metadata": {
        "id": "cRkx7tW1tz0w",
        "colab_type": "code",
        "outputId": "f49c6bb6-a605-4e99-ccc4-b87255710e3b",
        "colab": {}
      },
      "source": [
        "# auc calculation for test data\n",
        "roc_auc2 = metrics.auc(fpr,tpr)\n",
        "\n",
        "# auc calculation for train data\n",
        "roc_auc_train2 = metrics.auc(fpr_train,tpr_train)\n",
        "\n",
        "# took referance from https://stackoverflow.com/questions/25009284/how-to-plot-roc-curve-in-python\n",
        "plt.plot(fpr,tpr,\"b--\",label = 'AUC test = %0.2f'%roc_auc2)\n",
        "plt.plot(fpr_train,tpr_train,\"y--\",label = 'AUC train = %0.2f'%roc_auc_train2)\n",
        "plt.title(\"AUC plot\")\n",
        "plt.xlabel(\"False positive rate\")\n",
        "plt.ylabel(\"True positive rate\")\n",
        "plt.plot([0, 1], [0, 1],'r--')\n",
        "plt.xlim([0,1])\n",
        "plt.ylim([0,1])\n",
        "plt.legend(loc = \"lower right\")\n",
        "plt.show()"
      ],
      "execution_count": 0,
      "outputs": [
        {
          "output_type": "display_data",
          "data": {
            "image/png": "[encoded data removed]",
            "text/plain": [
              "<Figure size 432x288 with 1 Axes>"
            ]
          },
          "metadata": {
            "tags": [],
            "needs_background": "light"
          }
        }
      ]
    },
    {
      "cell_type": "markdown",
      "metadata": {
        "colab_type": "text",
        "id": "lJ3Lv7J2-k2l"
      },
      "source": [
        "**Confusion matrix**"
      ]
    },
    {
      "cell_type": "code",
      "metadata": {
        "colab_type": "code",
        "id": "iPT8TfRI-mPC",
        "outputId": "778c796f-f903-4e27-f56e-cca3f1b61da6",
        "colab": {
          "base_uri": "https://localhost:8080/",
          "height": 282
        }
      },
      "source": [
        "y2_predict = rf.predict(set2_t)\n",
        "cm2 = confusion_matrix(y_test,y2_predict)\n",
        "# https://seaborn.pydata.org/generated/seaborn.heatmap.html\n",
        "sns.heatmap(cm2, annot=True, fmt=\"d\")\n",
        "plt.ylabel(\"Actual Class\")\n",
        "plt.xlabel(\"Predicted Class\")\n",
        "plt.title(\"Confusion Matrix\")"
      ],
      "execution_count": 0,
      "outputs": [
        {
          "output_type": "execute_result",
          "data": {
            "text/plain": [
              "Text(0.5, 1.0, 'Confusion Matrix')"
            ]
          },
          "metadata": {
            "tags": []
          },
          "execution_count": 111
        },
        {
          "output_type": "display_data",
          "data": {
            "image/png": "[encoded data removed]",
            "text/plain": [
              "<Figure size 432x288 with 2 Axes>"
            ]
          },
          "metadata": {
            "tags": [],
            "needs_background": "light"
          }
        }
      ]
    },
    {
      "cell_type": "markdown",
      "metadata": {
        "colab_type": "text",
        "id": "rkfPRn3RAKZ3"
      },
      "source": [
        "### Set3 (Avg W2V)"
      ]
    },
    {
      "cell_type": "code",
      "metadata": {
        "colab_type": "code",
        "id": "hwXt1u3__AkW",
        "outputId": "e033f12e-f07c-4431-aebb-aadcc70fd200",
        "scrolled": true,
        "colab": {
          "base_uri": "https://localhost:8080/",
          "height": 105
        }
      },
      "source": [
        "train_auc = []\n",
        "cv_auc = []\n",
        "heatmap = []\n",
        "n_estimators = [200,300,500,700]\n",
        "max_depth = [5, 10, 15,20]\n",
        "\n",
        "for i in n_estimators:\n",
        "    train_temp = []\n",
        "    cv_temp = []\n",
        "    for j in max_depth:\n",
        "        rf = RandomForestClassifier(n_estimators=i,max_depth=j,class_weight=\"balanced\")\n",
        "        rf.fit(set3,y_train)\n",
        "\n",
        "        y_train_pred = rf.predict(set3)  \n",
        "        y_cv_pred = rf.predict(set3_v)\n",
        "\n",
        "        # roc_auc_score(y_true, y_score) the 2nd parameter should be probability estimates of the positive class\n",
        "        # not the predicted outputs        \n",
        "        train_temp.append(roc_auc_score(y_train,y_train_pred))\n",
        "        cv_temp.append(roc_auc_score(y_val, y_cv_pred))\n",
        "    print(\"Completed = {}\".format(i))\n",
        "    train_auc.append(train_temp)\n",
        "    cv_auc.append(cv_temp)"
      ],
      "execution_count": 0,
      "outputs": [
        {
          "output_type": "stream",
          "text": [
            "Completed = 200\n",
            "Completed = 300\n",
            "Completed = 500\n",
            "Completed = 700\n"
          ],
          "name": "stdout"
        }
      ]
    },
    {
      "cell_type": "markdown",
      "metadata": {
        "id": "JIKbgDJetz03",
        "colab_type": "text"
      },
      "source": [
        "**Heatmap**"
      ]
    },
    {
      "cell_type": "code",
      "metadata": {
        "colab_type": "code",
        "id": "iyPWACmWAlm-",
        "outputId": "6edcb3f8-a510-45f0-e6de-00ab5e30ec2d",
        "colab": {
          "base_uri": "https://localhost:8080/",
          "height": 298
        }
      },
      "source": [
        "Plot_heatmap(train_auc,\"Train Heatmap\")"
      ],
      "execution_count": 0,
      "outputs": [
        {
          "output_type": "display_data",
          "data": {
            "image/png": "[encoded data removed]",
            "text/plain": [
              "<Figure size 432x288 with 2 Axes>"
            ]
          },
          "metadata": {
            "tags": [],
            "needs_background": "light"
          }
        }
      ]
    },
    {
      "cell_type": "code",
      "metadata": {
        "id": "2YRWiGhHtz05",
        "colab_type": "code",
        "outputId": "077f9f0c-f592-4bea-a661-af0beaceeeaf",
        "colab": {}
      },
      "source": [
        "Plot_heatmap(cv_auc,\"CV Heatmap\")"
      ],
      "execution_count": 0,
      "outputs": [
        {
          "output_type": "display_data",
          "data": {
            "image/png": "[encoded data removed]",
            "text/plain": [
              "<Figure size 432x288 with 2 Axes>"
            ]
          },
          "metadata": {
            "tags": [],
            "needs_background": "light"
          }
        }
      ]
    },
    {
      "cell_type": "markdown",
      "metadata": {
        "id": "xINwJpyZtz07",
        "colab_type": "text"
      },
      "source": [
        "Best Parameter found\n",
        "- n_estimator = 700\n",
        "- max_depth = 5"
      ]
    },
    {
      "cell_type": "markdown",
      "metadata": {
        "id": "FIQm0b1Jtz08",
        "colab_type": "text"
      },
      "source": [
        "**AUC Plot**"
      ]
    },
    {
      "cell_type": "code",
      "metadata": {
        "colab_type": "code",
        "id": "G3duKBsGA1RE",
        "colab": {}
      },
      "source": [
        "# probabilities calcultion\n",
        "rf = RandomForestClassifier(n_estimators=700,max_depth=5,class_weight=\"balanced\")\n",
        "rf.fit(set3,y_train)\n",
        "\n",
        "# probabilities calcultion\n",
        "y2_predict_prob = rf.predict_proba(set3_t)[:,1]\n",
        "y2_predict_prob_train = rf.predict_proba(set3)[:,1]\n",
        "\n",
        "# took referance from https://stackoverflow.com/questions/25009284/how-to-plot-roc-curve-in-python\n",
        "#fpr,tpr \n",
        "fpr,tpr,thre = roc_curve(y_test,y2_predict_prob)\n",
        "\n",
        "# am i doing it right here......?\n",
        "fpr_train,tpr_train,thre_train = roc_curve(y_train,y2_predict_prob_train)\n"
      ],
      "execution_count": 0,
      "outputs": []
    },
    {
      "cell_type": "code",
      "metadata": {
        "colab_type": "code",
        "id": "usYxvKZKA5NW",
        "outputId": "be841d92-0f6c-44e8-83f8-6cfec8e2d8d2",
        "colab": {
          "base_uri": "https://localhost:8080/",
          "height": 294
        }
      },
      "source": [
        "# auc calculation for test data\n",
        "roc_auc3 = metrics.auc(fpr,tpr)\n",
        "\n",
        "# auc calculation for train data\n",
        "roc_auc_train3 = metrics.auc(fpr_train,tpr_train)\n",
        "\n",
        "# took referance from https://stackoverflow.com/questions/25009284/how-to-plot-roc-curve-in-python\n",
        "plt.plot(fpr,tpr,\"b--\",label = 'AUC test = %0.2f'%roc_auc3)\n",
        "plt.plot(fpr_train,tpr_train,\"y--\",label = 'AUC train = %0.2f'%roc_auc_train3)\n",
        "plt.title(\"AUC plot\")\n",
        "plt.xlabel(\"False positive rate\")\n",
        "plt.ylabel(\"True positive rate\")\n",
        "plt.plot([0, 1], [0, 1],'r--')\n",
        "plt.xlim([0,1])\n",
        "plt.ylim([0,1])\n",
        "plt.legend(loc = \"lower right\")\n",
        "plt.show()"
      ],
      "execution_count": 0,
      "outputs": [
        {
          "output_type": "display_data",
          "data": {
            "image/png": "[encoded data removed]",
            "text/plain": [
              "<Figure size 432x288 with 1 Axes>"
            ]
          },
          "metadata": {
            "tags": [],
            "needs_background": "light"
          }
        }
      ]
    },
    {
      "cell_type": "markdown",
      "metadata": {
        "colab_type": "text",
        "id": "_ROQBW5dAwlp"
      },
      "source": [
        "**confusion matrix**"
      ]
    },
    {
      "cell_type": "code",
      "metadata": {
        "colab_type": "code",
        "id": "bjE_ImNyAx5t",
        "outputId": "fe0bdf35-8d9d-4964-db73-0d7515dff0c4",
        "colab": {
          "base_uri": "https://localhost:8080/",
          "height": 282
        }
      },
      "source": [
        "y3_predict = rf.predict(set3_t)\n",
        "cm3 = confusion_matrix(y_test,y3_predict)\n",
        "# https://seaborn.pydata.org/generated/seaborn.heatmap.html\n",
        "sns.heatmap(cm3, annot=True, fmt=\"d\")\n",
        "plt.ylabel(\"Actual Class\")\n",
        "plt.xlabel(\"Predicted Class\")\n",
        "plt.title(\"Confusion Matrix\")"
      ],
      "execution_count": 0,
      "outputs": [
        {
          "output_type": "execute_result",
          "data": {
            "text/plain": [
              "Text(0.5, 1.0, 'Confusion Matrix')"
            ]
          },
          "metadata": {
            "tags": []
          },
          "execution_count": 118
        },
        {
          "output_type": "display_data",
          "data": {
            "image/png": "[encoded data removed]",
            "text/plain": [
              "<Figure size 432x288 with 2 Axes>"
            ]
          },
          "metadata": {
            "tags": [],
            "needs_background": "light"
          }
        }
      ]
    },
    {
      "cell_type": "markdown",
      "metadata": {
        "id": "l0AnCe3Ttz1F",
        "colab_type": "text"
      },
      "source": [
        "### Set4 (TFIDF Avg_w2v)"
      ]
    },
    {
      "cell_type": "code",
      "metadata": {
        "id": "FHwOALO1tz1F",
        "colab_type": "code",
        "outputId": "a8b5db78-36bd-4f91-bcbb-b57c84c30548",
        "colab": {}
      },
      "source": [
        "train_auc = []\n",
        "cv_auc = []\n",
        "heatmap = []\n",
        "n_estimators = [100,200,300,500]\n",
        "max_depth = [5, 10, 15,20]\n",
        "\n",
        "for i in n_estimators:\n",
        "    train_temp = []\n",
        "    cv_temp = []\n",
        "    for j in max_depth:\n",
        "        rf = RandomForestClassifier(n_estimators=i,max_depth=j,class_weight=\"balanced\")\n",
        "        rf.fit(set4,y_train)\n",
        "\n",
        "        y_train_pred = rf.predict(set4)  \n",
        "        y_cv_pred = rf.predict(set4_v)\n",
        "\n",
        "        # roc_auc_score(y_true, y_score) the 2nd parameter should be probability estimates of the positive class\n",
        "        # not the predicted outputs        \n",
        "        train_temp.append(roc_auc_score(y_train,y_train_pred))\n",
        "        cv_temp.append(roc_auc_score(y_val, y_cv_pred))\n",
        "    print(\"Completed = {}\".format(i))\n",
        "    train_auc.append(train_temp)\n",
        "    cv_auc.append(cv_temp)"
      ],
      "execution_count": 0,
      "outputs": [
        {
          "output_type": "stream",
          "text": [
            "Completed = 100\n",
            "Completed = 150\n",
            "Completed = 200\n",
            "Completed = 300\n",
            "Completed = 500\n"
          ],
          "name": "stdout"
        }
      ]
    },
    {
      "cell_type": "markdown",
      "metadata": {
        "id": "TiHr_pfItz1I",
        "colab_type": "text"
      },
      "source": [
        "**Heatmap**"
      ]
    },
    {
      "cell_type": "code",
      "metadata": {
        "id": "pKBThCL2tz1J",
        "colab_type": "code",
        "outputId": "d0cb5025-44b0-4021-9d89-814b9bc726f0",
        "colab": {}
      },
      "source": [
        "Plot_heatmap(train_auc,\"Train Heatmap\")"
      ],
      "execution_count": 0,
      "outputs": [
        {
          "output_type": "display_data",
          "data": {
            "image/png": "[encoded data removed]",
            "text/plain": [
              "<Figure size 432x288 with 2 Axes>"
            ]
          },
          "metadata": {
            "tags": [],
            "needs_background": "light"
          }
        }
      ]
    },
    {
      "cell_type": "code",
      "metadata": {
        "id": "eYPW__xjtz1M",
        "colab_type": "code",
        "outputId": "6a5fd0c6-1d8e-46ed-ac38-0b31c695fd4c",
        "colab": {}
      },
      "source": [
        "Plot_heatmap(cv_auc,\"CV Heatmap\")"
      ],
      "execution_count": 0,
      "outputs": [
        {
          "output_type": "display_data",
          "data": {
            "image/png": "[encoded data removed]",
            "text/plain": [
              "<Figure size 432x288 with 2 Axes>"
            ]
          },
          "metadata": {
            "tags": [],
            "needs_background": "light"
          }
        }
      ]
    },
    {
      "cell_type": "markdown",
      "metadata": {
        "id": "pD5xDL0Htz1O",
        "colab_type": "text"
      },
      "source": [
        "**AUC Plot**"
      ]
    },
    {
      "cell_type": "code",
      "metadata": {
        "id": "Oa7dIw74tz1O",
        "colab_type": "code",
        "colab": {}
      },
      "source": [
        "# probabilities calcultion\n",
        "rf = RandomForestClassifier(n_estimators=500,max_depth=5,class_weight=\"balanced\")\n",
        "rf.fit(set4,y_train)\n",
        "\n",
        "# probabilities calcultion\n",
        "y2_predict_prob = rf.predict_proba(set4_t)[:,1]\n",
        "y2_predict_prob_train = rf.predict_proba(set4)[:,1]\n",
        "\n",
        "# took referance from https://stackoverflow.com/questions/25009284/how-to-plot-roc-curve-in-python\n",
        "#fpr,tpr \n",
        "fpr,tpr,thre = roc_curve(y_test,y2_predict_prob)\n",
        "\n",
        "# am i doing it right here......?\n",
        "fpr_train,tpr_train,thre_train = roc_curve(y_train,y2_predict_prob_train)\n"
      ],
      "execution_count": 0,
      "outputs": []
    },
    {
      "cell_type": "code",
      "metadata": {
        "id": "9Z9RhEUFtz1S",
        "colab_type": "code",
        "outputId": "c060ae07-aa6c-444e-b6b0-26b25e200e2d",
        "colab": {}
      },
      "source": [
        "# auc calculation for test data\n",
        "roc_auc4 = metrics.auc(fpr,tpr)\n",
        "\n",
        "# auc calculation for train data\n",
        "roc_auc_train4 = metrics.auc(fpr_train,tpr_train)\n",
        "\n",
        "# took referance from https://stackoverflow.com/questions/25009284/how-to-plot-roc-curve-in-python\n",
        "plt.plot(fpr,tpr,\"b--\",label = 'AUC test = %0.2f'%roc_auc4)\n",
        "plt.plot(fpr_train,tpr_train,\"y--\",label = 'AUC train = %0.2f'%roc_auc_train4)\n",
        "plt.title(\"AUC plot\")\n",
        "plt.xlabel(\"False positive rate\")\n",
        "plt.ylabel(\"True positive rate\")\n",
        "plt.plot([0, 1], [0, 1],'r--')\n",
        "plt.xlim([0,1])\n",
        "plt.ylim([0,1])\n",
        "plt.legend(loc = \"lower right\")\n",
        "plt.show()"
      ],
      "execution_count": 0,
      "outputs": [
        {
          "output_type": "display_data",
          "data": {
            "image/png": "[encoded data removed]",
            "text/plain": [
              "<Figure size 432x288 with 1 Axes>"
            ]
          },
          "metadata": {
            "tags": [],
            "needs_background": "light"
          }
        }
      ]
    },
    {
      "cell_type": "markdown",
      "metadata": {
        "id": "2gJVOZU9tz1T",
        "colab_type": "text"
      },
      "source": [
        "**Confusion Matrix**"
      ]
    },
    {
      "cell_type": "code",
      "metadata": {
        "id": "TVhaORg9tz1U",
        "colab_type": "code",
        "outputId": "b27438c4-9ca3-49d8-c2b0-e8bb5cee8470",
        "colab": {}
      },
      "source": [
        "y4_predict = rf.predict(set4_t)\n",
        "cm1 = confusion_matrix(y_test,y4_predict)\n",
        "# https://seaborn.pydata.org/generated/seaborn.heatmap.html\n",
        "sns.heatmap(cm1, annot=True, fmt=\"d\")\n",
        "plt.ylabel(\"Actual Class\")\n",
        "plt.xlabel(\"Predicted Class\")\n",
        "plt.title(\"Confusion Matrix\")"
      ],
      "execution_count": 0,
      "outputs": [
        {
          "output_type": "execute_result",
          "data": {
            "text/plain": [
              "Text(0.5, 1.0, 'Confusion Matrix')"
            ]
          },
          "metadata": {
            "tags": []
          },
          "execution_count": 124
        },
        {
          "output_type": "display_data",
          "data": {
            "image/png": "[encoded data removed]",
            "text/plain": [
              "<Figure size 432x288 with 2 Axes>"
            ]
          },
          "metadata": {
            "tags": [],
            "needs_background": "light"
          }
        }
      ]
    },
    {
      "cell_type": "markdown",
      "metadata": {
        "id": "PCfUQiLvtz1W",
        "colab_type": "text"
      },
      "source": [
        "### Observation\n",
        "=======================\n",
        "\n",
        "1. TFIDF found to be best Vectorizer\n",
        "2. Best **train AUC of 0.72** and **test auc of 0.83** was found in case of TFIDF\n",
        "3. Overfitting in model found for higher values of max_depth"
      ]
    },
    {
      "cell_type": "markdown",
      "metadata": {
        "id": "Z6KxldeQtz1W",
        "colab_type": "text"
      },
      "source": [
        "### Summary of RF"
      ]
    },
    {
      "cell_type": "code",
      "metadata": {
        "id": "F0_C2p_ftz1W",
        "colab_type": "code",
        "colab": {}
      },
      "source": [
        "from prettytable import PrettyTable\n",
        "summary = PrettyTable()"
      ],
      "execution_count": 0,
      "outputs": []
    },
    {
      "cell_type": "code",
      "metadata": {
        "id": "KUd_AACytz1X",
        "colab_type": "code",
        "colab": {}
      },
      "source": [
        "summary.field_names = [\"Set\", \"Vectorizer\", \"Model\", \"Hyperparameter\",\"Test\",\"Train\"]"
      ],
      "execution_count": 0,
      "outputs": []
    },
    {
      "cell_type": "code",
      "metadata": {
        "id": "ZlM-UYD7tz1Z",
        "colab_type": "code",
        "outputId": "8d4d28b7-b7ae-40c1-d643-1de9807f1483",
        "colab": {}
      },
      "source": [
        "summary.add_row([\"set1\",\"BOW\",\"RF\",\"max_depth': 5, 'n_estimators': 500\",\"%0.3f\"%roc_auc1,\"%0.3f\"%roc_auc_train1])\n",
        "summary.add_row([\"set2\",\"TFIDF\",\"RF\",\"'max_depth': 5, 'n_estimators': 500\",\"%0.3f\"%roc_auc2,\"%0.3f\"%roc_auc_train2])\n",
        "summary.add_row([\"set3\",\"Avg-W2v\",\"RF\",\"'max_depth': 5, 'n_estimators': 500\",\"%0.3f\"%roc_auc3,\"%0.3f\"%roc_auc_train3])\n",
        "summary.add_row([\"set4\",\"TFIDF W2V\",\"RF\",\"'max_depth': 5, 'n_estimators': 500\",\"%0.3f\"%roc_auc4,\"%0.3f\"%roc_auc_train4])\n",
        "\n",
        "\n",
        "print(summary)"
      ],
      "execution_count": 0,
      "outputs": [
        {
          "output_type": "stream",
          "text": [
            "+------+------------+-------+-------------------------------------+-------+-------+\n",
            "| Set  | Vectorizer | Model |            Hyperparameter           |  Test | Train |\n",
            "+------+------------+-------+-------------------------------------+-------+-------+\n",
            "| set1 |    BOW     |   RF  |  max_depth': 5, 'n_estimators': 500 | 0.728 | 0.816 |\n",
            "| set2 |   TFIDF    |   RF  | 'max_depth': 5, 'n_estimators': 500 | 0.732 | 0.827 |\n",
            "| set3 |  Avg-W2v   |   RF  | 'max_depth': 5, 'n_estimators': 500 | 0.733 | 0.838 |\n",
            "| set4 | TFIDF W2V  |   RF  | 'max_depth': 5, 'n_estimators': 500 | 0.726 | 0.820 |\n",
            "+------+------------+-------+-------------------------------------+-------+-------+\n"
          ],
          "name": "stdout"
        }
      ]
    },
    {
      "cell_type": "markdown",
      "metadata": {
        "id": "pPem-IcFtz1a",
        "colab_type": "text"
      },
      "source": [
        "## GBDT"
      ]
    },
    {
      "cell_type": "markdown",
      "metadata": {
        "id": "RDsN1RX2tz1a",
        "colab_type": "text"
      },
      "source": [
        "- Tuned over wide range of below parameters of XGBOOST. \n",
        "   - max_depth = [4,5,10,1215,20,30,50]\n",
        "   - min_child_weight = [2,4,6]\n",
        "   - n_estimators = [100,200,500]\n",
        "   \n",
        "   \n",
        " - Showing results for short range"
      ]
    },
    {
      "cell_type": "code",
      "metadata": {
        "id": "-dwMq5mFxBop",
        "colab_type": "code",
        "colab": {}
      },
      "source": [
        "def Plot_heatmap(mean_score,name):\n",
        "    \"\"\"\n",
        "    This function plots heatmap.\n",
        "    \"\"\"\n",
        "    df = pd.DataFrame(mean_score,index = max_depth,columns = min_child_weight)\n",
        "    sns.heatmap(df,annot = True)\n",
        "    plt.ylabel(\"max_depth\")\n",
        "    plt.xlabel(\"min_child_weight\")\n",
        "    plt.title(name)\n",
        "    plt.show()\n",
        "    "
      ],
      "execution_count": 0,
      "outputs": []
    },
    {
      "cell_type": "markdown",
      "metadata": {
        "id": "H9rqIEaVtz1c",
        "colab_type": "text"
      },
      "source": [
        "### Set1 BOW"
      ]
    },
    {
      "cell_type": "code",
      "metadata": {
        "id": "XM75Fwontz1d",
        "colab_type": "code",
        "outputId": "4f2a0ae7-1f07-4d89-a6f4-bda0e6b32922",
        "colab": {
          "base_uri": "https://localhost:8080/",
          "height": 85
        }
      },
      "source": [
        "train_auc = []\n",
        "cv_auc = []\n",
        "\n",
        "max_depth = [5,10,12,15]\n",
        "min_child_weight = [3,4,5]\n",
        "\n",
        "for i in max_depth:\n",
        "    train_temp = []\n",
        "    cv_temp = []\n",
        "    for j in min_child_weight:\n",
        "        xgb = XGBClassifier(learning_rate=0.05,max_depth=i,min_child_weight=j,n_estimators=100)\n",
        "        xgb.fit(set1,y_train)\n",
        "\n",
        "        y_train_pred = xgb.predict(set1)  \n",
        "        y_cv_pred = xgb.predict(set1_v)\n",
        "\n",
        "  \n",
        "        train_temp.append(roc_auc_score(y_train,y_train_pred))\n",
        "        cv_temp.append(roc_auc_score(y_val, y_cv_pred))\n",
        "    print(\"Completed = {}\".format(i))\n",
        "    train_auc.append(train_temp)\n",
        "    cv_auc.append(cv_temp)"
      ],
      "execution_count": 0,
      "outputs": [
        {
          "output_type": "stream",
          "text": [
            "Completed = 5\n",
            "Completed = 10\n",
            "Completed = 12\n",
            "Completed = 15\n"
          ],
          "name": "stdout"
        }
      ]
    },
    {
      "cell_type": "markdown",
      "metadata": {
        "id": "XgZFIaugtz1e",
        "colab_type": "text"
      },
      "source": [
        "**Heatmap**"
      ]
    },
    {
      "cell_type": "code",
      "metadata": {
        "id": "3KbIKCNptz1e",
        "colab_type": "code",
        "outputId": "3368c365-7ebb-4709-d942-6c0efc322095",
        "colab": {
          "base_uri": "https://localhost:8080/",
          "height": 296
        }
      },
      "source": [
        "Plot_heatmap(train_auc,\"Train Heatmap\")"
      ],
      "execution_count": 0,
      "outputs": [
        {
          "output_type": "display_data",
          "data": {
            "image/png": "[encoded data removed]",
            "text/plain": [
              "<Figure size 432x288 with 2 Axes>"
            ]
          },
          "metadata": {
            "tags": []
          }
        }
      ]
    },
    {
      "cell_type": "code",
      "metadata": {
        "id": "MBMF8RjAtz1g",
        "colab_type": "code",
        "outputId": "f63ee8b5-eb6c-4d38-ffc8-c3f56595382e",
        "colab": {
          "base_uri": "https://localhost:8080/",
          "height": 296
        }
      },
      "source": [
        "Plot_heatmap(cv_auc,\"CV Heatmap\")"
      ],
      "execution_count": 0,
      "outputs": [
        {
          "output_type": "display_data",
          "data": {
            "image/png": "[encoded data removed]",
            "text/plain": [
              "<Figure size 432x288 with 2 Axes>"
            ]
          },
          "metadata": {
            "tags": []
          }
        }
      ]
    },
    {
      "cell_type": "markdown",
      "metadata": {
        "id": "EjPxLsKKhpDW",
        "colab_type": "text"
      },
      "source": [
        "Best paramter found:\n",
        "- learning_rate = 0.07\n",
        "- max_depth = 4\n",
        "- min_child_weight = 4\n",
        "- n_estimators = 200"
      ]
    },
    {
      "cell_type": "markdown",
      "metadata": {
        "id": "kNOq8mJbtz1h",
        "colab_type": "text"
      },
      "source": [
        "**AUC Plot**"
      ]
    },
    {
      "cell_type": "code",
      "metadata": {
        "id": "aCtVDHs-tz1h",
        "colab_type": "code",
        "colab": {}
      },
      "source": [
        "# probabilities calcultion\n",
        "xgb = XGBClassifier(learning_rate=0.07,max_depth=4,min_child_weight=4,n_estimators=200)\n",
        "xgb.fit(set1,y_train)\n",
        "y1_predict_prob = xgb.predict_proba(set1_t)[:,1]\n",
        "y1_predict_prob_train = xgb.predict_proba(set1)[:,1]\n",
        "\n",
        "# took referance from https://stackoverflow.com/questions/25009284/how-to-plot-roc-curve-in-python\n",
        "#fpr,tpr \n",
        "fpr,tpr,thre = roc_curve(y_test,y1_predict_prob)\n",
        "\n",
        "# am i doing it right here......?\n",
        "fpr_train,tpr_train,thre_train = roc_curve(y_train,y1_predict_prob_train)\n"
      ],
      "execution_count": 0,
      "outputs": []
    },
    {
      "cell_type": "code",
      "metadata": {
        "id": "WEHmiHq7tz1i",
        "colab_type": "code",
        "outputId": "457b20b4-a05c-4855-e8fd-d82e998f9954",
        "colab": {
          "base_uri": "https://localhost:8080/",
          "height": 295
        }
      },
      "source": [
        "# auc calculation for test data\n",
        "roc_auc1 = metrics.auc(fpr,tpr)\n",
        "\n",
        "# auc calculation for train data\n",
        "roc_auc_train1 = metrics.auc(fpr_train,tpr_train)\n",
        "\n",
        "# took referance from https://stackoverflow.com/questions/25009284/how-to-plot-roc-curve-in-python\n",
        "plt.plot(fpr,tpr,\"b--\",label = 'AUC test = %0.2f'%roc_auc1)\n",
        "plt.plot(fpr_train,tpr_train,\"y--\",label = 'AUC train = %0.2f'%roc_auc_train1)\n",
        "plt.title(\"AUC plot\")\n",
        "plt.xlabel(\"False positive rate\")\n",
        "plt.ylabel(\"True positive rate\")\n",
        "plt.plot([0, 1], [0, 1],'r--')\n",
        "plt.xlim([0,1])\n",
        "plt.ylim([0,1])\n",
        "plt.legend(loc = \"lower right\")\n",
        "plt.show()\n"
      ],
      "execution_count": 0,
      "outputs": [
        {
          "output_type": "display_data",
          "data": {
            "image/png": "[encoded data removed]",
            "text/plain": [
              "<Figure size 432x288 with 1 Axes>"
            ]
          },
          "metadata": {
            "tags": []
          }
        }
      ]
    },
    {
      "cell_type": "markdown",
      "metadata": {
        "id": "x0PbNbf_tz1j",
        "colab_type": "text"
      },
      "source": [
        "**Confusion Matrix**"
      ]
    },
    {
      "cell_type": "code",
      "metadata": {
        "scrolled": false,
        "id": "EV234Lu9tz1j",
        "colab_type": "code",
        "outputId": "483404f5-5bab-47aa-ce2c-808ec526df67",
        "colab": {
          "base_uri": "https://localhost:8080/",
          "height": 312
        }
      },
      "source": [
        "y1_predict = xgb.predict(set1_t)\n",
        "cm1 = confusion_matrix(y_test,y1_predict)\n",
        "# https://seaborn.pydata.org/generated/seaborn.heatmap.html\n",
        "sns.heatmap(cm1, annot=True, fmt=\"d\")\n",
        "plt.ylabel(\"Actual Class\")\n",
        "plt.xlabel(\"Predicted Class\")\n",
        "plt.title(\"Confusion Matrix\")"
      ],
      "execution_count": 0,
      "outputs": [
        {
          "output_type": "execute_result",
          "data": {
            "text/plain": [
              "Text(0.5, 1.0, 'Confusion Matrix')"
            ]
          },
          "metadata": {
            "tags": []
          },
          "execution_count": 97
        },
        {
          "output_type": "display_data",
          "data": {
            "image/png": "[encoded data removed]",
            "text/plain": [
              "<Figure size 432x288 with 2 Axes>"
            ]
          },
          "metadata": {
            "tags": []
          }
        }
      ]
    },
    {
      "cell_type": "markdown",
      "metadata": {
        "id": "gmA-R1tYtz1k",
        "colab_type": "text"
      },
      "source": [
        "### Set2 (TFIDF)"
      ]
    },
    {
      "cell_type": "code",
      "metadata": {
        "id": "-YZ3kArUtz1k",
        "colab_type": "code",
        "outputId": "95c1eb28-e52e-4ca0-80db-0e2df708a285",
        "colab": {
          "base_uri": "https://localhost:8080/",
          "height": 85
        }
      },
      "source": [
        "train_auc = []\n",
        "cv_auc = []\n",
        "\n",
        "max_depth = [4,5,10,12]\n",
        "min_child_weight = [3,4,5]\n",
        "\n",
        "for i in max_depth:\n",
        "    train_temp = []\n",
        "    cv_temp = []\n",
        "    for j in min_child_weight:\n",
        "        xgb = XGBClassifier(learning_rate=0.07,max_depth=i,min_child_weight=j,n_estimators=100)\n",
        "        xgb.fit(set2,y_train)\n",
        "\n",
        "        y_train_pred = xgb.predict(set2)  \n",
        "        y_cv_pred = xgb.predict(set2_v)\n",
        "\n",
        "        # roc_auc_score(y_true, y_score) the 2nd parameter should be probability estimates of the positive class\n",
        "        # not the predicted outputs        \n",
        "        train_temp.append(roc_auc_score(y_train,y_train_pred))\n",
        "        cv_temp.append(roc_auc_score(y_val, y_cv_pred))\n",
        "    print(\"Completed = {}\".format(i))\n",
        "    train_auc.append(train_temp)\n",
        "    cv_auc.append(cv_temp)"
      ],
      "execution_count": 0,
      "outputs": [
        {
          "output_type": "stream",
          "text": [
            "Completed = 4\n",
            "Completed = 5\n",
            "Completed = 10\n",
            "Completed = 12\n"
          ],
          "name": "stdout"
        }
      ]
    },
    {
      "cell_type": "markdown",
      "metadata": {
        "id": "1FGnBrGKtz1l",
        "colab_type": "text"
      },
      "source": [
        "**Heatmap**"
      ]
    },
    {
      "cell_type": "code",
      "metadata": {
        "id": "I7RZUY-dtz1l",
        "colab_type": "code",
        "outputId": "4832ad9a-2e64-43fb-d395-ca592324f69f",
        "colab": {
          "base_uri": "https://localhost:8080/",
          "height": 296
        }
      },
      "source": [
        "Plot_heatmap(train_auc,\"Train Heatmap\")"
      ],
      "execution_count": 0,
      "outputs": [
        {
          "output_type": "display_data",
          "data": {
            "image/png": "[encoded data removed]",
            "text/plain": [
              "<Figure size 432x288 with 2 Axes>"
            ]
          },
          "metadata": {
            "tags": []
          }
        }
      ]
    },
    {
      "cell_type": "code",
      "metadata": {
        "id": "37SAo7hdtz1m",
        "colab_type": "code",
        "outputId": "da531002-fb2b-40c2-bb09-2474b072fda2",
        "colab": {
          "base_uri": "https://localhost:8080/",
          "height": 296
        }
      },
      "source": [
        "Plot_heatmap(cv_auc,\"CV Heatmap\")"
      ],
      "execution_count": 0,
      "outputs": [
        {
          "output_type": "display_data",
          "data": {
            "image/png": "[encoded data removed]",
            "text/plain": [
              "<Figure size 432x288 with 2 Axes>"
            ]
          },
          "metadata": {
            "tags": []
          }
        }
      ]
    },
    {
      "cell_type": "markdown",
      "metadata": {
        "id": "zvLURU84h-B-",
        "colab_type": "text"
      },
      "source": [
        "Best paramter found:\n",
        "- learning_rate = 0.07\n",
        "- max_depth = 4\n",
        "- min_child_weight = 4\n",
        "- n_estimators = 200"
      ]
    },
    {
      "cell_type": "markdown",
      "metadata": {
        "id": "EcEKBOFetz1o",
        "colab_type": "text"
      },
      "source": [
        "**AUC Plot**"
      ]
    },
    {
      "cell_type": "code",
      "metadata": {
        "id": "NHsILtS-tz1p",
        "colab_type": "code",
        "colab": {}
      },
      "source": [
        "# probabilities calcultion\n",
        "xgb = XGBClassifier(learning_rate=0.07,max_depth=4,min_child_weight=4,n_estimators=200)\n",
        "xgb.fit(set2,y_train)\n",
        "y1_predict_prob = xgb.predict_proba(set2_t)[:,1]\n",
        "y1_predict_prob_train = xgb.predict_proba(set2)[:,1]\n",
        "\n",
        "# took referance from https://stackoverflow.com/questions/25009284/how-to-plot-roc-curve-in-python\n",
        "#fpr,tpr \n",
        "fpr,tpr,thre = roc_curve(y_test,y1_predict_prob)\n",
        "\n",
        "# am i doing it right here......?\n",
        "fpr_train,tpr_train,thre_train = roc_curve(y_train,y1_predict_prob_train)\n"
      ],
      "execution_count": 0,
      "outputs": []
    },
    {
      "cell_type": "code",
      "metadata": {
        "id": "S5-zYCI0tz1q",
        "colab_type": "code",
        "outputId": "44b801a4-3429-4c6a-b8e6-31d2c8c0af31",
        "colab": {
          "base_uri": "https://localhost:8080/",
          "height": 295
        }
      },
      "source": [
        "# auc calculation for test data\n",
        "roc_auc2 = metrics.auc(fpr,tpr)\n",
        "\n",
        "# auc calculation for train data\n",
        "roc_auc_train2 = metrics.auc(fpr_train,tpr_train)\n",
        "\n",
        "# took referance from https://stackoverflow.com/questions/25009284/how-to-plot-roc-curve-in-python\n",
        "plt.plot(fpr,tpr,\"b--\",label = 'AUC test = %0.2f'%roc_auc2)\n",
        "plt.plot(fpr_train,tpr_train,\"y--\",label = 'AUC train = %0.2f'%roc_auc_train2)\n",
        "plt.title(\"AUC plot\")\n",
        "plt.xlabel(\"False positive rate\")\n",
        "plt.ylabel(\"True positive rate\")\n",
        "plt.plot([0, 1], [0, 1],'r--')\n",
        "plt.xlim([0,1])\n",
        "plt.ylim([0,1])\n",
        "plt.legend(loc = \"lower right\")\n",
        "plt.show()"
      ],
      "execution_count": 0,
      "outputs": [
        {
          "output_type": "display_data",
          "data": {
            "image/png": "[encoded data removed]",
            "text/plain": [
              "<Figure size 432x288 with 1 Axes>"
            ]
          },
          "metadata": {
            "tags": []
          }
        }
      ]
    },
    {
      "cell_type": "markdown",
      "metadata": {
        "id": "LZJwYAf1tz1r",
        "colab_type": "text"
      },
      "source": [
        "**Confusion Matrix**"
      ]
    },
    {
      "cell_type": "code",
      "metadata": {
        "id": "A7_0hDx7tz1r",
        "colab_type": "code",
        "outputId": "fdbc66a6-0af4-4988-c18e-cbb24a84482c",
        "colab": {
          "base_uri": "https://localhost:8080/",
          "height": 312
        }
      },
      "source": [
        "y2_predict = xgb.predict(set2_t)\n",
        "cm2 = confusion_matrix(y_test,y2_predict)\n",
        "# https://seaborn.pydata.org/generated/seaborn.heatmap.html\n",
        "sns.heatmap(cm2, annot=True, fmt=\"d\")\n",
        "plt.ylabel(\"Actual Class\")\n",
        "plt.xlabel(\"Predicted Class\")\n",
        "plt.title(\"Confusion Matrix\")"
      ],
      "execution_count": 0,
      "outputs": [
        {
          "output_type": "execute_result",
          "data": {
            "text/plain": [
              "Text(0.5, 1.0, 'Confusion Matrix')"
            ]
          },
          "metadata": {
            "tags": []
          },
          "execution_count": 104
        },
        {
          "output_type": "display_data",
          "data": {
            "image/png": "[encoded data removed]",
            "text/plain": [
              "<Figure size 432x288 with 2 Axes>"
            ]
          },
          "metadata": {
            "tags": []
          }
        }
      ]
    },
    {
      "cell_type": "markdown",
      "metadata": {
        "id": "8W9Wpolvtz1t",
        "colab_type": "text"
      },
      "source": [
        "### SET3"
      ]
    },
    {
      "cell_type": "code",
      "metadata": {
        "id": "4nAXk-Ujtz1u",
        "colab_type": "code",
        "outputId": "51b90989-72de-4e89-f103-ce5c1498d864",
        "colab": {
          "base_uri": "https://localhost:8080/",
          "height": 85
        }
      },
      "source": [
        "train_auc = []\n",
        "cv_auc = []\n",
        "\n",
        "max_depth = [4,5,10,12]\n",
        "min_child_weight = [3,4,5]\n",
        "\n",
        "for i in max_depth:\n",
        "    train_temp = []\n",
        "    cv_temp = []\n",
        "    for j in min_child_weight:\n",
        "        xgb = XGBClassifier(learning_rate=0.07,max_depth=i,min_child_weight=j,n_estimators=100)\n",
        "        xgb.fit(set3,y_train)\n",
        "\n",
        "        y_train_pred = xgb.predict(set3)  \n",
        "        y_cv_pred = xgb.predict(set3_v)\n",
        "\n",
        "        # roc_auc_score(y_true, y_score) the 2nd parameter should be probability estimates of the positive class\n",
        "        # not the predicted outputs        \n",
        "        train_temp.append(roc_auc_score(y_train,y_train_pred))\n",
        "        cv_temp.append(roc_auc_score(y_val, y_cv_pred))\n",
        "    print(\"Completed = {}\".format(i))\n",
        "    train_auc.append(train_temp)\n",
        "    cv_auc.append(cv_temp)"
      ],
      "execution_count": 0,
      "outputs": [
        {
          "output_type": "stream",
          "text": [
            "Completed = 4\n",
            "Completed = 5\n",
            "Completed = 10\n",
            "Completed = 12\n"
          ],
          "name": "stdout"
        }
      ]
    },
    {
      "cell_type": "markdown",
      "metadata": {
        "id": "Cw0KsaKDtz1u",
        "colab_type": "text"
      },
      "source": [
        "**Heatmap**"
      ]
    },
    {
      "cell_type": "code",
      "metadata": {
        "id": "x9N_SLpwtz1v",
        "colab_type": "code",
        "outputId": "c014bc14-6e5f-48af-edb0-35ceeff205aa",
        "colab": {
          "base_uri": "https://localhost:8080/",
          "height": 296
        }
      },
      "source": [
        "Plot_heatmap(train_auc,\"Train Heatmap\")"
      ],
      "execution_count": 0,
      "outputs": [
        {
          "output_type": "display_data",
          "data": {
            "image/png": "[encoded data removed]",
            "text/plain": [
              "<Figure size 432x288 with 2 Axes>"
            ]
          },
          "metadata": {
            "tags": []
          }
        }
      ]
    },
    {
      "cell_type": "code",
      "metadata": {
        "id": "Kl323buVtz1w",
        "colab_type": "code",
        "outputId": "6d8c35ca-0cb0-4a0a-fd2d-9cc4882bb40d",
        "colab": {
          "base_uri": "https://localhost:8080/",
          "height": 296
        }
      },
      "source": [
        "Plot_heatmap(cv_auc,\"CV Heatmap\")"
      ],
      "execution_count": 0,
      "outputs": [
        {
          "output_type": "display_data",
          "data": {
            "image/png": "[encoded data removed]",
            "text/plain": [
              "<Figure size 432x288 with 2 Axes>"
            ]
          },
          "metadata": {
            "tags": []
          }
        }
      ]
    },
    {
      "cell_type": "markdown",
      "metadata": {
        "id": "yjge2lBxiCS5",
        "colab_type": "text"
      },
      "source": [
        "Best paramter found:\n",
        "- learning_rate = 0.07\n",
        "- max_depth = 4\n",
        "- min_child_weight = 4\n",
        "- n_estimators = 100"
      ]
    },
    {
      "cell_type": "markdown",
      "metadata": {
        "id": "2enBiefntz1x",
        "colab_type": "text"
      },
      "source": [
        "**AUC Plot**"
      ]
    },
    {
      "cell_type": "code",
      "metadata": {
        "id": "W6dtEZXqtz1x",
        "colab_type": "code",
        "colab": {}
      },
      "source": [
        "# probabilities calcultion\n",
        "xgb = XGBClassifier(learning_rate=0.07,max_depth=4,min_child_weight=4,n_estimators=100)\n",
        "xgb.fit(set3,y_train)\n",
        "y1_predict_prob = xgb.predict_proba(set3_t)[:,1]\n",
        "y1_predict_prob_train = xgb.predict_proba(set3)[:,1]\n",
        "\n",
        "# took referance from https://stackoverflow.com/questions/25009284/how-to-plot-roc-curve-in-python\n",
        "#fpr,tpr \n",
        "fpr,tpr,thre = roc_curve(y_test,y1_predict_prob)\n",
        "\n",
        "# am i doing it right here......?\n",
        "fpr_train,tpr_train,thre_train = roc_curve(y_train,y1_predict_prob_train)\n"
      ],
      "execution_count": 0,
      "outputs": []
    },
    {
      "cell_type": "code",
      "metadata": {
        "id": "IKQOtThDtz1z",
        "colab_type": "code",
        "outputId": "6e76bb39-baf4-43ba-f37c-2300da1a767c",
        "colab": {
          "base_uri": "https://localhost:8080/",
          "height": 295
        }
      },
      "source": [
        "# auc calculation for test data\n",
        "roc_auc3 = metrics.auc(fpr,tpr)\n",
        "\n",
        "# auc calculation for train data\n",
        "roc_auc_train3 = metrics.auc(fpr_train,tpr_train)\n",
        "\n",
        "# took referance from https://stackoverflow.com/questions/25009284/how-to-plot-roc-curve-in-python\n",
        "plt.plot(fpr,tpr,\"b--\",label = 'AUC test = %0.2f'%roc_auc3)\n",
        "plt.plot(fpr_train,tpr_train,\"y--\",label = 'AUC train = %0.2f'%roc_auc_train3)\n",
        "plt.title(\"AUC plot\")\n",
        "plt.xlabel(\"False positive rate\")\n",
        "plt.ylabel(\"True positive rate\")\n",
        "plt.plot([0, 1], [0, 1],'r--')\n",
        "plt.xlim([0,1])\n",
        "plt.ylim([0,1])\n",
        "plt.legend(loc = \"lower right\")\n",
        "plt.show()"
      ],
      "execution_count": 0,
      "outputs": [
        {
          "output_type": "display_data",
          "data": {
            "image/png": "[encoded data removed]",
            "text/plain": [
              "<Figure size 432x288 with 1 Axes>"
            ]
          },
          "metadata": {
            "tags": []
          }
        }
      ]
    },
    {
      "cell_type": "markdown",
      "metadata": {
        "id": "HAtTIjtRtz10",
        "colab_type": "text"
      },
      "source": [
        "**Confusion Matrix**"
      ]
    },
    {
      "cell_type": "code",
      "metadata": {
        "id": "MONvnLULtz10",
        "colab_type": "code",
        "outputId": "65ef3695-ee78-451d-b189-7679f8939c95",
        "colab": {
          "base_uri": "https://localhost:8080/",
          "height": 312
        }
      },
      "source": [
        "y3_predict = xgb.predict(set3_t)\n",
        "cm3 = confusion_matrix(y_test,y3_predict)\n",
        "# https://seaborn.pydata.org/generated/seaborn.heatmap.html\n",
        "sns.heatmap(cm3, annot=True, fmt=\"d\")\n",
        "plt.ylabel(\"Actual Class\")\n",
        "plt.xlabel(\"Predicted Class\")\n",
        "plt.title(\"Confusion Matrix\")"
      ],
      "execution_count": 0,
      "outputs": [
        {
          "output_type": "execute_result",
          "data": {
            "text/plain": [
              "Text(0.5, 1.0, 'Confusion Matrix')"
            ]
          },
          "metadata": {
            "tags": []
          },
          "execution_count": 114
        },
        {
          "output_type": "display_data",
          "data": {
            "image/png": "[encoded data removed]",
            "text/plain": [
              "<Figure size 432x288 with 2 Axes>"
            ]
          },
          "metadata": {
            "tags": []
          }
        }
      ]
    },
    {
      "cell_type": "markdown",
      "metadata": {
        "id": "-TwgpS_2tz11",
        "colab_type": "text"
      },
      "source": [
        "### Set 4"
      ]
    },
    {
      "cell_type": "code",
      "metadata": {
        "id": "5RYWIB5Htz11",
        "colab_type": "code",
        "outputId": "ead0a9ec-2510-4942-fb55-87d7bee5d09e",
        "colab": {
          "base_uri": "https://localhost:8080/",
          "height": 85
        }
      },
      "source": [
        "train_auc = []\n",
        "cv_auc = []\n",
        "\n",
        "max_depth = [4,5,10,12]\n",
        "min_child_weight = [3,4,5]\n",
        "\n",
        "for i in max_depth:\n",
        "    train_temp = []\n",
        "    cv_temp = []\n",
        "    for j in min_child_weight:\n",
        "        xgb = XGBClassifier(learning_rate=0.07,max_depth=4,min_child_weight=4,n_estimators=100)\n",
        "        xgb.fit(set4,y_train)\n",
        "\n",
        "        y_train_pred = xgb.predict(set4)  \n",
        "        y_cv_pred = xgb.predict(set4_v)\n",
        "\n",
        "        # roc_auc_score(y_true, y_score) the 2nd parameter should be probability estimates of the positive class\n",
        "        # not the predicted outputs        \n",
        "        train_temp.append(roc_auc_score(y_train,y_train_pred))\n",
        "        cv_temp.append(roc_auc_score(y_val, y_cv_pred))\n",
        "    print(\"Completed = {}\".format(i))\n",
        "    train_auc.append(train_temp)\n",
        "    cv_auc.append(cv_temp)"
      ],
      "execution_count": 0,
      "outputs": [
        {
          "output_type": "stream",
          "text": [
            "Completed = 4\n",
            "Completed = 5\n",
            "Completed = 10\n",
            "Completed = 12\n"
          ],
          "name": "stdout"
        }
      ]
    },
    {
      "cell_type": "markdown",
      "metadata": {
        "id": "3EuMp5Octz12",
        "colab_type": "text"
      },
      "source": [
        "**Heatmap**"
      ]
    },
    {
      "cell_type": "code",
      "metadata": {
        "id": "ZiIhxA-Ktz12",
        "colab_type": "code",
        "outputId": "ab5732ca-9980-4266-8cf1-a4793f94b796",
        "colab": {
          "base_uri": "https://localhost:8080/",
          "height": 296
        }
      },
      "source": [
        "Plot_heatmap(train_auc,\"Train Heatmap\")"
      ],
      "execution_count": 0,
      "outputs": [
        {
          "output_type": "display_data",
          "data": {
            "image/png": "[encoded data removed]",
            "text/plain": [
              "<Figure size 432x288 with 2 Axes>"
            ]
          },
          "metadata": {
            "tags": []
          }
        }
      ]
    },
    {
      "cell_type": "code",
      "metadata": {
        "id": "vTbSSDTOtz13",
        "colab_type": "code",
        "outputId": "ee373162-e977-43b2-d818-f59f49152e91",
        "colab": {
          "base_uri": "https://localhost:8080/",
          "height": 296
        }
      },
      "source": [
        "Plot_heatmap(cv_auc,\"CV Heatmap\")"
      ],
      "execution_count": 0,
      "outputs": [
        {
          "output_type": "display_data",
          "data": {
            "image/png": "[encoded data removed]",
            "text/plain": [
              "<Figure size 432x288 with 2 Axes>"
            ]
          },
          "metadata": {
            "tags": []
          }
        }
      ]
    },
    {
      "cell_type": "markdown",
      "metadata": {
        "id": "Mn1fKrs4iGIW",
        "colab_type": "text"
      },
      "source": [
        "Best paramter found:\n",
        "- learning_rate = 0.07\n",
        "- max_depth = 4\n",
        "- min_child_weight = 4\n",
        "- n_estimators = 100"
      ]
    },
    {
      "cell_type": "markdown",
      "metadata": {
        "id": "axXiW64ntz14",
        "colab_type": "text"
      },
      "source": [
        "**AUC Plot**"
      ]
    },
    {
      "cell_type": "code",
      "metadata": {
        "id": "Hvkww8sKtz14",
        "colab_type": "code",
        "colab": {}
      },
      "source": [
        "# probabilities calcultion\n",
        "xgb = XGBClassifier(learning_rate=0.07,max_depth=4,min_child_weight=4,n_estimators=100)\n",
        "xgb.fit(set4,y_train)\n",
        "y1_predict_prob = xgb.predict_proba(set4_t)[:,1]\n",
        "y1_predict_prob_train = xgb.predict_proba(set4)[:,1]\n",
        "\n",
        "# took referance from https://stackoverflow.com/questions/25009284/how-to-plot-roc-curve-in-python\n",
        "#fpr,tpr \n",
        "fpr,tpr,thre = roc_curve(y_test,y1_predict_prob)\n",
        "\n",
        "# am i doing it right here......?\n",
        "fpr_train,tpr_train,thre_train = roc_curve(y_train,y1_predict_prob_train)\n"
      ],
      "execution_count": 0,
      "outputs": []
    },
    {
      "cell_type": "code",
      "metadata": {
        "id": "D3S1-k7ktz15",
        "colab_type": "code",
        "outputId": "779c7cc7-d846-40f4-d85c-d97ced62c430",
        "colab": {
          "base_uri": "https://localhost:8080/",
          "height": 295
        }
      },
      "source": [
        "# auc calculation for test data\n",
        "roc_auc4 = metrics.auc(fpr,tpr)\n",
        "\n",
        "# auc calculation for train data\n",
        "roc_auc_train4 = metrics.auc(fpr_train,tpr_train)\n",
        "\n",
        "# took referance from https://stackoverflow.com/questions/25009284/how-to-plot-roc-curve-in-python\n",
        "plt.plot(fpr,tpr,\"b--\",label = 'AUC test = %0.2f'%roc_auc4)\n",
        "plt.plot(fpr_train,tpr_train,\"y--\",label = 'AUC train = %0.2f'%roc_auc_train4)\n",
        "plt.title(\"AUC plot\")\n",
        "plt.xlabel(\"False positive rate\")\n",
        "plt.ylabel(\"True positive rate\")\n",
        "plt.plot([0, 1], [0, 1],'r--')\n",
        "plt.xlim([0,1])\n",
        "plt.ylim([0,1])\n",
        "plt.legend(loc = \"lower right\")\n",
        "plt.show()"
      ],
      "execution_count": 0,
      "outputs": [
        {
          "output_type": "display_data",
          "data": {
            "image/png": "[encoded data removed]",
            "text/plain": [
              "<Figure size 432x288 with 1 Axes>"
            ]
          },
          "metadata": {
            "tags": []
          }
        }
      ]
    },
    {
      "cell_type": "markdown",
      "metadata": {
        "id": "XAOTZommhTjm",
        "colab_type": "text"
      },
      "source": [
        "**Confusion Matrix**"
      ]
    },
    {
      "cell_type": "code",
      "metadata": {
        "id": "EmCf9LV4hSVq",
        "colab_type": "code",
        "outputId": "40e6bad1-a91a-48ce-a2b9-7c6f6268f2a0",
        "colab": {
          "base_uri": "https://localhost:8080/",
          "height": 312
        }
      },
      "source": [
        "y4_predict = xgb.predict(set4_t)\n",
        "cm4 = confusion_matrix(y_test,y4_predict)\n",
        "# https://seaborn.pydata.org/generated/seaborn.heatmap.html\n",
        "sns.heatmap(cm4, annot=True, fmt=\"d\")\n",
        "plt.ylabel(\"Actual Class\")\n",
        "plt.xlabel(\"Predicted Class\")\n",
        "plt.title(\"Confusion Matrix\")"
      ],
      "execution_count": 0,
      "outputs": [
        {
          "output_type": "execute_result",
          "data": {
            "text/plain": [
              "Text(0.5, 1.0, 'Confusion Matrix')"
            ]
          },
          "metadata": {
            "tags": []
          },
          "execution_count": 123
        },
        {
          "output_type": "display_data",
          "data": {
            "image/png": "[encoded data removed]",
            "text/plain": [
              "<Figure size 432x288 with 2 Axes>"
            ]
          },
          "metadata": {
            "tags": []
          }
        }
      ]
    },
    {
      "cell_type": "markdown",
      "metadata": {
        "id": "WJzyNq_mtz18",
        "colab_type": "text"
      },
      "source": [
        "### Obseravtion:\n",
        "================\n",
        "\n",
        "1. **max_depth** found to be most important parameter in tuning xgboost\n",
        "2. For given max_depth and min_child_weight increase in n_estimators was leading to overfitting the model.\n",
        "3. Best results was found in case of TFIDF vectorizer.\n",
        "4. Tuning Avg-W2V and TFIDF-W2V took more time as compared to others.\n",
        "5. Best learning_rate of 0.07 was found for all the cases."
      ]
    },
    {
      "cell_type": "markdown",
      "metadata": {
        "id": "5xTufibNtz18",
        "colab_type": "text"
      },
      "source": [
        "### Summary"
      ]
    },
    {
      "cell_type": "code",
      "metadata": {
        "id": "oFqYfM5Rtz19",
        "colab_type": "code",
        "colab": {}
      },
      "source": [
        "from prettytable import PrettyTable\n",
        "summary = PrettyTable()"
      ],
      "execution_count": 0,
      "outputs": []
    },
    {
      "cell_type": "code",
      "metadata": {
        "id": "faRetfIYtz1-",
        "colab_type": "code",
        "colab": {}
      },
      "source": [
        "summary.field_names = [\"Set\", \"Vectorizer\", \"Model\", \"Hyperparameter\",\"Test\",\"Train\"]"
      ],
      "execution_count": 0,
      "outputs": []
    },
    {
      "cell_type": "code",
      "metadata": {
        "id": "cHzA3hIXtz1_",
        "colab_type": "code",
        "outputId": "9cf6a06b-076a-4408-f39a-5dd7d64682f3",
        "colab": {
          "base_uri": "https://localhost:8080/",
          "height": 153
        }
      },
      "source": [
        "summary.add_row([\"set1\",\"BOW\",\"XGBOOST\",\"lr = 0.07 ,max_depth = 5,min_child_weight = 4,n_estimators = 200\",\"%0.3f\"%roc_auc1,\"%0.3f\"%roc_auc_train1])\n",
        "summary.add_row([\"set2\",\"TFIDF\",\"XGBOOST\",\"lr = 0.07, max_depth=4,min_child_weight = 4,n_estimators=200\",\"%0.3f\"%roc_auc2,\"%0.3f\"%roc_auc_train2])\n",
        "summary.add_row([\"set3\",\"Avg-W2v\",\"XGBOOST\",\"lr = 0.07, max_depth=4,min_child_weight = 4,n_estimators=100\",\"%0.3f\"%roc_auc3,\"%0.3f\"%roc_auc_train3])\n",
        "summary.add_row([\"set4\",\"TFIDF W2V\",\"XGBOOST\",\"lr = 0.07, max_depth=4,min_child_weight = 4,n_estimators=200\",\"%0.3f\"%roc_auc4,\"%0.3f\"%roc_auc_train4])\n",
        "\n",
        "\n",
        "print(summary)"
      ],
      "execution_count": 0,
      "outputs": [
        {
          "output_type": "stream",
          "text": [
            "+------+------------+---------+------------------------------------------------------------------+-------+-------+\n",
            "| Set  | Vectorizer |  Model  |                          Hyperparameter                          |  Test | Train |\n",
            "+------+------------+---------+------------------------------------------------------------------+-------+-------+\n",
            "| set1 |    BOW     | XGBOOST | lr = 0.07 ,max_depth = 5,min_child_weight = 4,n_estimators = 200 | 0.758 | 0.862 |\n",
            "| set2 |   TFIDF    | XGBOOST |   lr = 0.07, max_depth=4,min_child_weight = 4,n_estimators=200   | 0.762 | 0.888 |\n",
            "| set3 |  Avg-W2v   | XGBOOST |   lr = 0.07, max_depth=4,min_child_weight = 4,n_estimators=100   | 0.748 | 0.876 |\n",
            "| set4 | TFIDF W2V  | XGBOOST |   lr = 0.07, max_depth=4,min_child_weight = 4,n_estimators=200   | 0.738 | 0.874 |\n",
            "+------+------------+---------+------------------------------------------------------------------+-------+-------+\n"
          ],
          "name": "stdout"
        }
      ]
    },
    {
      "cell_type": "code",
      "metadata": {
        "id": "LYB8YB3Vtz2B",
        "colab_type": "code",
        "colab": {}
      },
      "source": [
        ""
      ],
      "execution_count": 0,
      "outputs": []
    },
    {
      "cell_type": "code",
      "metadata": {
        "id": "dd_Dkzp3tz2C",
        "colab_type": "code",
        "colab": {}
      },
      "source": [
        ""
      ],
      "execution_count": 0,
      "outputs": []
    }
  ]
}